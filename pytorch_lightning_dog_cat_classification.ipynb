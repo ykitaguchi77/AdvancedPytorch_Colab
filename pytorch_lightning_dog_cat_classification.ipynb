{
  "cells": [
    {
      "cell_type": "markdown",
      "metadata": {
        "id": "view-in-github",
        "colab_type": "text"
      },
      "source": [
        "<a href=\"https://colab.research.google.com/github/ykitaguchi77/AdvancedPytorch_Colab/blob/master/pytorch_lightning_dog_cat_classification.ipynb\" target=\"_parent\"><img src=\"https://colab.research.google.com/assets/colab-badge.svg\" alt=\"Open In Colab\"/></a>"
      ]
    },
    {
      "cell_type": "code",
      "execution_count": 1,
      "metadata": {
        "colab": {
          "base_uri": "https://localhost:8080/"
        },
        "id": "oAV2qKPukpSD",
        "outputId": "27b18c9d-e98f-431a-fec5-28ddfa9b8488"
      },
      "outputs": [
        {
          "output_type": "stream",
          "name": "stdout",
          "text": [
            "\u001b[2K     \u001b[90m━━━━━━━━━━━━━━━━━━━━━━━━━━━━━━━━━━━━━━━━\u001b[0m \u001b[32m2.2/2.2 MB\u001b[0m \u001b[31m31.5 MB/s\u001b[0m eta \u001b[36m0:00:00\u001b[0m\n",
            "\u001b[2K     \u001b[90m━━━━━━━━━━━━━━━━━━━━━━━━━━━━━━━━━━━━━━━━\u001b[0m \u001b[32m302.0/302.0 kB\u001b[0m \u001b[31m35.2 MB/s\u001b[0m eta \u001b[36m0:00:00\u001b[0m\n",
            "\u001b[2K     \u001b[90m━━━━━━━━━━━━━━━━━━━━━━━━━━━━━━━━━━━━━━━━\u001b[0m \u001b[32m1.3/1.3 MB\u001b[0m \u001b[31m85.7 MB/s\u001b[0m eta \u001b[36m0:00:00\u001b[0m\n",
            "\u001b[?25h"
          ]
        },
        {
          "output_type": "execute_result",
          "data": {
            "text/plain": [
              "['\\x1b[?25l     \\x1b[90m━━━━━━━━━━━━━━━━━━━━━━━━━━━━━━━━━━━━━━━━\\x1b[0m \\x1b[32m0.0/774.6 kB\\x1b[0m \\x1b[31m?\\x1b[0m eta \\x1b[36m-:--:--\\x1b[0m',\n",
              " '\\x1b[2K     \\x1b[91m━━━\\x1b[0m\\x1b[90m╺\\x1b[0m\\x1b[90m━━━━━━━━━━━━━━━━━━━━━━━━━━━━━━━━━━━━\\x1b[0m \\x1b[32m61.4/774.6 kB\\x1b[0m \\x1b[31m2.0 MB/s\\x1b[0m eta \\x1b[36m0:00:01\\x1b[0m',\n",
              " '\\x1b[2K     \\x1b[91m━━━━━━━━━━━━━━━━━━\\x1b[0m\\x1b[91m╸\\x1b[0m\\x1b[90m━━━━━━━━━━━━━━━━━━━━━\\x1b[0m \\x1b[32m358.4/774.6 kB\\x1b[0m \\x1b[31m5.7 MB/s\\x1b[0m eta \\x1b[36m0:00:01\\x1b[0m',\n",
              " '\\x1b[2K     \\x1b[91m━━━━━━━━━━━━━━━━━━━━━━━━━━━━━━━━━━━━━━\\x1b[0m\\x1b[91m╸\\x1b[0m\\x1b[90m━\\x1b[0m \\x1b[32m747.5/774.6 kB\\x1b[0m \\x1b[31m7.4 MB/s\\x1b[0m eta \\x1b[36m0:00:01\\x1b[0m',\n",
              " '\\x1b[2K     \\x1b[90m━━━━━━━━━━━━━━━━━━━━━━━━━━━━━━━━━━━━━━━━\\x1b[0m \\x1b[32m774.6/774.6 kB\\x1b[0m \\x1b[31m6.7 MB/s\\x1b[0m eta \\x1b[36m0:00:00\\x1b[0m',\n",
              " '\\x1b[?25h\\x1b[?25l     \\x1b[90m━━━━━━━━━━━━━━━━━━━━━━━━━━━━━━━━━━━━━━━━\\x1b[0m \\x1b[32m0.0/805.2 kB\\x1b[0m \\x1b[31m?\\x1b[0m eta \\x1b[36m-:--:--\\x1b[0m',\n",
              " '\\x1b[2K     \\x1b[91m━━━━━━━━━━━━━━━━━━━━━━━━\\x1b[0m\\x1b[90m╺\\x1b[0m\\x1b[90m━━━━━━━━━━━━━━━\\x1b[0m \\x1b[32m491.5/805.2 kB\\x1b[0m \\x1b[31m15.3 MB/s\\x1b[0m eta \\x1b[36m0:00:01\\x1b[0m',\n",
              " '\\x1b[2K     \\x1b[90m━━━━━━━━━━━━━━━━━━━━━━━━━━━━━━━━━━━━━━━━\\x1b[0m \\x1b[32m805.2/805.2 kB\\x1b[0m \\x1b[31m12.1 MB/s\\x1b[0m eta \\x1b[36m0:00:00\\x1b[0m',\n",
              " '\\x1b[?25h']"
            ]
          },
          "metadata": {},
          "execution_count": 1
        }
      ],
      "source": [
        "!pip install timm --q\n",
        "!pip install icrawler --q\n",
        "!!pip install pytorch-lightning --q"
      ]
    },
    {
      "cell_type": "code",
      "execution_count": 34,
      "metadata": {
        "id": "Fb41GcW_ktoC"
      },
      "outputs": [],
      "source": [
        "import torch\n",
        "import timm\n",
        "import numpy as np\n",
        "from icrawler.builtin import GoogleImageCrawler\n",
        "from icrawler.builtin import BingImageCrawler\n",
        "import os\n",
        "import shutil\n",
        "\n",
        "from torch.utils.data import DataLoader\n",
        "\n",
        "import pytorch_lightning as pl\n",
        "from sklearn.metrics import confusion_matrix, accuracy_score, recall_score, precision_score, f1_score"
      ]
    },
    {
      "cell_type": "markdown",
      "metadata": {
        "id": "kizu2mn9lHvq"
      },
      "source": [
        "# 画像を取得する"
      ]
    },
    {
      "cell_type": "code",
      "execution_count": 38,
      "metadata": {
        "colab": {
          "base_uri": "https://localhost:8080/"
        },
        "id": "UV92v8KWk33J",
        "outputId": "69c9a332-b954-4236-dbfc-fdfd7c96918b"
      },
      "outputs": [
        {
          "output_type": "stream",
          "name": "stderr",
          "text": [
            "ERROR:downloader:Exception caught when downloading file http://wallpaper.1000webgames.com/wallpapers/lhasa_apso_dog_wallpaper-1024x768.jpg, error: HTTPConnectionPool(host='wallpaper.1000webgames.com', port=80): Max retries exceeded with url: /wallpapers/lhasa_apso_dog_wallpaper-1024x768.jpg (Caused by NameResolutionError(\"<urllib3.connection.HTTPConnection object at 0x7ec10446c4f0>: Failed to resolve 'wallpaper.1000webgames.com' ([Errno -2] Name or service not known)\")), remaining retry times: 2\n",
            "ERROR:downloader:Exception caught when downloading file http://wallpaper.1000webgames.com/wallpapers/lhasa_apso_dog_wallpaper-1024x768.jpg, error: HTTPConnectionPool(host='wallpaper.1000webgames.com', port=80): Max retries exceeded with url: /wallpapers/lhasa_apso_dog_wallpaper-1024x768.jpg (Caused by NameResolutionError(\"<urllib3.connection.HTTPConnection object at 0x7ec10446c1f0>: Failed to resolve 'wallpaper.1000webgames.com' ([Errno -2] Name or service not known)\")), remaining retry times: 1\n",
            "ERROR:downloader:Exception caught when downloading file http://wallpaper.1000webgames.com/wallpapers/lhasa_apso_dog_wallpaper-1024x768.jpg, error: HTTPConnectionPool(host='wallpaper.1000webgames.com', port=80): Max retries exceeded with url: /wallpapers/lhasa_apso_dog_wallpaper-1024x768.jpg (Caused by NameResolutionError(\"<urllib3.connection.HTTPConnection object at 0x7ec10423ca60>: Failed to resolve 'wallpaper.1000webgames.com' ([Errno -2] Name or service not known)\")), remaining retry times: 0\n",
            "ERROR:downloader:Exception caught when downloading file https://www.hdnicewallpapers.com/Walls/Big/Dog/Cute_Dog_Wallpaper_Collection.jpg, error: HTTPSConnectionPool(host='www.hdnicewallpapers.com', port=443): Max retries exceeded with url: /Walls/Big/Dog/Cute_Dog_Wallpaper_Collection.jpg (Caused by SSLError(SSLCertVerificationError(1, \"[SSL: CERTIFICATE_VERIFY_FAILED] certificate verify failed: Hostname mismatch, certificate is not valid for 'www.hdnicewallpapers.com'. (_ssl.c:1007)\"))), remaining retry times: 2\n",
            "ERROR:downloader:Exception caught when downloading file https://www.hdnicewallpapers.com/Walls/Big/Dog/Cute_Dog_Wallpaper_Collection.jpg, error: HTTPSConnectionPool(host='www.hdnicewallpapers.com', port=443): Max retries exceeded with url: /Walls/Big/Dog/Cute_Dog_Wallpaper_Collection.jpg (Caused by SSLError(SSLCertVerificationError(1, \"[SSL: CERTIFICATE_VERIFY_FAILED] certificate verify failed: Hostname mismatch, certificate is not valid for 'www.hdnicewallpapers.com'. (_ssl.c:1007)\"))), remaining retry times: 1\n",
            "ERROR:downloader:Exception caught when downloading file https://www.hdnicewallpapers.com/Walls/Big/Dog/Cute_Dog_Wallpaper_Collection.jpg, error: HTTPSConnectionPool(host='www.hdnicewallpapers.com', port=443): Max retries exceeded with url: /Walls/Big/Dog/Cute_Dog_Wallpaper_Collection.jpg (Caused by SSLError(SSLCertVerificationError(1, \"[SSL: CERTIFICATE_VERIFY_FAILED] certificate verify failed: Hostname mismatch, certificate is not valid for 'www.hdnicewallpapers.com'. (_ssl.c:1007)\"))), remaining retry times: 0\n",
            "ERROR:downloader:Exception caught when downloading file http://wallpaper.1000webgames.com/wallpapers/funny_pomeranian_dog_wallpaper-1600x1200.jpg, error: HTTPConnectionPool(host='wallpaper.1000webgames.com', port=80): Max retries exceeded with url: /wallpapers/funny_pomeranian_dog_wallpaper-1600x1200.jpg (Caused by NameResolutionError(\"<urllib3.connection.HTTPConnection object at 0x7ec1043406a0>: Failed to resolve 'wallpaper.1000webgames.com' ([Errno -2] Name or service not known)\")), remaining retry times: 2\n",
            "ERROR:downloader:Exception caught when downloading file http://wallpaper.1000webgames.com/wallpapers/funny_pomeranian_dog_wallpaper-1600x1200.jpg, error: HTTPConnectionPool(host='wallpaper.1000webgames.com', port=80): Max retries exceeded with url: /wallpapers/funny_pomeranian_dog_wallpaper-1600x1200.jpg (Caused by NameResolutionError(\"<urllib3.connection.HTTPConnection object at 0x7ec100790f70>: Failed to resolve 'wallpaper.1000webgames.com' ([Errno -2] Name or service not known)\")), remaining retry times: 1\n",
            "ERROR:downloader:Exception caught when downloading file http://wallpaper.1000webgames.com/wallpapers/funny_pomeranian_dog_wallpaper-1600x1200.jpg, error: HTTPConnectionPool(host='wallpaper.1000webgames.com', port=80): Max retries exceeded with url: /wallpapers/funny_pomeranian_dog_wallpaper-1600x1200.jpg (Caused by NameResolutionError(\"<urllib3.connection.HTTPConnection object at 0x7ec1006b3e20>: Failed to resolve 'wallpaper.1000webgames.com' ([Errno -2] Name or service not known)\")), remaining retry times: 0\n",
            "ERROR:downloader:Exception caught when downloading file https://di7dud5r8j0ls.cloudfront.net/fit-in/1280x853/wordpress/wp-content/uploads/2018/05/kc-reg-coated-mexican-hairless-male-puppy-58d6b6eeb47fa.jpg, error: HTTPSConnectionPool(host='di7dud5r8j0ls.cloudfront.net', port=443): Max retries exceeded with url: /fit-in/1280x853/wordpress/wp-content/uploads/2018/05/kc-reg-coated-mexican-hairless-male-puppy-58d6b6eeb47fa.jpg (Caused by NameResolutionError(\"<urllib3.connection.HTTPSConnection object at 0x7ec10078ad10>: Failed to resolve 'di7dud5r8j0ls.cloudfront.net' ([Errno -5] No address associated with hostname)\")), remaining retry times: 2\n",
            "ERROR:downloader:Exception caught when downloading file https://di7dud5r8j0ls.cloudfront.net/fit-in/1280x853/wordpress/wp-content/uploads/2018/05/kc-reg-coated-mexican-hairless-male-puppy-58d6b6eeb47fa.jpg, error: HTTPSConnectionPool(host='di7dud5r8j0ls.cloudfront.net', port=443): Max retries exceeded with url: /fit-in/1280x853/wordpress/wp-content/uploads/2018/05/kc-reg-coated-mexican-hairless-male-puppy-58d6b6eeb47fa.jpg (Caused by NameResolutionError(\"<urllib3.connection.HTTPSConnection object at 0x7ec100531a20>: Failed to resolve 'di7dud5r8j0ls.cloudfront.net' ([Errno -5] No address associated with hostname)\")), remaining retry times: 1\n",
            "ERROR:downloader:Exception caught when downloading file https://di7dud5r8j0ls.cloudfront.net/fit-in/1280x853/wordpress/wp-content/uploads/2018/05/kc-reg-coated-mexican-hairless-male-puppy-58d6b6eeb47fa.jpg, error: HTTPSConnectionPool(host='di7dud5r8j0ls.cloudfront.net', port=443): Max retries exceeded with url: /fit-in/1280x853/wordpress/wp-content/uploads/2018/05/kc-reg-coated-mexican-hairless-male-puppy-58d6b6eeb47fa.jpg (Caused by NameResolutionError(\"<urllib3.connection.HTTPSConnection object at 0x7ec1005324a0>: Failed to resolve 'di7dud5r8j0ls.cloudfront.net' ([Errno -5] No address associated with hostname)\")), remaining retry times: 0\n",
            "ERROR:downloader:Exception caught when downloading file http://wallpaper.1000webgames.com/wallpapers/fox_terrier_dog_wallpaper-1024x768.jpg, error: HTTPConnectionPool(host='wallpaper.1000webgames.com', port=80): Max retries exceeded with url: /wallpapers/fox_terrier_dog_wallpaper-1024x768.jpg (Caused by NameResolutionError(\"<urllib3.connection.HTTPConnection object at 0x7ec10078b040>: Failed to resolve 'wallpaper.1000webgames.com' ([Errno -2] Name or service not known)\")), remaining retry times: 2\n",
            "ERROR:downloader:Exception caught when downloading file http://wallpaper.1000webgames.com/wallpapers/fox_terrier_dog_wallpaper-1024x768.jpg, error: HTTPConnectionPool(host='wallpaper.1000webgames.com', port=80): Max retries exceeded with url: /wallpapers/fox_terrier_dog_wallpaper-1024x768.jpg (Caused by NameResolutionError(\"<urllib3.connection.HTTPConnection object at 0x7ec1005327d0>: Failed to resolve 'wallpaper.1000webgames.com' ([Errno -2] Name or service not known)\")), remaining retry times: 1\n",
            "ERROR:downloader:Exception caught when downloading file http://wallpaper.1000webgames.com/wallpapers/fox_terrier_dog_wallpaper-1024x768.jpg, error: HTTPConnectionPool(host='wallpaper.1000webgames.com', port=80): Max retries exceeded with url: /wallpapers/fox_terrier_dog_wallpaper-1024x768.jpg (Caused by NameResolutionError(\"<urllib3.connection.HTTPConnection object at 0x7ec100533610>: Failed to resolve 'wallpaper.1000webgames.com' ([Errno -2] Name or service not known)\")), remaining retry times: 0\n",
            "ERROR:downloader:Exception caught when downloading file http://wallpaper.1000webgames.com/wallpapers/poodle_dog_desktop_wallpaper-1280x1024.jpg, error: HTTPConnectionPool(host='wallpaper.1000webgames.com', port=80): Max retries exceeded with url: /wallpapers/poodle_dog_desktop_wallpaper-1280x1024.jpg (Caused by NameResolutionError(\"<urllib3.connection.HTTPConnection object at 0x7ec10078b040>: Failed to resolve 'wallpaper.1000webgames.com' ([Errno -2] Name or service not known)\")), remaining retry times: 2\n",
            "ERROR:downloader:Exception caught when downloading file http://wallpaper.1000webgames.com/wallpapers/poodle_dog_desktop_wallpaper-1280x1024.jpg, error: HTTPConnectionPool(host='wallpaper.1000webgames.com', port=80): Max retries exceeded with url: /wallpapers/poodle_dog_desktop_wallpaper-1280x1024.jpg (Caused by NameResolutionError(\"<urllib3.connection.HTTPConnection object at 0x7ec1007884c0>: Failed to resolve 'wallpaper.1000webgames.com' ([Errno -2] Name or service not known)\")), remaining retry times: 1\n",
            "ERROR:downloader:Exception caught when downloading file http://wallpaper.1000webgames.com/wallpapers/poodle_dog_desktop_wallpaper-1280x1024.jpg, error: HTTPConnectionPool(host='wallpaper.1000webgames.com', port=80): Max retries exceeded with url: /wallpapers/poodle_dog_desktop_wallpaper-1280x1024.jpg (Caused by NameResolutionError(\"<urllib3.connection.HTTPConnection object at 0x7ec10078a050>: Failed to resolve 'wallpaper.1000webgames.com' ([Errno -2] Name or service not known)\")), remaining retry times: 0\n",
            "ERROR:downloader:Exception caught when downloading file http://wallpaper.1000webgames.com/wallpapers/rottweiler_dog_wallpaper_white-1600x1200.jpg, error: HTTPConnectionPool(host='wallpaper.1000webgames.com', port=80): Max retries exceeded with url: /wallpapers/rottweiler_dog_wallpaper_white-1600x1200.jpg (Caused by NameResolutionError(\"<urllib3.connection.HTTPConnection object at 0x7ec1006b30a0>: Failed to resolve 'wallpaper.1000webgames.com' ([Errno -2] Name or service not known)\")), remaining retry times: 2\n",
            "ERROR:downloader:Exception caught when downloading file http://wallpaper.1000webgames.com/wallpapers/rottweiler_dog_wallpaper_white-1600x1200.jpg, error: HTTPConnectionPool(host='wallpaper.1000webgames.com', port=80): Max retries exceeded with url: /wallpapers/rottweiler_dog_wallpaper_white-1600x1200.jpg (Caused by NameResolutionError(\"<urllib3.connection.HTTPConnection object at 0x7ec100533760>: Failed to resolve 'wallpaper.1000webgames.com' ([Errno -2] Name or service not known)\")), remaining retry times: 1\n",
            "ERROR:downloader:Exception caught when downloading file http://wallpaper.1000webgames.com/wallpapers/rottweiler_dog_wallpaper_white-1600x1200.jpg, error: HTTPConnectionPool(host='wallpaper.1000webgames.com', port=80): Max retries exceeded with url: /wallpapers/rottweiler_dog_wallpaper_white-1600x1200.jpg (Caused by NameResolutionError(\"<urllib3.connection.HTTPConnection object at 0x7ec1006b3310>: Failed to resolve 'wallpaper.1000webgames.com' ([Errno -2] Name or service not known)\")), remaining retry times: 0\n",
            "ERROR:downloader:Response status code 404, file http://d.ibtimes.co.uk/en/full/380140/dogs.jpg\n",
            "ERROR:downloader:Exception caught when downloading file http://cdn0.wideopenspaces.com/wp-content/uploads/2015/05/bigstock-hunting-dog-with-a-catch-16119506.jpg, error: HTTPSConnectionPool(host='cdn0.wideopenspaces.com', port=443): Read timed out. (read timeout=5), remaining retry times: 2\n",
            "ERROR:downloader:Exception caught when downloading file http://cdn0.wideopenspaces.com/wp-content/uploads/2015/05/bigstock-hunting-dog-with-a-catch-16119506.jpg, error: HTTPSConnectionPool(host='cdn0.wideopenspaces.com', port=443): Read timed out. (read timeout=5), remaining retry times: 1\n",
            "ERROR:downloader:Exception caught when downloading file http://cdn0.wideopenspaces.com/wp-content/uploads/2015/05/bigstock-hunting-dog-with-a-catch-16119506.jpg, error: HTTPSConnectionPool(host='cdn0.wideopenspaces.com', port=443): Read timed out. (read timeout=5), remaining retry times: 0\n",
            "ERROR:downloader:Response status code 403, file https://postmediatorontosun.files.wordpress.com/2017/11/dog1000.jpg\n",
            "ERROR:downloader:Exception caught when downloading file http://wallpaper.1000webgames.com/wallpapers/havanese_dog_desktop_wallpaper-1680x1050.jpg, error: HTTPConnectionPool(host='wallpaper.1000webgames.com', port=80): Max retries exceeded with url: /wallpapers/havanese_dog_desktop_wallpaper-1680x1050.jpg (Caused by NameResolutionError(\"<urllib3.connection.HTTPConnection object at 0x7ec100532980>: Failed to resolve 'wallpaper.1000webgames.com' ([Errno -2] Name or service not known)\")), remaining retry times: 2\n",
            "ERROR:downloader:Exception caught when downloading file http://wallpaper.1000webgames.com/wallpapers/havanese_dog_desktop_wallpaper-1680x1050.jpg, error: HTTPConnectionPool(host='wallpaper.1000webgames.com', port=80): Max retries exceeded with url: /wallpapers/havanese_dog_desktop_wallpaper-1680x1050.jpg (Caused by NameResolutionError(\"<urllib3.connection.HTTPConnection object at 0x7ec10067c820>: Failed to resolve 'wallpaper.1000webgames.com' ([Errno -2] Name or service not known)\")), remaining retry times: 1\n",
            "ERROR:downloader:Exception caught when downloading file http://wallpaper.1000webgames.com/wallpapers/havanese_dog_desktop_wallpaper-1680x1050.jpg, error: HTTPConnectionPool(host='wallpaper.1000webgames.com', port=80): Max retries exceeded with url: /wallpapers/havanese_dog_desktop_wallpaper-1680x1050.jpg (Caused by NameResolutionError(\"<urllib3.connection.HTTPConnection object at 0x7ec10067c790>: Failed to resolve 'wallpaper.1000webgames.com' ([Errno -2] Name or service not known)\")), remaining retry times: 0\n",
            "ERROR:downloader:Response status code 403, file https://img.rawpixel.com/s3fs-private/rawpixel_images/website_content/upwk62056449-wikimedia-image.jpg\n",
            "ERROR:downloader:Response status code 404, file https://data1.ibtimes.co.in/en/full/599085/dog-rape-india.jpg\n"
          ]
        }
      ],
      "source": [
        "crawler = BingImageCrawler(\n",
        "    storage={'root_dir': 'images/dog'})\n",
        "crawler.crawl(keyword='dog', max_num=300)"
      ]
    },
    {
      "cell_type": "code",
      "execution_count": 39,
      "metadata": {
        "colab": {
          "base_uri": "https://localhost:8080/"
        },
        "id": "LVudPbYYlGYe",
        "outputId": "b2075e4d-f3c0-42ab-989d-2356357f1a54"
      },
      "outputs": [
        {
          "output_type": "stream",
          "name": "stderr",
          "text": [
            "ERROR:downloader:Response status code 404, file https://novacatclinic.com/wp-content/uploads/2019/03/IMG_8668.jpg\n",
            "ERROR:downloader:Response status code 403, file https://external-preview.redd.it/i5CeFNrTceC57C_VKC8yT7eXN7iY0M7c4oI9JOJ1nFg.jpg\n",
            "ERROR:downloader:Response status code 403, file https://data.whicdn.com/images/338786605/original.jpg\n",
            "ERROR:downloader:Exception caught when downloading file https://serik.red/images/cat.jpg, error: HTTPSConnectionPool(host='serik.red', port=443): Max retries exceeded with url: /images/cat.jpg (Caused by ConnectTimeoutError(<urllib3.connection.HTTPSConnection object at 0x7ec10172b310>, 'Connection to serik.red timed out. (connect timeout=5)')), remaining retry times: 2\n",
            "ERROR:downloader:Exception caught when downloading file https://serik.red/images/cat.jpg, error: HTTPSConnectionPool(host='serik.red', port=443): Max retries exceeded with url: /images/cat.jpg (Caused by ConnectTimeoutError(<urllib3.connection.HTTPSConnection object at 0x7ec104364610>, 'Connection to serik.red timed out. (connect timeout=5)')), remaining retry times: 1\n",
            "ERROR:downloader:Exception caught when downloading file https://serik.red/images/cat.jpg, error: HTTPSConnectionPool(host='serik.red', port=443): Max retries exceeded with url: /images/cat.jpg (Caused by ConnectTimeoutError(<urllib3.connection.HTTPSConnection object at 0x7ec104367670>, 'Connection to serik.red timed out. (connect timeout=5)')), remaining retry times: 0\n",
            "ERROR:downloader:Exception caught when downloading file http://wallpaper.1000webgames.com/wallpapers/russian_blue_cat_wallpaper-1024x768.jpg, error: HTTPConnectionPool(host='wallpaper.1000webgames.com', port=80): Max retries exceeded with url: /wallpapers/russian_blue_cat_wallpaper-1024x768.jpg (Caused by NameResolutionError(\"<urllib3.connection.HTTPConnection object at 0x7ec101728c10>: Failed to resolve 'wallpaper.1000webgames.com' ([Errno -2] Name or service not known)\")), remaining retry times: 2\n",
            "ERROR:downloader:Exception caught when downloading file http://wallpaper.1000webgames.com/wallpapers/russian_blue_cat_wallpaper-1024x768.jpg, error: HTTPConnectionPool(host='wallpaper.1000webgames.com', port=80): Max retries exceeded with url: /wallpapers/russian_blue_cat_wallpaper-1024x768.jpg (Caused by NameResolutionError(\"<urllib3.connection.HTTPConnection object at 0x7ec1042d9750>: Failed to resolve 'wallpaper.1000webgames.com' ([Errno -2] Name or service not known)\")), remaining retry times: 1\n",
            "ERROR:downloader:Exception caught when downloading file http://wallpaper.1000webgames.com/wallpapers/russian_blue_cat_wallpaper-1024x768.jpg, error: HTTPConnectionPool(host='wallpaper.1000webgames.com', port=80): Max retries exceeded with url: /wallpapers/russian_blue_cat_wallpaper-1024x768.jpg (Caused by NameResolutionError(\"<urllib3.connection.HTTPConnection object at 0x7ec1042d95d0>: Failed to resolve 'wallpaper.1000webgames.com' ([Errno -2] Name or service not known)\")), remaining retry times: 0\n",
            "ERROR:downloader:Exception caught when downloading file http://www4.pictures.zimbio.com/mp/v6KPMp-kzfbx.jpg, error: HTTPConnectionPool(host='www4.pictures.zimbio.com', port=80): Max retries exceeded with url: /mp/v6KPMp-kzfbx.jpg (Caused by NameResolutionError(\"<urllib3.connection.HTTPConnection object at 0x7ec1015f6d70>: Failed to resolve 'www4.pictures.zimbio.com' ([Errno -2] Name or service not known)\")), remaining retry times: 2\n",
            "ERROR:downloader:Exception caught when downloading file http://www4.pictures.zimbio.com/mp/v6KPMp-kzfbx.jpg, error: HTTPConnectionPool(host='www4.pictures.zimbio.com', port=80): Max retries exceeded with url: /mp/v6KPMp-kzfbx.jpg (Caused by NameResolutionError(\"<urllib3.connection.HTTPConnection object at 0x7ec1043649a0>: Failed to resolve 'www4.pictures.zimbio.com' ([Errno -2] Name or service not known)\")), remaining retry times: 1\n",
            "ERROR:downloader:Exception caught when downloading file http://www4.pictures.zimbio.com/mp/v6KPMp-kzfbx.jpg, error: HTTPConnectionPool(host='www4.pictures.zimbio.com', port=80): Max retries exceeded with url: /mp/v6KPMp-kzfbx.jpg (Caused by NameResolutionError(\"<urllib3.connection.HTTPConnection object at 0x7ec104394940>: Failed to resolve 'www4.pictures.zimbio.com' ([Errno -2] Name or service not known)\")), remaining retry times: 0\n",
            "ERROR:downloader:Exception caught when downloading file http://wallpaper.1000webgames.com/wallpapers/mean_angry_cat_pc_wallpaper-1920x1200.jpg, error: HTTPConnectionPool(host='wallpaper.1000webgames.com', port=80): Max retries exceeded with url: /wallpapers/mean_angry_cat_pc_wallpaper-1920x1200.jpg (Caused by NameResolutionError(\"<urllib3.connection.HTTPConnection object at 0x7ec10172b0a0>: Failed to resolve 'wallpaper.1000webgames.com' ([Errno -2] Name or service not known)\")), remaining retry times: 2\n",
            "ERROR:downloader:Exception caught when downloading file http://wallpaper.1000webgames.com/wallpapers/mean_angry_cat_pc_wallpaper-1920x1200.jpg, error: HTTPConnectionPool(host='wallpaper.1000webgames.com', port=80): Max retries exceeded with url: /wallpapers/mean_angry_cat_pc_wallpaper-1920x1200.jpg (Caused by NameResolutionError(\"<urllib3.connection.HTTPConnection object at 0x7ec104397b80>: Failed to resolve 'wallpaper.1000webgames.com' ([Errno -2] Name or service not known)\")), remaining retry times: 1\n",
            "ERROR:downloader:Exception caught when downloading file http://wallpaper.1000webgames.com/wallpapers/mean_angry_cat_pc_wallpaper-1920x1200.jpg, error: HTTPConnectionPool(host='wallpaper.1000webgames.com', port=80): Max retries exceeded with url: /wallpapers/mean_angry_cat_pc_wallpaper-1920x1200.jpg (Caused by NameResolutionError(\"<urllib3.connection.HTTPConnection object at 0x7ec104397820>: Failed to resolve 'wallpaper.1000webgames.com' ([Errno -2] Name or service not known)\")), remaining retry times: 0\n",
            "ERROR:downloader:Exception caught when downloading file http://wallpaper.1000webgames.com/wallpapers/black_cat_wallpaper-800x600.jpg, error: HTTPConnectionPool(host='wallpaper.1000webgames.com', port=80): Max retries exceeded with url: /wallpapers/black_cat_wallpaper-800x600.jpg (Caused by NameResolutionError(\"<urllib3.connection.HTTPConnection object at 0x7ec10172b280>: Failed to resolve 'wallpaper.1000webgames.com' ([Errno -2] Name or service not known)\")), remaining retry times: 2\n",
            "ERROR:downloader:Exception caught when downloading file http://wallpaper.1000webgames.com/wallpapers/black_cat_wallpaper-800x600.jpg, error: HTTPConnectionPool(host='wallpaper.1000webgames.com', port=80): Max retries exceeded with url: /wallpapers/black_cat_wallpaper-800x600.jpg (Caused by NameResolutionError(\"<urllib3.connection.HTTPConnection object at 0x7ec1042d8850>: Failed to resolve 'wallpaper.1000webgames.com' ([Errno -2] Name or service not known)\")), remaining retry times: 1\n",
            "ERROR:downloader:Exception caught when downloading file http://wallpaper.1000webgames.com/wallpapers/black_cat_wallpaper-800x600.jpg, error: HTTPConnectionPool(host='wallpaper.1000webgames.com', port=80): Max retries exceeded with url: /wallpapers/black_cat_wallpaper-800x600.jpg (Caused by NameResolutionError(\"<urllib3.connection.HTTPConnection object at 0x7ec1042d8580>: Failed to resolve 'wallpaper.1000webgames.com' ([Errno -2] Name or service not known)\")), remaining retry times: 0\n"
          ]
        }
      ],
      "source": [
        "crawler = BingImageCrawler(\n",
        "    storage={'root_dir': 'images/cat'})\n",
        "crawler.crawl(keyword='cat', max_num=300)"
      ]
    },
    {
      "cell_type": "code",
      "source": [
        "import os\n",
        "import shutil\n",
        "\n",
        "def remove_if_exists(path):\n",
        "    \"\"\"指定されたパスが存在する場合に削除する\"\"\"\n",
        "    if os.path.exists(path):\n",
        "        shutil.rmtree(path)\n",
        "\n",
        "def create_folders(base_path):\n",
        "    \"\"\"必要なフォルダ構造を作成する\"\"\"\n",
        "    folders_to_create = [\n",
        "        'train/cat', 'train/dog',\n",
        "        'valid/cat', 'valid/dog',\n",
        "        'test/cat', 'test/dog'\n",
        "    ]\n",
        "\n",
        "    for folder in folders_to_create:\n",
        "        os.makedirs(os.path.join(base_path, folder), exist_ok=True)\n",
        "\n",
        "def split_images_into_folders(base_path, class_name, ratio=(0.7, 0.2, 0.1)):\n",
        "    \"\"\"画像を指定の比率で分割する\"\"\"\n",
        "    image_list = os.listdir(os.path.join(base_path, class_name))\n",
        "    total_images = len(image_list)\n",
        "\n",
        "    train_count = int(total_images * ratio[0])\n",
        "    valid_count = int(total_images * ratio[1])\n",
        "\n",
        "    train_images = image_list[:train_count]\n",
        "    valid_images = image_list[train_count:train_count + valid_count]\n",
        "    test_images = image_list[train_count + valid_count:]\n",
        "\n",
        "    for image in train_images:\n",
        "        shutil.copy(os.path.join(base_path, class_name, image), os.path.join(base_path, 'train', class_name))\n",
        "\n",
        "    for image in valid_images:\n",
        "        shutil.copy(os.path.join(base_path, class_name, image), os.path.join(base_path, 'valid', class_name))\n",
        "\n",
        "    for image in test_images:\n",
        "        shutil.copy(os.path.join(base_path, class_name, image), os.path.join(base_path, 'test', class_name))\n",
        "\n",
        "def print_image_counts(base_path):\n",
        "    \"\"\"それぞれのフォルダ内の画像数を表示する\"\"\"\n",
        "    folders_to_check = [\n",
        "        'train/cat', 'train/dog',\n",
        "        'valid/cat', 'valid/dog',\n",
        "        'test/cat', 'test/dog'\n",
        "    ]\n",
        "\n",
        "    for folder in folders_to_check:\n",
        "        image_count = len(os.listdir(os.path.join(base_path, folder)))\n",
        "        print(f\"{folder}: {image_count} images\")\n",
        "\n",
        "# 既存のフォルダを削除\n",
        "base_path = 'images'\n",
        "remove_if_exists(os.path.join(base_path, 'train'))\n",
        "remove_if_exists(os.path.join(base_path, 'valid'))\n",
        "remove_if_exists(os.path.join(base_path, 'test'))\n",
        "\n",
        "# フォルダ構造を作成\n",
        "create_folders(base_path)\n",
        "\n",
        "# 画像を分割\n",
        "split_images_into_folders(base_path, 'cat')\n",
        "split_images_into_folders(base_path, 'dog')\n",
        "\n",
        "# 画像数を一覧表示\n",
        "print_image_counts(base_path)\n"
      ],
      "metadata": {
        "id": "BQLOvt0BjJkE",
        "outputId": "a2b7cf7f-1fac-40aa-96c3-254d40f212b1",
        "colab": {
          "base_uri": "https://localhost:8080/"
        }
      },
      "execution_count": 42,
      "outputs": [
        {
          "output_type": "stream",
          "name": "stdout",
          "text": [
            "train/cat: 161 images\n",
            "train/dog: 159 images\n",
            "valid/cat: 46 images\n",
            "valid/dog: 45 images\n",
            "test/cat: 24 images\n",
            "test/dog: 24 images\n"
          ]
        }
      ]
    },
    {
      "cell_type": "code",
      "execution_count": null,
      "metadata": {
        "id": "TCpLGZUwsM8Z"
      },
      "outputs": [],
      "source": [
        "!ls -lR images"
      ]
    },
    {
      "cell_type": "markdown",
      "metadata": {
        "id": "NXHtq-bhsO5a"
      },
      "source": [
        "# データローダ・データセットの作成"
      ]
    },
    {
      "cell_type": "code",
      "execution_count": 43,
      "metadata": {
        "id": "p3vsCzDtleww"
      },
      "outputs": [],
      "source": [
        "from timm.data import create_dataset, create_loader\n",
        "from timm.data.transforms_factory import create_transform"
      ]
    },
    {
      "cell_type": "code",
      "execution_count": 44,
      "metadata": {
        "id": "Bv-8DwLTlv54"
      },
      "outputs": [],
      "source": [
        "dataset_train = create_dataset('train', root=\"./images/train\", class_map={'dog':0, 'cat':1}, transform=create_transform(224))\n",
        "dataset_valid = create_dataset('valid', root=\"./images/valid\", class_map={'dog':0, 'cat':1}, transform=create_transform(224))"
      ]
    },
    {
      "cell_type": "code",
      "execution_count": null,
      "metadata": {
        "id": "UZPFGgvGoSYp"
      },
      "outputs": [],
      "source": [
        "import matplotlib.pyplot as plt\n",
        "img, label = dataset_train[0]\n",
        "plt.imshow(img.permute(1,2,0))\n",
        "label"
      ]
    },
    {
      "cell_type": "code",
      "execution_count": 46,
      "metadata": {
        "id": "K07AeDxTl1vl"
      },
      "outputs": [],
      "source": [
        "dataloader_train = DataLoader(dataset_train, batch_size=16, shuffle=True)\n",
        "dataloader_valid = DataLoader(dataset_valid, batch_size=8, shuffle=False)\n",
        "dataloader_valid = DataLoader(dataset_test, batch_size=1, shuffle=False)"
      ]
    },
    {
      "cell_type": "code",
      "execution_count": 47,
      "metadata": {
        "colab": {
          "base_uri": "https://localhost:8080/"
        },
        "id": "VXFwZ1Pdl6GX",
        "outputId": "840c2a2a-9988-44dc-ace3-2b5f56e1f9e0"
      },
      "outputs": [
        {
          "output_type": "stream",
          "name": "stdout",
          "text": [
            "tensor([1, 1, 1, 1, 1, 1, 1, 1])\n",
            "tensor([1, 1, 1, 1, 1, 1, 1, 1])\n",
            "tensor([1, 1, 1, 1, 1, 1, 1, 1])\n",
            "tensor([1, 1, 1, 1, 1, 1, 1, 1])\n",
            "tensor([1, 1, 1, 1, 1, 1, 1, 1])\n",
            "tensor([1, 1, 1, 1, 1, 1, 0, 0])\n",
            "tensor([0, 0, 0, 0, 0, 0, 0, 0])\n",
            "tensor([0, 0, 0, 0, 0, 0, 0, 0])\n",
            "tensor([0, 0, 0, 0, 0, 0, 0, 0])\n",
            "tensor([0, 0, 0, 0, 0, 0, 0, 0])\n",
            "tensor([0, 0, 0, 0, 0, 0, 0, 0])\n",
            "tensor([0, 0, 0])\n"
          ]
        }
      ],
      "source": [
        "# 確認\n",
        "for X, y in dataloader_valid:\n",
        "  print(y)"
      ]
    },
    {
      "cell_type": "markdown",
      "metadata": {
        "id": "LyMx97cAHY17"
      },
      "source": [
        "# パラメータ設定"
      ]
    },
    {
      "cell_type": "code",
      "execution_count": 49,
      "metadata": {
        "id": "gosx8bXUtHl9",
        "outputId": "e03f2dd6-8694-4ca1-f2b8-07bdff5af463",
        "colab": {
          "base_uri": "https://localhost:8080/"
        }
      },
      "outputs": [
        {
          "output_type": "stream",
          "name": "stdout",
          "text": [
            "cuda\n"
          ]
        }
      ],
      "source": [
        "num_epochs = 10\n",
        "device = torch.device(\"cuda\" if torch.cuda.is_available() else \"cpu\")\n",
        "print(device)"
      ]
    },
    {
      "cell_type": "markdown",
      "source": [
        "# LightningModuleを定義"
      ],
      "metadata": {
        "id": "VhADttmFqqxy"
      }
    },
    {
      "cell_type": "code",
      "source": [
        "class myModule(pl.LightningModule):\n",
        "    def __init__(self):\n",
        "        super().__init__()\n",
        "        self.model = timm.create_model('resnet18', pretrained=True, num_classes=2)\n",
        "        self.loss_fn = torch.nn.CrossEntropyLoss()\n",
        "        self.training_step_outputs = []\n",
        "        self.validation_step_outputs = []\n",
        "\n",
        "    def training_step(self, batch, batch_idx):\n",
        "        x, y = batch\n",
        "        pred = self.model(x)\n",
        "        loss = self.loss_fn(pred, y)\n",
        "        self.training_step_outputs.append(loss)\n",
        "        return loss\n",
        "\n",
        "    def on_train_epoch_end(self):\n",
        "        epoch_mean = torch.stack(self.training_step_outputs).mean()\n",
        "        self.log(\"train_loss\", epoch_mean, prog_bar=True)\n",
        "        self.training_step_outputs.clear()\n",
        "\n",
        "    def validation_step(self, batch, batch_idx):\n",
        "        x, y = batch\n",
        "        pred = self.model(x)\n",
        "        loss = self.loss_fn(pred, y)\n",
        "        self.validation_step_outputs.append(loss)\n",
        "        return loss\n",
        "\n",
        "    def on_validation_epoch_end(self):\n",
        "        epoch_mean = torch.stack(self.validation_step_outputs).mean()\n",
        "        self.log(\"valid_loss\", epoch_mean, prog_bar=True)\n",
        "        self.validation_step_outputs.clear()\n",
        "\n",
        "    def configure_optimizers(self):\n",
        "        return torch.optim.Adam(self.model.parameters(), lr=0.001, weight_decay=0.0001)\n",
        "\n"
      ],
      "metadata": {
        "id": "z1jaCK5HqvB8"
      },
      "execution_count": 50,
      "outputs": []
    },
    {
      "cell_type": "markdown",
      "source": [
        "# 学習"
      ],
      "metadata": {
        "id": "dIt80fzy-whd"
      }
    },
    {
      "cell_type": "code",
      "source": [
        "module = myModule()\n",
        "trainer = pl.Trainer(max_epochs=num_epochs)\n",
        "\n",
        "trainer.fit(model=module,\n",
        "            train_dataloaders = dataloader_train,\n",
        "            val_dataloaders = dataloader_valid)"
      ],
      "metadata": {
        "colab": {
          "base_uri": "https://localhost:8080/",
          "height": 422,
          "referenced_widgets": [
            "272eb722859e4d53a14b82be104d26e2",
            "391fc614bbe64d5da98d83217af3d517",
            "0144df17b66b482c851b31f3d3bf176c",
            "c7870078beb541ad89c603e6fa587c53",
            "be1f34f1717442a5b080a4743cdfdbbc",
            "094cd24ab34b4a19b256a50ac37e09ee",
            "6e0f118f9b7d40ff86d4623ef1f67f42",
            "1902f4f9e40c4211a2796e2b52ae26df",
            "b56b16e7156241a69f0c7547a41ffa48",
            "d45cd57a349c44f494e9b504b8bf7da6",
            "3b36d3570c1042168705c3751cb31a4b",
            "1f5d63d03348457289320b7d64487ea1",
            "df98223d8ac64d0eb731ae34fafb3b85",
            "c4cdd505691c41a0962c631c35993f1a",
            "0ffbb71f822140a18de3edf66e8ce1d5",
            "7daccd57df6945d8ad21f9dfc4b1840b",
            "0c4a881c8b7547619cbcba93d16d7224",
            "035551741a344b84b588d59a8ef06378",
            "c5f9947b59d64643af7aa6ddaa0160fe",
            "54d9755718db4e25865f4eb7da4b8780",
            "696bf7cdc55d4c5a89b503bd5f0a75b3",
            "033e5891de32426c96c98852099afbad",
            "8367ca683d1b4e5aadb9e8557a91f81d",
            "24dee28978f4442f85767e3bdded70c6",
            "028bc319dce341eaa46a0c787a05b118",
            "37ec4c66e9604d78ab3e600ab1f56d63",
            "58af2d8aaca242c29b2d550e0c58a81f",
            "dc69b99f1844464db7c94c28b440bcd1",
            "b5e5dde5b42348a2aa5f7a3cdf291aa6",
            "e879f200c09d4fb99620728829e388ec",
            "ba912c07391749da811ea6cedbe24b86",
            "858822d7d4f748d38a8b3fdd595832d3",
            "5427e64f5e8945e7b778e649fdb94eea",
            "cc5c31c4444049a78d6d7a6e537ab68b",
            "be13caf636444203af7278bb31d2b92e",
            "c15f9171c0f340dda17156a3e63aa644",
            "41d379a0d67a4703978205a7620d6765",
            "0ca9475149bc4f35ac00722ed6c527f7",
            "99f5a5cb526e4dab803d766118e6ba58",
            "82d99fb9b1634a15960d69c32cee5a37",
            "9697ba1daf33424caf3a61c74ec16f02",
            "b02b8b19eff046eeab8e13e12d9017fa",
            "fdd377e3b45244f696b6b83ee51331e6",
            "43d642112ec24ce68f0f95d6aee7f5c6",
            "56a5bab5dfd44196ba73649628804b3b",
            "97f8da393e5c42fca0e872f89cfd296d",
            "e19398151e8547579ab2299ec5dcd5cd",
            "edb3f5df119641dfaae2a41eba0704ce",
            "1e902c891f8f4eebb75b7d5923005c0b",
            "8dff135ae466413fa021efa7900b8264",
            "fb950b78bded4d24a35136bfcf0fe62d",
            "5c98e98aa08d45a9a5a98d25b2806a3c",
            "f0f14ab7c6764aec9ec56a6d0682a8ab",
            "07f7dfae0a3b44debcac3fdef6ae6785",
            "cfeed2eef3c140baa966ac24145aef3b",
            "fdfbff1bc8b04ce2b94dac4010e8bf29",
            "11c0c2eafa994a0eabc7c3cb05b90405",
            "7c2cd4400f434ae0aa02266f095d5de4",
            "b5675ff751164600b6b3d4637eb1a78d",
            "eacd103167fd41459108b87269361eb3",
            "1f2778e0105b4b56b3245a8965d55587",
            "8debc2c7392640758610f1e0306b3f98",
            "3817187b3d8a48578930e3e8c76ab44c",
            "3aa6ffc06f5e4cea8c71a75518d87017",
            "45834bc8d6274245aae91505f9850de9",
            "e1a09b9dca69487ab2d851433e41311f",
            "242c6a715bf5444dbabeb55ffed25f46",
            "77517ef85c994531803b9afd07a148c7",
            "0ce74f9cba3445c08a7848946343f754",
            "e614d48626854dc69d4f55367996b0dd",
            "13bbeca50358447c91d1c6ae911b0a4c",
            "988dbb65b3be4ec083fd88c4369bfed6",
            "8edcbfa0638e4e75a15dd91a5b8da4bc",
            "e717aa5c420a4c4487118b42ff46c936",
            "d4fd680a62224ce3a66551ea015c7ce8",
            "07c60e52e538488b9a8f055fa36e5e63",
            "cf6cc232603f4a95b1447661e13af170",
            "9e8bbd498b9d4b8abf2d50c1f207aa29",
            "2b4815b33a44404f928d6a03003c911c",
            "c98ceb66c0ae4fb083afbbfb4993ed7e",
            "073eeafeda6844878614843e456aad81",
            "6a86709c3430419683dbf43e4ff1d2d5",
            "9c965519381d483cbf9ca0c8b42b1c85",
            "fc368239de02482aa53ab0bdbb083fcc",
            "2271b908f8f0454ba808f54f10374da9",
            "9449f877ae1d4ff0aed36a2010459cd0",
            "dc363966b8354c858fa5dc73a8de8fab",
            "42875be5426c4de28c57502b14e63424"
          ]
        },
        "id": "1aJ34mtkr-jG",
        "outputId": "849d9044-9ac7-4165-bef6-c52e49461a8d"
      },
      "execution_count": null,
      "outputs": [
        {
          "output_type": "stream",
          "name": "stderr",
          "text": [
            "INFO:pytorch_lightning.utilities.rank_zero:GPU available: True (cuda), used: True\n",
            "INFO:pytorch_lightning.utilities.rank_zero:TPU available: False, using: 0 TPU cores\n",
            "INFO:pytorch_lightning.utilities.rank_zero:IPU available: False, using: 0 IPUs\n",
            "INFO:pytorch_lightning.utilities.rank_zero:HPU available: False, using: 0 HPUs\n",
            "INFO:pytorch_lightning.accelerators.cuda:LOCAL_RANK: 0 - CUDA_VISIBLE_DEVICES: [0]\n",
            "INFO:pytorch_lightning.callbacks.model_summary:\n",
            "  | Name    | Type             | Params\n",
            "---------------------------------------------\n",
            "0 | model   | ResNet           | 11.2 M\n",
            "1 | loss_fn | CrossEntropyLoss | 0     \n",
            "---------------------------------------------\n",
            "11.2 M    Trainable params\n",
            "0         Non-trainable params\n",
            "11.2 M    Total params\n",
            "44.710    Total estimated model params size (MB)\n"
          ]
        },
        {
          "output_type": "display_data",
          "data": {
            "text/plain": [
              "Sanity Checking: |          | 0/? [00:00<?, ?it/s]"
            ],
            "application/vnd.jupyter.widget-view+json": {
              "version_major": 2,
              "version_minor": 0,
              "model_id": "272eb722859e4d53a14b82be104d26e2"
            }
          },
          "metadata": {}
        },
        {
          "output_type": "stream",
          "name": "stderr",
          "text": [
            "/usr/local/lib/python3.10/dist-packages/pytorch_lightning/trainer/connectors/data_connector.py:441: The 'val_dataloader' does not have many workers which may be a bottleneck. Consider increasing the value of the `num_workers` argument` to `num_workers=1` in the `DataLoader` to improve performance.\n",
            "/usr/local/lib/python3.10/dist-packages/pytorch_lightning/trainer/connectors/data_connector.py:441: The 'train_dataloader' does not have many workers which may be a bottleneck. Consider increasing the value of the `num_workers` argument` to `num_workers=1` in the `DataLoader` to improve performance.\n",
            "/usr/local/lib/python3.10/dist-packages/pytorch_lightning/loops/fit_loop.py:293: The number of training batches (20) is smaller than the logging interval Trainer(log_every_n_steps=50). Set a lower value for log_every_n_steps if you want to see logs for the training epoch.\n"
          ]
        },
        {
          "output_type": "display_data",
          "data": {
            "text/plain": [
              "Training: |          | 0/? [00:00<?, ?it/s]"
            ],
            "application/vnd.jupyter.widget-view+json": {
              "version_major": 2,
              "version_minor": 0,
              "model_id": "1f5d63d03348457289320b7d64487ea1"
            }
          },
          "metadata": {}
        },
        {
          "output_type": "display_data",
          "data": {
            "text/plain": [
              "Validation: |          | 0/? [00:00<?, ?it/s]"
            ],
            "application/vnd.jupyter.widget-view+json": {
              "version_major": 2,
              "version_minor": 0,
              "model_id": "8367ca683d1b4e5aadb9e8557a91f81d"
            }
          },
          "metadata": {}
        },
        {
          "output_type": "display_data",
          "data": {
            "text/plain": [
              "Validation: |          | 0/? [00:00<?, ?it/s]"
            ],
            "application/vnd.jupyter.widget-view+json": {
              "version_major": 2,
              "version_minor": 0,
              "model_id": "cc5c31c4444049a78d6d7a6e537ab68b"
            }
          },
          "metadata": {}
        },
        {
          "output_type": "display_data",
          "data": {
            "text/plain": [
              "Validation: |          | 0/? [00:00<?, ?it/s]"
            ],
            "application/vnd.jupyter.widget-view+json": {
              "version_major": 2,
              "version_minor": 0,
              "model_id": "56a5bab5dfd44196ba73649628804b3b"
            }
          },
          "metadata": {}
        },
        {
          "output_type": "display_data",
          "data": {
            "text/plain": [
              "Validation: |          | 0/? [00:00<?, ?it/s]"
            ],
            "application/vnd.jupyter.widget-view+json": {
              "version_major": 2,
              "version_minor": 0,
              "model_id": "fdfbff1bc8b04ce2b94dac4010e8bf29"
            }
          },
          "metadata": {}
        },
        {
          "output_type": "display_data",
          "data": {
            "text/plain": [
              "Validation: |          | 0/? [00:00<?, ?it/s]"
            ],
            "application/vnd.jupyter.widget-view+json": {
              "version_major": 2,
              "version_minor": 0,
              "model_id": "242c6a715bf5444dbabeb55ffed25f46"
            }
          },
          "metadata": {}
        },
        {
          "output_type": "display_data",
          "data": {
            "text/plain": [
              "Validation: |          | 0/? [00:00<?, ?it/s]"
            ],
            "application/vnd.jupyter.widget-view+json": {
              "version_major": 2,
              "version_minor": 0,
              "model_id": "9e8bbd498b9d4b8abf2d50c1f207aa29"
            }
          },
          "metadata": {}
        }
      ]
    },
    {
      "cell_type": "markdown",
      "metadata": {
        "id": "SfYl7VJMHfh8"
      },
      "source": [
        "# 評価"
      ]
    },
    {
      "cell_type": "code",
      "source": [
        "# modelの部分的だけ取り出し\n",
        "model = module.model"
      ],
      "metadata": {
        "id": "zh2xO4UxA-Ah"
      },
      "execution_count": 22,
      "outputs": []
    },
    {
      "cell_type": "code",
      "execution_count": 23,
      "metadata": {
        "colab": {
          "base_uri": "https://localhost:8080/"
        },
        "id": "mPnvHtDItfPu",
        "outputId": "fd16ef10-56d6-42dc-9cac-9d4fee51d983"
      },
      "outputs": [
        {
          "output_type": "stream",
          "name": "stderr",
          "text": [
            "100%|██████████| 3/3 [00:01<00:00,  2.29it/s]\n"
          ]
        }
      ],
      "source": [
        "from tqdm import tqdm\n",
        "model.to(device)\n",
        "model.eval()\n",
        "y_pred = []\n",
        "y_gt = []\n",
        "for batch in tqdm(dataloader_test):\n",
        "    inputs, targets = batch\n",
        "    with torch.no_grad() :\n",
        "      outputs = model(inputs.to(device))\n",
        "    y_gt += targets.tolist()\n",
        "    y_pred += outputs.argmax(axis=1).tolist()\n"
      ]
    },
    {
      "cell_type": "code",
      "execution_count": 24,
      "metadata": {
        "colab": {
          "base_uri": "https://localhost:8080/"
        },
        "id": "DDahMPR6xmhl",
        "outputId": "fb154ad0-025c-4d94-91c1-0e02d97b4a9c"
      },
      "outputs": [
        {
          "output_type": "execute_result",
          "data": {
            "text/plain": [
              "([1, 1, 1, 1, 1, 1, 1, 1, 1, 0, 0, 0, 0, 0, 0, 0, 0, 0],\n",
              " [1, 1, 1, 1, 1, 1, 1, 1, 1, 0, 0, 0, 0, 0, 0, 0, 0, 0])"
            ]
          },
          "metadata": {},
          "execution_count": 24
        }
      ],
      "source": [
        "y_pred, y_gt"
      ]
    },
    {
      "cell_type": "markdown",
      "metadata": {
        "id": "ij1ZGQYsHlOg"
      },
      "source": [
        "# 指標の計算"
      ]
    },
    {
      "cell_type": "code",
      "execution_count": 25,
      "metadata": {
        "id": "DJCF4R0fxpUR"
      },
      "outputs": [],
      "source": [
        "from sklearn.metrics import confusion_matrix, accuracy_score, recall_score, precision_score, f1_score"
      ]
    },
    {
      "cell_type": "code",
      "execution_count": 26,
      "metadata": {
        "colab": {
          "base_uri": "https://localhost:8080/"
        },
        "id": "0sGsHiSEx2QF",
        "outputId": "27b8e654-4086-4d35-ff12-c29c964f244b"
      },
      "outputs": [
        {
          "output_type": "execute_result",
          "data": {
            "text/plain": [
              "array([[9, 0],\n",
              "       [0, 9]])"
            ]
          },
          "metadata": {},
          "execution_count": 26
        }
      ],
      "source": [
        "confusion_matrix(y_gt, y_pred)"
      ]
    },
    {
      "cell_type": "code",
      "execution_count": 27,
      "metadata": {
        "colab": {
          "base_uri": "https://localhost:8080/"
        },
        "id": "XHXgUVirx-bu",
        "outputId": "acc5a7af-2224-4df7-d2c6-ca5939f366ca"
      },
      "outputs": [
        {
          "output_type": "stream",
          "name": "stdout",
          "text": [
            "acc=1.0, recall=1.0, precition = 1.0,  f-score=1.0\n"
          ]
        }
      ],
      "source": [
        "acc, recall, prec, fs = accuracy_score(y_gt, y_pred), recall_score(y_gt, y_pred), precision_score(y_gt, y_pred), f1_score(y_gt, y_pred)\n",
        "print(f\"acc={acc}, recall={recall}, precition = {prec},  f-score={fs}\")"
      ]
    },
    {
      "cell_type": "markdown",
      "metadata": {
        "id": "XM09l7p5Ho-h"
      },
      "source": [
        "# ミス画像の表示"
      ]
    },
    {
      "cell_type": "code",
      "execution_count": 28,
      "metadata": {
        "id": "aPqP9hJOy3Uk"
      },
      "outputs": [],
      "source": [
        "for idx, (x, y) in enumerate(zip(y_pred, y_gt)):\n",
        "  if x != y :\n",
        "    img, label = dataset_valid[idx]\n",
        "    print(\"gt\", y)\n",
        "    plt.imshow(img.permute(1,2,0))\n",
        "    plt.show()"
      ]
    },
    {
      "cell_type": "code",
      "source": [],
      "metadata": {
        "id": "bGSrwKVJ1Vgl"
      },
      "execution_count": null,
      "outputs": []
    }
  ],
  "metadata": {
    "accelerator": "GPU",
    "colab": {
      "provenance": [],
      "gpuType": "T4",
      "include_colab_link": true
    },
    "kernelspec": {
      "display_name": "Python 3",
      "name": "python3"
    },
    "language_info": {
      "name": "python"
    },
    "widgets": {
      "application/vnd.jupyter.widget-state+json": {
        "272eb722859e4d53a14b82be104d26e2": {
          "model_module": "@jupyter-widgets/controls",
          "model_name": "HBoxModel",
          "model_module_version": "1.5.0",
          "state": {
            "_dom_classes": [],
            "_model_module": "@jupyter-widgets/controls",
            "_model_module_version": "1.5.0",
            "_model_name": "HBoxModel",
            "_view_count": null,
            "_view_module": "@jupyter-widgets/controls",
            "_view_module_version": "1.5.0",
            "_view_name": "HBoxView",
            "box_style": "",
            "children": [
              "IPY_MODEL_391fc614bbe64d5da98d83217af3d517",
              "IPY_MODEL_0144df17b66b482c851b31f3d3bf176c",
              "IPY_MODEL_c7870078beb541ad89c603e6fa587c53"
            ],
            "layout": "IPY_MODEL_be1f34f1717442a5b080a4743cdfdbbc"
          }
        },
        "391fc614bbe64d5da98d83217af3d517": {
          "model_module": "@jupyter-widgets/controls",
          "model_name": "HTMLModel",
          "model_module_version": "1.5.0",
          "state": {
            "_dom_classes": [],
            "_model_module": "@jupyter-widgets/controls",
            "_model_module_version": "1.5.0",
            "_model_name": "HTMLModel",
            "_view_count": null,
            "_view_module": "@jupyter-widgets/controls",
            "_view_module_version": "1.5.0",
            "_view_name": "HTMLView",
            "description": "",
            "description_tooltip": null,
            "layout": "IPY_MODEL_094cd24ab34b4a19b256a50ac37e09ee",
            "placeholder": "​",
            "style": "IPY_MODEL_6e0f118f9b7d40ff86d4623ef1f67f42",
            "value": "Sanity Checking DataLoader 0: 100%"
          }
        },
        "0144df17b66b482c851b31f3d3bf176c": {
          "model_module": "@jupyter-widgets/controls",
          "model_name": "FloatProgressModel",
          "model_module_version": "1.5.0",
          "state": {
            "_dom_classes": [],
            "_model_module": "@jupyter-widgets/controls",
            "_model_module_version": "1.5.0",
            "_model_name": "FloatProgressModel",
            "_view_count": null,
            "_view_module": "@jupyter-widgets/controls",
            "_view_module_version": "1.5.0",
            "_view_name": "ProgressView",
            "bar_style": "",
            "description": "",
            "description_tooltip": null,
            "layout": "IPY_MODEL_1902f4f9e40c4211a2796e2b52ae26df",
            "max": 2,
            "min": 0,
            "orientation": "horizontal",
            "style": "IPY_MODEL_b56b16e7156241a69f0c7547a41ffa48",
            "value": 2
          }
        },
        "c7870078beb541ad89c603e6fa587c53": {
          "model_module": "@jupyter-widgets/controls",
          "model_name": "HTMLModel",
          "model_module_version": "1.5.0",
          "state": {
            "_dom_classes": [],
            "_model_module": "@jupyter-widgets/controls",
            "_model_module_version": "1.5.0",
            "_model_name": "HTMLModel",
            "_view_count": null,
            "_view_module": "@jupyter-widgets/controls",
            "_view_module_version": "1.5.0",
            "_view_name": "HTMLView",
            "description": "",
            "description_tooltip": null,
            "layout": "IPY_MODEL_d45cd57a349c44f494e9b504b8bf7da6",
            "placeholder": "​",
            "style": "IPY_MODEL_3b36d3570c1042168705c3751cb31a4b",
            "value": " 2/2 [00:00&lt;00:00,  6.22it/s]"
          }
        },
        "be1f34f1717442a5b080a4743cdfdbbc": {
          "model_module": "@jupyter-widgets/base",
          "model_name": "LayoutModel",
          "model_module_version": "1.2.0",
          "state": {
            "_model_module": "@jupyter-widgets/base",
            "_model_module_version": "1.2.0",
            "_model_name": "LayoutModel",
            "_view_count": null,
            "_view_module": "@jupyter-widgets/base",
            "_view_module_version": "1.2.0",
            "_view_name": "LayoutView",
            "align_content": null,
            "align_items": null,
            "align_self": null,
            "border": null,
            "bottom": null,
            "display": "inline-flex",
            "flex": null,
            "flex_flow": "row wrap",
            "grid_area": null,
            "grid_auto_columns": null,
            "grid_auto_flow": null,
            "grid_auto_rows": null,
            "grid_column": null,
            "grid_gap": null,
            "grid_row": null,
            "grid_template_areas": null,
            "grid_template_columns": null,
            "grid_template_rows": null,
            "height": null,
            "justify_content": null,
            "justify_items": null,
            "left": null,
            "margin": null,
            "max_height": null,
            "max_width": null,
            "min_height": null,
            "min_width": null,
            "object_fit": null,
            "object_position": null,
            "order": null,
            "overflow": null,
            "overflow_x": null,
            "overflow_y": null,
            "padding": null,
            "right": null,
            "top": null,
            "visibility": "hidden",
            "width": "100%"
          }
        },
        "094cd24ab34b4a19b256a50ac37e09ee": {
          "model_module": "@jupyter-widgets/base",
          "model_name": "LayoutModel",
          "model_module_version": "1.2.0",
          "state": {
            "_model_module": "@jupyter-widgets/base",
            "_model_module_version": "1.2.0",
            "_model_name": "LayoutModel",
            "_view_count": null,
            "_view_module": "@jupyter-widgets/base",
            "_view_module_version": "1.2.0",
            "_view_name": "LayoutView",
            "align_content": null,
            "align_items": null,
            "align_self": null,
            "border": null,
            "bottom": null,
            "display": null,
            "flex": null,
            "flex_flow": null,
            "grid_area": null,
            "grid_auto_columns": null,
            "grid_auto_flow": null,
            "grid_auto_rows": null,
            "grid_column": null,
            "grid_gap": null,
            "grid_row": null,
            "grid_template_areas": null,
            "grid_template_columns": null,
            "grid_template_rows": null,
            "height": null,
            "justify_content": null,
            "justify_items": null,
            "left": null,
            "margin": null,
            "max_height": null,
            "max_width": null,
            "min_height": null,
            "min_width": null,
            "object_fit": null,
            "object_position": null,
            "order": null,
            "overflow": null,
            "overflow_x": null,
            "overflow_y": null,
            "padding": null,
            "right": null,
            "top": null,
            "visibility": null,
            "width": null
          }
        },
        "6e0f118f9b7d40ff86d4623ef1f67f42": {
          "model_module": "@jupyter-widgets/controls",
          "model_name": "DescriptionStyleModel",
          "model_module_version": "1.5.0",
          "state": {
            "_model_module": "@jupyter-widgets/controls",
            "_model_module_version": "1.5.0",
            "_model_name": "DescriptionStyleModel",
            "_view_count": null,
            "_view_module": "@jupyter-widgets/base",
            "_view_module_version": "1.2.0",
            "_view_name": "StyleView",
            "description_width": ""
          }
        },
        "1902f4f9e40c4211a2796e2b52ae26df": {
          "model_module": "@jupyter-widgets/base",
          "model_name": "LayoutModel",
          "model_module_version": "1.2.0",
          "state": {
            "_model_module": "@jupyter-widgets/base",
            "_model_module_version": "1.2.0",
            "_model_name": "LayoutModel",
            "_view_count": null,
            "_view_module": "@jupyter-widgets/base",
            "_view_module_version": "1.2.0",
            "_view_name": "LayoutView",
            "align_content": null,
            "align_items": null,
            "align_self": null,
            "border": null,
            "bottom": null,
            "display": null,
            "flex": "2",
            "flex_flow": null,
            "grid_area": null,
            "grid_auto_columns": null,
            "grid_auto_flow": null,
            "grid_auto_rows": null,
            "grid_column": null,
            "grid_gap": null,
            "grid_row": null,
            "grid_template_areas": null,
            "grid_template_columns": null,
            "grid_template_rows": null,
            "height": null,
            "justify_content": null,
            "justify_items": null,
            "left": null,
            "margin": null,
            "max_height": null,
            "max_width": null,
            "min_height": null,
            "min_width": null,
            "object_fit": null,
            "object_position": null,
            "order": null,
            "overflow": null,
            "overflow_x": null,
            "overflow_y": null,
            "padding": null,
            "right": null,
            "top": null,
            "visibility": null,
            "width": null
          }
        },
        "b56b16e7156241a69f0c7547a41ffa48": {
          "model_module": "@jupyter-widgets/controls",
          "model_name": "ProgressStyleModel",
          "model_module_version": "1.5.0",
          "state": {
            "_model_module": "@jupyter-widgets/controls",
            "_model_module_version": "1.5.0",
            "_model_name": "ProgressStyleModel",
            "_view_count": null,
            "_view_module": "@jupyter-widgets/base",
            "_view_module_version": "1.2.0",
            "_view_name": "StyleView",
            "bar_color": null,
            "description_width": ""
          }
        },
        "d45cd57a349c44f494e9b504b8bf7da6": {
          "model_module": "@jupyter-widgets/base",
          "model_name": "LayoutModel",
          "model_module_version": "1.2.0",
          "state": {
            "_model_module": "@jupyter-widgets/base",
            "_model_module_version": "1.2.0",
            "_model_name": "LayoutModel",
            "_view_count": null,
            "_view_module": "@jupyter-widgets/base",
            "_view_module_version": "1.2.0",
            "_view_name": "LayoutView",
            "align_content": null,
            "align_items": null,
            "align_self": null,
            "border": null,
            "bottom": null,
            "display": null,
            "flex": null,
            "flex_flow": null,
            "grid_area": null,
            "grid_auto_columns": null,
            "grid_auto_flow": null,
            "grid_auto_rows": null,
            "grid_column": null,
            "grid_gap": null,
            "grid_row": null,
            "grid_template_areas": null,
            "grid_template_columns": null,
            "grid_template_rows": null,
            "height": null,
            "justify_content": null,
            "justify_items": null,
            "left": null,
            "margin": null,
            "max_height": null,
            "max_width": null,
            "min_height": null,
            "min_width": null,
            "object_fit": null,
            "object_position": null,
            "order": null,
            "overflow": null,
            "overflow_x": null,
            "overflow_y": null,
            "padding": null,
            "right": null,
            "top": null,
            "visibility": null,
            "width": null
          }
        },
        "3b36d3570c1042168705c3751cb31a4b": {
          "model_module": "@jupyter-widgets/controls",
          "model_name": "DescriptionStyleModel",
          "model_module_version": "1.5.0",
          "state": {
            "_model_module": "@jupyter-widgets/controls",
            "_model_module_version": "1.5.0",
            "_model_name": "DescriptionStyleModel",
            "_view_count": null,
            "_view_module": "@jupyter-widgets/base",
            "_view_module_version": "1.2.0",
            "_view_name": "StyleView",
            "description_width": ""
          }
        },
        "1f5d63d03348457289320b7d64487ea1": {
          "model_module": "@jupyter-widgets/controls",
          "model_name": "HBoxModel",
          "model_module_version": "1.5.0",
          "state": {
            "_dom_classes": [],
            "_model_module": "@jupyter-widgets/controls",
            "_model_module_version": "1.5.0",
            "_model_name": "HBoxModel",
            "_view_count": null,
            "_view_module": "@jupyter-widgets/controls",
            "_view_module_version": "1.5.0",
            "_view_name": "HBoxView",
            "box_style": "",
            "children": [
              "IPY_MODEL_df98223d8ac64d0eb731ae34fafb3b85",
              "IPY_MODEL_c4cdd505691c41a0962c631c35993f1a",
              "IPY_MODEL_0ffbb71f822140a18de3edf66e8ce1d5"
            ],
            "layout": "IPY_MODEL_7daccd57df6945d8ad21f9dfc4b1840b"
          }
        },
        "df98223d8ac64d0eb731ae34fafb3b85": {
          "model_module": "@jupyter-widgets/controls",
          "model_name": "HTMLModel",
          "model_module_version": "1.5.0",
          "state": {
            "_dom_classes": [],
            "_model_module": "@jupyter-widgets/controls",
            "_model_module_version": "1.5.0",
            "_model_name": "HTMLModel",
            "_view_count": null,
            "_view_module": "@jupyter-widgets/controls",
            "_view_module_version": "1.5.0",
            "_view_name": "HTMLView",
            "description": "",
            "description_tooltip": null,
            "layout": "IPY_MODEL_0c4a881c8b7547619cbcba93d16d7224",
            "placeholder": "​",
            "style": "IPY_MODEL_035551741a344b84b588d59a8ef06378",
            "value": "Epoch 5: 100%"
          }
        },
        "c4cdd505691c41a0962c631c35993f1a": {
          "model_module": "@jupyter-widgets/controls",
          "model_name": "FloatProgressModel",
          "model_module_version": "1.5.0",
          "state": {
            "_dom_classes": [],
            "_model_module": "@jupyter-widgets/controls",
            "_model_module_version": "1.5.0",
            "_model_name": "FloatProgressModel",
            "_view_count": null,
            "_view_module": "@jupyter-widgets/controls",
            "_view_module_version": "1.5.0",
            "_view_name": "ProgressView",
            "bar_style": "",
            "description": "",
            "description_tooltip": null,
            "layout": "IPY_MODEL_c5f9947b59d64643af7aa6ddaa0160fe",
            "max": 20,
            "min": 0,
            "orientation": "horizontal",
            "style": "IPY_MODEL_54d9755718db4e25865f4eb7da4b8780",
            "value": 20
          }
        },
        "0ffbb71f822140a18de3edf66e8ce1d5": {
          "model_module": "@jupyter-widgets/controls",
          "model_name": "HTMLModel",
          "model_module_version": "1.5.0",
          "state": {
            "_dom_classes": [],
            "_model_module": "@jupyter-widgets/controls",
            "_model_module_version": "1.5.0",
            "_model_name": "HTMLModel",
            "_view_count": null,
            "_view_module": "@jupyter-widgets/controls",
            "_view_module_version": "1.5.0",
            "_view_name": "HTMLView",
            "description": "",
            "description_tooltip": null,
            "layout": "IPY_MODEL_696bf7cdc55d4c5a89b503bd5f0a75b3",
            "placeholder": "​",
            "style": "IPY_MODEL_033e5891de32426c96c98852099afbad",
            "value": " 20/20 [00:11&lt;00:00,  1.71it/s, v_num=1, valid_loss=0.170, train_loss=0.0345]"
          }
        },
        "7daccd57df6945d8ad21f9dfc4b1840b": {
          "model_module": "@jupyter-widgets/base",
          "model_name": "LayoutModel",
          "model_module_version": "1.2.0",
          "state": {
            "_model_module": "@jupyter-widgets/base",
            "_model_module_version": "1.2.0",
            "_model_name": "LayoutModel",
            "_view_count": null,
            "_view_module": "@jupyter-widgets/base",
            "_view_module_version": "1.2.0",
            "_view_name": "LayoutView",
            "align_content": null,
            "align_items": null,
            "align_self": null,
            "border": null,
            "bottom": null,
            "display": "inline-flex",
            "flex": null,
            "flex_flow": "row wrap",
            "grid_area": null,
            "grid_auto_columns": null,
            "grid_auto_flow": null,
            "grid_auto_rows": null,
            "grid_column": null,
            "grid_gap": null,
            "grid_row": null,
            "grid_template_areas": null,
            "grid_template_columns": null,
            "grid_template_rows": null,
            "height": null,
            "justify_content": null,
            "justify_items": null,
            "left": null,
            "margin": null,
            "max_height": null,
            "max_width": null,
            "min_height": null,
            "min_width": null,
            "object_fit": null,
            "object_position": null,
            "order": null,
            "overflow": null,
            "overflow_x": null,
            "overflow_y": null,
            "padding": null,
            "right": null,
            "top": null,
            "visibility": null,
            "width": "100%"
          }
        },
        "0c4a881c8b7547619cbcba93d16d7224": {
          "model_module": "@jupyter-widgets/base",
          "model_name": "LayoutModel",
          "model_module_version": "1.2.0",
          "state": {
            "_model_module": "@jupyter-widgets/base",
            "_model_module_version": "1.2.0",
            "_model_name": "LayoutModel",
            "_view_count": null,
            "_view_module": "@jupyter-widgets/base",
            "_view_module_version": "1.2.0",
            "_view_name": "LayoutView",
            "align_content": null,
            "align_items": null,
            "align_self": null,
            "border": null,
            "bottom": null,
            "display": null,
            "flex": null,
            "flex_flow": null,
            "grid_area": null,
            "grid_auto_columns": null,
            "grid_auto_flow": null,
            "grid_auto_rows": null,
            "grid_column": null,
            "grid_gap": null,
            "grid_row": null,
            "grid_template_areas": null,
            "grid_template_columns": null,
            "grid_template_rows": null,
            "height": null,
            "justify_content": null,
            "justify_items": null,
            "left": null,
            "margin": null,
            "max_height": null,
            "max_width": null,
            "min_height": null,
            "min_width": null,
            "object_fit": null,
            "object_position": null,
            "order": null,
            "overflow": null,
            "overflow_x": null,
            "overflow_y": null,
            "padding": null,
            "right": null,
            "top": null,
            "visibility": null,
            "width": null
          }
        },
        "035551741a344b84b588d59a8ef06378": {
          "model_module": "@jupyter-widgets/controls",
          "model_name": "DescriptionStyleModel",
          "model_module_version": "1.5.0",
          "state": {
            "_model_module": "@jupyter-widgets/controls",
            "_model_module_version": "1.5.0",
            "_model_name": "DescriptionStyleModel",
            "_view_count": null,
            "_view_module": "@jupyter-widgets/base",
            "_view_module_version": "1.2.0",
            "_view_name": "StyleView",
            "description_width": ""
          }
        },
        "c5f9947b59d64643af7aa6ddaa0160fe": {
          "model_module": "@jupyter-widgets/base",
          "model_name": "LayoutModel",
          "model_module_version": "1.2.0",
          "state": {
            "_model_module": "@jupyter-widgets/base",
            "_model_module_version": "1.2.0",
            "_model_name": "LayoutModel",
            "_view_count": null,
            "_view_module": "@jupyter-widgets/base",
            "_view_module_version": "1.2.0",
            "_view_name": "LayoutView",
            "align_content": null,
            "align_items": null,
            "align_self": null,
            "border": null,
            "bottom": null,
            "display": null,
            "flex": "2",
            "flex_flow": null,
            "grid_area": null,
            "grid_auto_columns": null,
            "grid_auto_flow": null,
            "grid_auto_rows": null,
            "grid_column": null,
            "grid_gap": null,
            "grid_row": null,
            "grid_template_areas": null,
            "grid_template_columns": null,
            "grid_template_rows": null,
            "height": null,
            "justify_content": null,
            "justify_items": null,
            "left": null,
            "margin": null,
            "max_height": null,
            "max_width": null,
            "min_height": null,
            "min_width": null,
            "object_fit": null,
            "object_position": null,
            "order": null,
            "overflow": null,
            "overflow_x": null,
            "overflow_y": null,
            "padding": null,
            "right": null,
            "top": null,
            "visibility": null,
            "width": null
          }
        },
        "54d9755718db4e25865f4eb7da4b8780": {
          "model_module": "@jupyter-widgets/controls",
          "model_name": "ProgressStyleModel",
          "model_module_version": "1.5.0",
          "state": {
            "_model_module": "@jupyter-widgets/controls",
            "_model_module_version": "1.5.0",
            "_model_name": "ProgressStyleModel",
            "_view_count": null,
            "_view_module": "@jupyter-widgets/base",
            "_view_module_version": "1.2.0",
            "_view_name": "StyleView",
            "bar_color": null,
            "description_width": ""
          }
        },
        "696bf7cdc55d4c5a89b503bd5f0a75b3": {
          "model_module": "@jupyter-widgets/base",
          "model_name": "LayoutModel",
          "model_module_version": "1.2.0",
          "state": {
            "_model_module": "@jupyter-widgets/base",
            "_model_module_version": "1.2.0",
            "_model_name": "LayoutModel",
            "_view_count": null,
            "_view_module": "@jupyter-widgets/base",
            "_view_module_version": "1.2.0",
            "_view_name": "LayoutView",
            "align_content": null,
            "align_items": null,
            "align_self": null,
            "border": null,
            "bottom": null,
            "display": null,
            "flex": null,
            "flex_flow": null,
            "grid_area": null,
            "grid_auto_columns": null,
            "grid_auto_flow": null,
            "grid_auto_rows": null,
            "grid_column": null,
            "grid_gap": null,
            "grid_row": null,
            "grid_template_areas": null,
            "grid_template_columns": null,
            "grid_template_rows": null,
            "height": null,
            "justify_content": null,
            "justify_items": null,
            "left": null,
            "margin": null,
            "max_height": null,
            "max_width": null,
            "min_height": null,
            "min_width": null,
            "object_fit": null,
            "object_position": null,
            "order": null,
            "overflow": null,
            "overflow_x": null,
            "overflow_y": null,
            "padding": null,
            "right": null,
            "top": null,
            "visibility": null,
            "width": null
          }
        },
        "033e5891de32426c96c98852099afbad": {
          "model_module": "@jupyter-widgets/controls",
          "model_name": "DescriptionStyleModel",
          "model_module_version": "1.5.0",
          "state": {
            "_model_module": "@jupyter-widgets/controls",
            "_model_module_version": "1.5.0",
            "_model_name": "DescriptionStyleModel",
            "_view_count": null,
            "_view_module": "@jupyter-widgets/base",
            "_view_module_version": "1.2.0",
            "_view_name": "StyleView",
            "description_width": ""
          }
        },
        "8367ca683d1b4e5aadb9e8557a91f81d": {
          "model_module": "@jupyter-widgets/controls",
          "model_name": "HBoxModel",
          "model_module_version": "1.5.0",
          "state": {
            "_dom_classes": [],
            "_model_module": "@jupyter-widgets/controls",
            "_model_module_version": "1.5.0",
            "_model_name": "HBoxModel",
            "_view_count": null,
            "_view_module": "@jupyter-widgets/controls",
            "_view_module_version": "1.5.0",
            "_view_name": "HBoxView",
            "box_style": "",
            "children": [
              "IPY_MODEL_24dee28978f4442f85767e3bdded70c6",
              "IPY_MODEL_028bc319dce341eaa46a0c787a05b118",
              "IPY_MODEL_37ec4c66e9604d78ab3e600ab1f56d63"
            ],
            "layout": "IPY_MODEL_58af2d8aaca242c29b2d550e0c58a81f"
          }
        },
        "24dee28978f4442f85767e3bdded70c6": {
          "model_module": "@jupyter-widgets/controls",
          "model_name": "HTMLModel",
          "model_module_version": "1.5.0",
          "state": {
            "_dom_classes": [],
            "_model_module": "@jupyter-widgets/controls",
            "_model_module_version": "1.5.0",
            "_model_name": "HTMLModel",
            "_view_count": null,
            "_view_module": "@jupyter-widgets/controls",
            "_view_module_version": "1.5.0",
            "_view_name": "HTMLView",
            "description": "",
            "description_tooltip": null,
            "layout": "IPY_MODEL_dc69b99f1844464db7c94c28b440bcd1",
            "placeholder": "​",
            "style": "IPY_MODEL_b5e5dde5b42348a2aa5f7a3cdf291aa6",
            "value": "Validation DataLoader 0: 100%"
          }
        },
        "028bc319dce341eaa46a0c787a05b118": {
          "model_module": "@jupyter-widgets/controls",
          "model_name": "FloatProgressModel",
          "model_module_version": "1.5.0",
          "state": {
            "_dom_classes": [],
            "_model_module": "@jupyter-widgets/controls",
            "_model_module_version": "1.5.0",
            "_model_name": "FloatProgressModel",
            "_view_count": null,
            "_view_module": "@jupyter-widgets/controls",
            "_view_module_version": "1.5.0",
            "_view_name": "ProgressView",
            "bar_style": "",
            "description": "",
            "description_tooltip": null,
            "layout": "IPY_MODEL_e879f200c09d4fb99620728829e388ec",
            "max": 12,
            "min": 0,
            "orientation": "horizontal",
            "style": "IPY_MODEL_ba912c07391749da811ea6cedbe24b86",
            "value": 12
          }
        },
        "37ec4c66e9604d78ab3e600ab1f56d63": {
          "model_module": "@jupyter-widgets/controls",
          "model_name": "HTMLModel",
          "model_module_version": "1.5.0",
          "state": {
            "_dom_classes": [],
            "_model_module": "@jupyter-widgets/controls",
            "_model_module_version": "1.5.0",
            "_model_name": "HTMLModel",
            "_view_count": null,
            "_view_module": "@jupyter-widgets/controls",
            "_view_module_version": "1.5.0",
            "_view_name": "HTMLView",
            "description": "",
            "description_tooltip": null,
            "layout": "IPY_MODEL_858822d7d4f748d38a8b3fdd595832d3",
            "placeholder": "​",
            "style": "IPY_MODEL_5427e64f5e8945e7b778e649fdb94eea",
            "value": " 12/12 [00:02&lt;00:00,  4.80it/s]"
          }
        },
        "58af2d8aaca242c29b2d550e0c58a81f": {
          "model_module": "@jupyter-widgets/base",
          "model_name": "LayoutModel",
          "model_module_version": "1.2.0",
          "state": {
            "_model_module": "@jupyter-widgets/base",
            "_model_module_version": "1.2.0",
            "_model_name": "LayoutModel",
            "_view_count": null,
            "_view_module": "@jupyter-widgets/base",
            "_view_module_version": "1.2.0",
            "_view_name": "LayoutView",
            "align_content": null,
            "align_items": null,
            "align_self": null,
            "border": null,
            "bottom": null,
            "display": "inline-flex",
            "flex": null,
            "flex_flow": "row wrap",
            "grid_area": null,
            "grid_auto_columns": null,
            "grid_auto_flow": null,
            "grid_auto_rows": null,
            "grid_column": null,
            "grid_gap": null,
            "grid_row": null,
            "grid_template_areas": null,
            "grid_template_columns": null,
            "grid_template_rows": null,
            "height": null,
            "justify_content": null,
            "justify_items": null,
            "left": null,
            "margin": null,
            "max_height": null,
            "max_width": null,
            "min_height": null,
            "min_width": null,
            "object_fit": null,
            "object_position": null,
            "order": null,
            "overflow": null,
            "overflow_x": null,
            "overflow_y": null,
            "padding": null,
            "right": null,
            "top": null,
            "visibility": "hidden",
            "width": "100%"
          }
        },
        "dc69b99f1844464db7c94c28b440bcd1": {
          "model_module": "@jupyter-widgets/base",
          "model_name": "LayoutModel",
          "model_module_version": "1.2.0",
          "state": {
            "_model_module": "@jupyter-widgets/base",
            "_model_module_version": "1.2.0",
            "_model_name": "LayoutModel",
            "_view_count": null,
            "_view_module": "@jupyter-widgets/base",
            "_view_module_version": "1.2.0",
            "_view_name": "LayoutView",
            "align_content": null,
            "align_items": null,
            "align_self": null,
            "border": null,
            "bottom": null,
            "display": null,
            "flex": null,
            "flex_flow": null,
            "grid_area": null,
            "grid_auto_columns": null,
            "grid_auto_flow": null,
            "grid_auto_rows": null,
            "grid_column": null,
            "grid_gap": null,
            "grid_row": null,
            "grid_template_areas": null,
            "grid_template_columns": null,
            "grid_template_rows": null,
            "height": null,
            "justify_content": null,
            "justify_items": null,
            "left": null,
            "margin": null,
            "max_height": null,
            "max_width": null,
            "min_height": null,
            "min_width": null,
            "object_fit": null,
            "object_position": null,
            "order": null,
            "overflow": null,
            "overflow_x": null,
            "overflow_y": null,
            "padding": null,
            "right": null,
            "top": null,
            "visibility": null,
            "width": null
          }
        },
        "b5e5dde5b42348a2aa5f7a3cdf291aa6": {
          "model_module": "@jupyter-widgets/controls",
          "model_name": "DescriptionStyleModel",
          "model_module_version": "1.5.0",
          "state": {
            "_model_module": "@jupyter-widgets/controls",
            "_model_module_version": "1.5.0",
            "_model_name": "DescriptionStyleModel",
            "_view_count": null,
            "_view_module": "@jupyter-widgets/base",
            "_view_module_version": "1.2.0",
            "_view_name": "StyleView",
            "description_width": ""
          }
        },
        "e879f200c09d4fb99620728829e388ec": {
          "model_module": "@jupyter-widgets/base",
          "model_name": "LayoutModel",
          "model_module_version": "1.2.0",
          "state": {
            "_model_module": "@jupyter-widgets/base",
            "_model_module_version": "1.2.0",
            "_model_name": "LayoutModel",
            "_view_count": null,
            "_view_module": "@jupyter-widgets/base",
            "_view_module_version": "1.2.0",
            "_view_name": "LayoutView",
            "align_content": null,
            "align_items": null,
            "align_self": null,
            "border": null,
            "bottom": null,
            "display": null,
            "flex": "2",
            "flex_flow": null,
            "grid_area": null,
            "grid_auto_columns": null,
            "grid_auto_flow": null,
            "grid_auto_rows": null,
            "grid_column": null,
            "grid_gap": null,
            "grid_row": null,
            "grid_template_areas": null,
            "grid_template_columns": null,
            "grid_template_rows": null,
            "height": null,
            "justify_content": null,
            "justify_items": null,
            "left": null,
            "margin": null,
            "max_height": null,
            "max_width": null,
            "min_height": null,
            "min_width": null,
            "object_fit": null,
            "object_position": null,
            "order": null,
            "overflow": null,
            "overflow_x": null,
            "overflow_y": null,
            "padding": null,
            "right": null,
            "top": null,
            "visibility": null,
            "width": null
          }
        },
        "ba912c07391749da811ea6cedbe24b86": {
          "model_module": "@jupyter-widgets/controls",
          "model_name": "ProgressStyleModel",
          "model_module_version": "1.5.0",
          "state": {
            "_model_module": "@jupyter-widgets/controls",
            "_model_module_version": "1.5.0",
            "_model_name": "ProgressStyleModel",
            "_view_count": null,
            "_view_module": "@jupyter-widgets/base",
            "_view_module_version": "1.2.0",
            "_view_name": "StyleView",
            "bar_color": null,
            "description_width": ""
          }
        },
        "858822d7d4f748d38a8b3fdd595832d3": {
          "model_module": "@jupyter-widgets/base",
          "model_name": "LayoutModel",
          "model_module_version": "1.2.0",
          "state": {
            "_model_module": "@jupyter-widgets/base",
            "_model_module_version": "1.2.0",
            "_model_name": "LayoutModel",
            "_view_count": null,
            "_view_module": "@jupyter-widgets/base",
            "_view_module_version": "1.2.0",
            "_view_name": "LayoutView",
            "align_content": null,
            "align_items": null,
            "align_self": null,
            "border": null,
            "bottom": null,
            "display": null,
            "flex": null,
            "flex_flow": null,
            "grid_area": null,
            "grid_auto_columns": null,
            "grid_auto_flow": null,
            "grid_auto_rows": null,
            "grid_column": null,
            "grid_gap": null,
            "grid_row": null,
            "grid_template_areas": null,
            "grid_template_columns": null,
            "grid_template_rows": null,
            "height": null,
            "justify_content": null,
            "justify_items": null,
            "left": null,
            "margin": null,
            "max_height": null,
            "max_width": null,
            "min_height": null,
            "min_width": null,
            "object_fit": null,
            "object_position": null,
            "order": null,
            "overflow": null,
            "overflow_x": null,
            "overflow_y": null,
            "padding": null,
            "right": null,
            "top": null,
            "visibility": null,
            "width": null
          }
        },
        "5427e64f5e8945e7b778e649fdb94eea": {
          "model_module": "@jupyter-widgets/controls",
          "model_name": "DescriptionStyleModel",
          "model_module_version": "1.5.0",
          "state": {
            "_model_module": "@jupyter-widgets/controls",
            "_model_module_version": "1.5.0",
            "_model_name": "DescriptionStyleModel",
            "_view_count": null,
            "_view_module": "@jupyter-widgets/base",
            "_view_module_version": "1.2.0",
            "_view_name": "StyleView",
            "description_width": ""
          }
        },
        "cc5c31c4444049a78d6d7a6e537ab68b": {
          "model_module": "@jupyter-widgets/controls",
          "model_name": "HBoxModel",
          "model_module_version": "1.5.0",
          "state": {
            "_dom_classes": [],
            "_model_module": "@jupyter-widgets/controls",
            "_model_module_version": "1.5.0",
            "_model_name": "HBoxModel",
            "_view_count": null,
            "_view_module": "@jupyter-widgets/controls",
            "_view_module_version": "1.5.0",
            "_view_name": "HBoxView",
            "box_style": "",
            "children": [
              "IPY_MODEL_be13caf636444203af7278bb31d2b92e",
              "IPY_MODEL_c15f9171c0f340dda17156a3e63aa644",
              "IPY_MODEL_41d379a0d67a4703978205a7620d6765"
            ],
            "layout": "IPY_MODEL_0ca9475149bc4f35ac00722ed6c527f7"
          }
        },
        "be13caf636444203af7278bb31d2b92e": {
          "model_module": "@jupyter-widgets/controls",
          "model_name": "HTMLModel",
          "model_module_version": "1.5.0",
          "state": {
            "_dom_classes": [],
            "_model_module": "@jupyter-widgets/controls",
            "_model_module_version": "1.5.0",
            "_model_name": "HTMLModel",
            "_view_count": null,
            "_view_module": "@jupyter-widgets/controls",
            "_view_module_version": "1.5.0",
            "_view_name": "HTMLView",
            "description": "",
            "description_tooltip": null,
            "layout": "IPY_MODEL_99f5a5cb526e4dab803d766118e6ba58",
            "placeholder": "​",
            "style": "IPY_MODEL_82d99fb9b1634a15960d69c32cee5a37",
            "value": "Validation DataLoader 0: 100%"
          }
        },
        "c15f9171c0f340dda17156a3e63aa644": {
          "model_module": "@jupyter-widgets/controls",
          "model_name": "FloatProgressModel",
          "model_module_version": "1.5.0",
          "state": {
            "_dom_classes": [],
            "_model_module": "@jupyter-widgets/controls",
            "_model_module_version": "1.5.0",
            "_model_name": "FloatProgressModel",
            "_view_count": null,
            "_view_module": "@jupyter-widgets/controls",
            "_view_module_version": "1.5.0",
            "_view_name": "ProgressView",
            "bar_style": "",
            "description": "",
            "description_tooltip": null,
            "layout": "IPY_MODEL_9697ba1daf33424caf3a61c74ec16f02",
            "max": 12,
            "min": 0,
            "orientation": "horizontal",
            "style": "IPY_MODEL_b02b8b19eff046eeab8e13e12d9017fa",
            "value": 12
          }
        },
        "41d379a0d67a4703978205a7620d6765": {
          "model_module": "@jupyter-widgets/controls",
          "model_name": "HTMLModel",
          "model_module_version": "1.5.0",
          "state": {
            "_dom_classes": [],
            "_model_module": "@jupyter-widgets/controls",
            "_model_module_version": "1.5.0",
            "_model_name": "HTMLModel",
            "_view_count": null,
            "_view_module": "@jupyter-widgets/controls",
            "_view_module_version": "1.5.0",
            "_view_name": "HTMLView",
            "description": "",
            "description_tooltip": null,
            "layout": "IPY_MODEL_fdd377e3b45244f696b6b83ee51331e6",
            "placeholder": "​",
            "style": "IPY_MODEL_43d642112ec24ce68f0f95d6aee7f5c6",
            "value": " 12/12 [00:05&lt;00:00,  2.38it/s]"
          }
        },
        "0ca9475149bc4f35ac00722ed6c527f7": {
          "model_module": "@jupyter-widgets/base",
          "model_name": "LayoutModel",
          "model_module_version": "1.2.0",
          "state": {
            "_model_module": "@jupyter-widgets/base",
            "_model_module_version": "1.2.0",
            "_model_name": "LayoutModel",
            "_view_count": null,
            "_view_module": "@jupyter-widgets/base",
            "_view_module_version": "1.2.0",
            "_view_name": "LayoutView",
            "align_content": null,
            "align_items": null,
            "align_self": null,
            "border": null,
            "bottom": null,
            "display": "inline-flex",
            "flex": null,
            "flex_flow": "row wrap",
            "grid_area": null,
            "grid_auto_columns": null,
            "grid_auto_flow": null,
            "grid_auto_rows": null,
            "grid_column": null,
            "grid_gap": null,
            "grid_row": null,
            "grid_template_areas": null,
            "grid_template_columns": null,
            "grid_template_rows": null,
            "height": null,
            "justify_content": null,
            "justify_items": null,
            "left": null,
            "margin": null,
            "max_height": null,
            "max_width": null,
            "min_height": null,
            "min_width": null,
            "object_fit": null,
            "object_position": null,
            "order": null,
            "overflow": null,
            "overflow_x": null,
            "overflow_y": null,
            "padding": null,
            "right": null,
            "top": null,
            "visibility": "hidden",
            "width": "100%"
          }
        },
        "99f5a5cb526e4dab803d766118e6ba58": {
          "model_module": "@jupyter-widgets/base",
          "model_name": "LayoutModel",
          "model_module_version": "1.2.0",
          "state": {
            "_model_module": "@jupyter-widgets/base",
            "_model_module_version": "1.2.0",
            "_model_name": "LayoutModel",
            "_view_count": null,
            "_view_module": "@jupyter-widgets/base",
            "_view_module_version": "1.2.0",
            "_view_name": "LayoutView",
            "align_content": null,
            "align_items": null,
            "align_self": null,
            "border": null,
            "bottom": null,
            "display": null,
            "flex": null,
            "flex_flow": null,
            "grid_area": null,
            "grid_auto_columns": null,
            "grid_auto_flow": null,
            "grid_auto_rows": null,
            "grid_column": null,
            "grid_gap": null,
            "grid_row": null,
            "grid_template_areas": null,
            "grid_template_columns": null,
            "grid_template_rows": null,
            "height": null,
            "justify_content": null,
            "justify_items": null,
            "left": null,
            "margin": null,
            "max_height": null,
            "max_width": null,
            "min_height": null,
            "min_width": null,
            "object_fit": null,
            "object_position": null,
            "order": null,
            "overflow": null,
            "overflow_x": null,
            "overflow_y": null,
            "padding": null,
            "right": null,
            "top": null,
            "visibility": null,
            "width": null
          }
        },
        "82d99fb9b1634a15960d69c32cee5a37": {
          "model_module": "@jupyter-widgets/controls",
          "model_name": "DescriptionStyleModel",
          "model_module_version": "1.5.0",
          "state": {
            "_model_module": "@jupyter-widgets/controls",
            "_model_module_version": "1.5.0",
            "_model_name": "DescriptionStyleModel",
            "_view_count": null,
            "_view_module": "@jupyter-widgets/base",
            "_view_module_version": "1.2.0",
            "_view_name": "StyleView",
            "description_width": ""
          }
        },
        "9697ba1daf33424caf3a61c74ec16f02": {
          "model_module": "@jupyter-widgets/base",
          "model_name": "LayoutModel",
          "model_module_version": "1.2.0",
          "state": {
            "_model_module": "@jupyter-widgets/base",
            "_model_module_version": "1.2.0",
            "_model_name": "LayoutModel",
            "_view_count": null,
            "_view_module": "@jupyter-widgets/base",
            "_view_module_version": "1.2.0",
            "_view_name": "LayoutView",
            "align_content": null,
            "align_items": null,
            "align_self": null,
            "border": null,
            "bottom": null,
            "display": null,
            "flex": "2",
            "flex_flow": null,
            "grid_area": null,
            "grid_auto_columns": null,
            "grid_auto_flow": null,
            "grid_auto_rows": null,
            "grid_column": null,
            "grid_gap": null,
            "grid_row": null,
            "grid_template_areas": null,
            "grid_template_columns": null,
            "grid_template_rows": null,
            "height": null,
            "justify_content": null,
            "justify_items": null,
            "left": null,
            "margin": null,
            "max_height": null,
            "max_width": null,
            "min_height": null,
            "min_width": null,
            "object_fit": null,
            "object_position": null,
            "order": null,
            "overflow": null,
            "overflow_x": null,
            "overflow_y": null,
            "padding": null,
            "right": null,
            "top": null,
            "visibility": null,
            "width": null
          }
        },
        "b02b8b19eff046eeab8e13e12d9017fa": {
          "model_module": "@jupyter-widgets/controls",
          "model_name": "ProgressStyleModel",
          "model_module_version": "1.5.0",
          "state": {
            "_model_module": "@jupyter-widgets/controls",
            "_model_module_version": "1.5.0",
            "_model_name": "ProgressStyleModel",
            "_view_count": null,
            "_view_module": "@jupyter-widgets/base",
            "_view_module_version": "1.2.0",
            "_view_name": "StyleView",
            "bar_color": null,
            "description_width": ""
          }
        },
        "fdd377e3b45244f696b6b83ee51331e6": {
          "model_module": "@jupyter-widgets/base",
          "model_name": "LayoutModel",
          "model_module_version": "1.2.0",
          "state": {
            "_model_module": "@jupyter-widgets/base",
            "_model_module_version": "1.2.0",
            "_model_name": "LayoutModel",
            "_view_count": null,
            "_view_module": "@jupyter-widgets/base",
            "_view_module_version": "1.2.0",
            "_view_name": "LayoutView",
            "align_content": null,
            "align_items": null,
            "align_self": null,
            "border": null,
            "bottom": null,
            "display": null,
            "flex": null,
            "flex_flow": null,
            "grid_area": null,
            "grid_auto_columns": null,
            "grid_auto_flow": null,
            "grid_auto_rows": null,
            "grid_column": null,
            "grid_gap": null,
            "grid_row": null,
            "grid_template_areas": null,
            "grid_template_columns": null,
            "grid_template_rows": null,
            "height": null,
            "justify_content": null,
            "justify_items": null,
            "left": null,
            "margin": null,
            "max_height": null,
            "max_width": null,
            "min_height": null,
            "min_width": null,
            "object_fit": null,
            "object_position": null,
            "order": null,
            "overflow": null,
            "overflow_x": null,
            "overflow_y": null,
            "padding": null,
            "right": null,
            "top": null,
            "visibility": null,
            "width": null
          }
        },
        "43d642112ec24ce68f0f95d6aee7f5c6": {
          "model_module": "@jupyter-widgets/controls",
          "model_name": "DescriptionStyleModel",
          "model_module_version": "1.5.0",
          "state": {
            "_model_module": "@jupyter-widgets/controls",
            "_model_module_version": "1.5.0",
            "_model_name": "DescriptionStyleModel",
            "_view_count": null,
            "_view_module": "@jupyter-widgets/base",
            "_view_module_version": "1.2.0",
            "_view_name": "StyleView",
            "description_width": ""
          }
        },
        "56a5bab5dfd44196ba73649628804b3b": {
          "model_module": "@jupyter-widgets/controls",
          "model_name": "HBoxModel",
          "model_module_version": "1.5.0",
          "state": {
            "_dom_classes": [],
            "_model_module": "@jupyter-widgets/controls",
            "_model_module_version": "1.5.0",
            "_model_name": "HBoxModel",
            "_view_count": null,
            "_view_module": "@jupyter-widgets/controls",
            "_view_module_version": "1.5.0",
            "_view_name": "HBoxView",
            "box_style": "",
            "children": [
              "IPY_MODEL_97f8da393e5c42fca0e872f89cfd296d",
              "IPY_MODEL_e19398151e8547579ab2299ec5dcd5cd",
              "IPY_MODEL_edb3f5df119641dfaae2a41eba0704ce"
            ],
            "layout": "IPY_MODEL_1e902c891f8f4eebb75b7d5923005c0b"
          }
        },
        "97f8da393e5c42fca0e872f89cfd296d": {
          "model_module": "@jupyter-widgets/controls",
          "model_name": "HTMLModel",
          "model_module_version": "1.5.0",
          "state": {
            "_dom_classes": [],
            "_model_module": "@jupyter-widgets/controls",
            "_model_module_version": "1.5.0",
            "_model_name": "HTMLModel",
            "_view_count": null,
            "_view_module": "@jupyter-widgets/controls",
            "_view_module_version": "1.5.0",
            "_view_name": "HTMLView",
            "description": "",
            "description_tooltip": null,
            "layout": "IPY_MODEL_8dff135ae466413fa021efa7900b8264",
            "placeholder": "​",
            "style": "IPY_MODEL_fb950b78bded4d24a35136bfcf0fe62d",
            "value": "Validation DataLoader 0: 100%"
          }
        },
        "e19398151e8547579ab2299ec5dcd5cd": {
          "model_module": "@jupyter-widgets/controls",
          "model_name": "FloatProgressModel",
          "model_module_version": "1.5.0",
          "state": {
            "_dom_classes": [],
            "_model_module": "@jupyter-widgets/controls",
            "_model_module_version": "1.5.0",
            "_model_name": "FloatProgressModel",
            "_view_count": null,
            "_view_module": "@jupyter-widgets/controls",
            "_view_module_version": "1.5.0",
            "_view_name": "ProgressView",
            "bar_style": "",
            "description": "",
            "description_tooltip": null,
            "layout": "IPY_MODEL_5c98e98aa08d45a9a5a98d25b2806a3c",
            "max": 12,
            "min": 0,
            "orientation": "horizontal",
            "style": "IPY_MODEL_f0f14ab7c6764aec9ec56a6d0682a8ab",
            "value": 12
          }
        },
        "edb3f5df119641dfaae2a41eba0704ce": {
          "model_module": "@jupyter-widgets/controls",
          "model_name": "HTMLModel",
          "model_module_version": "1.5.0",
          "state": {
            "_dom_classes": [],
            "_model_module": "@jupyter-widgets/controls",
            "_model_module_version": "1.5.0",
            "_model_name": "HTMLModel",
            "_view_count": null,
            "_view_module": "@jupyter-widgets/controls",
            "_view_module_version": "1.5.0",
            "_view_name": "HTMLView",
            "description": "",
            "description_tooltip": null,
            "layout": "IPY_MODEL_07f7dfae0a3b44debcac3fdef6ae6785",
            "placeholder": "​",
            "style": "IPY_MODEL_cfeed2eef3c140baa966ac24145aef3b",
            "value": " 12/12 [00:03&lt;00:00,  3.44it/s]"
          }
        },
        "1e902c891f8f4eebb75b7d5923005c0b": {
          "model_module": "@jupyter-widgets/base",
          "model_name": "LayoutModel",
          "model_module_version": "1.2.0",
          "state": {
            "_model_module": "@jupyter-widgets/base",
            "_model_module_version": "1.2.0",
            "_model_name": "LayoutModel",
            "_view_count": null,
            "_view_module": "@jupyter-widgets/base",
            "_view_module_version": "1.2.0",
            "_view_name": "LayoutView",
            "align_content": null,
            "align_items": null,
            "align_self": null,
            "border": null,
            "bottom": null,
            "display": "inline-flex",
            "flex": null,
            "flex_flow": "row wrap",
            "grid_area": null,
            "grid_auto_columns": null,
            "grid_auto_flow": null,
            "grid_auto_rows": null,
            "grid_column": null,
            "grid_gap": null,
            "grid_row": null,
            "grid_template_areas": null,
            "grid_template_columns": null,
            "grid_template_rows": null,
            "height": null,
            "justify_content": null,
            "justify_items": null,
            "left": null,
            "margin": null,
            "max_height": null,
            "max_width": null,
            "min_height": null,
            "min_width": null,
            "object_fit": null,
            "object_position": null,
            "order": null,
            "overflow": null,
            "overflow_x": null,
            "overflow_y": null,
            "padding": null,
            "right": null,
            "top": null,
            "visibility": "hidden",
            "width": "100%"
          }
        },
        "8dff135ae466413fa021efa7900b8264": {
          "model_module": "@jupyter-widgets/base",
          "model_name": "LayoutModel",
          "model_module_version": "1.2.0",
          "state": {
            "_model_module": "@jupyter-widgets/base",
            "_model_module_version": "1.2.0",
            "_model_name": "LayoutModel",
            "_view_count": null,
            "_view_module": "@jupyter-widgets/base",
            "_view_module_version": "1.2.0",
            "_view_name": "LayoutView",
            "align_content": null,
            "align_items": null,
            "align_self": null,
            "border": null,
            "bottom": null,
            "display": null,
            "flex": null,
            "flex_flow": null,
            "grid_area": null,
            "grid_auto_columns": null,
            "grid_auto_flow": null,
            "grid_auto_rows": null,
            "grid_column": null,
            "grid_gap": null,
            "grid_row": null,
            "grid_template_areas": null,
            "grid_template_columns": null,
            "grid_template_rows": null,
            "height": null,
            "justify_content": null,
            "justify_items": null,
            "left": null,
            "margin": null,
            "max_height": null,
            "max_width": null,
            "min_height": null,
            "min_width": null,
            "object_fit": null,
            "object_position": null,
            "order": null,
            "overflow": null,
            "overflow_x": null,
            "overflow_y": null,
            "padding": null,
            "right": null,
            "top": null,
            "visibility": null,
            "width": null
          }
        },
        "fb950b78bded4d24a35136bfcf0fe62d": {
          "model_module": "@jupyter-widgets/controls",
          "model_name": "DescriptionStyleModel",
          "model_module_version": "1.5.0",
          "state": {
            "_model_module": "@jupyter-widgets/controls",
            "_model_module_version": "1.5.0",
            "_model_name": "DescriptionStyleModel",
            "_view_count": null,
            "_view_module": "@jupyter-widgets/base",
            "_view_module_version": "1.2.0",
            "_view_name": "StyleView",
            "description_width": ""
          }
        },
        "5c98e98aa08d45a9a5a98d25b2806a3c": {
          "model_module": "@jupyter-widgets/base",
          "model_name": "LayoutModel",
          "model_module_version": "1.2.0",
          "state": {
            "_model_module": "@jupyter-widgets/base",
            "_model_module_version": "1.2.0",
            "_model_name": "LayoutModel",
            "_view_count": null,
            "_view_module": "@jupyter-widgets/base",
            "_view_module_version": "1.2.0",
            "_view_name": "LayoutView",
            "align_content": null,
            "align_items": null,
            "align_self": null,
            "border": null,
            "bottom": null,
            "display": null,
            "flex": "2",
            "flex_flow": null,
            "grid_area": null,
            "grid_auto_columns": null,
            "grid_auto_flow": null,
            "grid_auto_rows": null,
            "grid_column": null,
            "grid_gap": null,
            "grid_row": null,
            "grid_template_areas": null,
            "grid_template_columns": null,
            "grid_template_rows": null,
            "height": null,
            "justify_content": null,
            "justify_items": null,
            "left": null,
            "margin": null,
            "max_height": null,
            "max_width": null,
            "min_height": null,
            "min_width": null,
            "object_fit": null,
            "object_position": null,
            "order": null,
            "overflow": null,
            "overflow_x": null,
            "overflow_y": null,
            "padding": null,
            "right": null,
            "top": null,
            "visibility": null,
            "width": null
          }
        },
        "f0f14ab7c6764aec9ec56a6d0682a8ab": {
          "model_module": "@jupyter-widgets/controls",
          "model_name": "ProgressStyleModel",
          "model_module_version": "1.5.0",
          "state": {
            "_model_module": "@jupyter-widgets/controls",
            "_model_module_version": "1.5.0",
            "_model_name": "ProgressStyleModel",
            "_view_count": null,
            "_view_module": "@jupyter-widgets/base",
            "_view_module_version": "1.2.0",
            "_view_name": "StyleView",
            "bar_color": null,
            "description_width": ""
          }
        },
        "07f7dfae0a3b44debcac3fdef6ae6785": {
          "model_module": "@jupyter-widgets/base",
          "model_name": "LayoutModel",
          "model_module_version": "1.2.0",
          "state": {
            "_model_module": "@jupyter-widgets/base",
            "_model_module_version": "1.2.0",
            "_model_name": "LayoutModel",
            "_view_count": null,
            "_view_module": "@jupyter-widgets/base",
            "_view_module_version": "1.2.0",
            "_view_name": "LayoutView",
            "align_content": null,
            "align_items": null,
            "align_self": null,
            "border": null,
            "bottom": null,
            "display": null,
            "flex": null,
            "flex_flow": null,
            "grid_area": null,
            "grid_auto_columns": null,
            "grid_auto_flow": null,
            "grid_auto_rows": null,
            "grid_column": null,
            "grid_gap": null,
            "grid_row": null,
            "grid_template_areas": null,
            "grid_template_columns": null,
            "grid_template_rows": null,
            "height": null,
            "justify_content": null,
            "justify_items": null,
            "left": null,
            "margin": null,
            "max_height": null,
            "max_width": null,
            "min_height": null,
            "min_width": null,
            "object_fit": null,
            "object_position": null,
            "order": null,
            "overflow": null,
            "overflow_x": null,
            "overflow_y": null,
            "padding": null,
            "right": null,
            "top": null,
            "visibility": null,
            "width": null
          }
        },
        "cfeed2eef3c140baa966ac24145aef3b": {
          "model_module": "@jupyter-widgets/controls",
          "model_name": "DescriptionStyleModel",
          "model_module_version": "1.5.0",
          "state": {
            "_model_module": "@jupyter-widgets/controls",
            "_model_module_version": "1.5.0",
            "_model_name": "DescriptionStyleModel",
            "_view_count": null,
            "_view_module": "@jupyter-widgets/base",
            "_view_module_version": "1.2.0",
            "_view_name": "StyleView",
            "description_width": ""
          }
        },
        "fdfbff1bc8b04ce2b94dac4010e8bf29": {
          "model_module": "@jupyter-widgets/controls",
          "model_name": "HBoxModel",
          "model_module_version": "1.5.0",
          "state": {
            "_dom_classes": [],
            "_model_module": "@jupyter-widgets/controls",
            "_model_module_version": "1.5.0",
            "_model_name": "HBoxModel",
            "_view_count": null,
            "_view_module": "@jupyter-widgets/controls",
            "_view_module_version": "1.5.0",
            "_view_name": "HBoxView",
            "box_style": "",
            "children": [
              "IPY_MODEL_11c0c2eafa994a0eabc7c3cb05b90405",
              "IPY_MODEL_7c2cd4400f434ae0aa02266f095d5de4",
              "IPY_MODEL_b5675ff751164600b6b3d4637eb1a78d"
            ],
            "layout": "IPY_MODEL_eacd103167fd41459108b87269361eb3"
          }
        },
        "11c0c2eafa994a0eabc7c3cb05b90405": {
          "model_module": "@jupyter-widgets/controls",
          "model_name": "HTMLModel",
          "model_module_version": "1.5.0",
          "state": {
            "_dom_classes": [],
            "_model_module": "@jupyter-widgets/controls",
            "_model_module_version": "1.5.0",
            "_model_name": "HTMLModel",
            "_view_count": null,
            "_view_module": "@jupyter-widgets/controls",
            "_view_module_version": "1.5.0",
            "_view_name": "HTMLView",
            "description": "",
            "description_tooltip": null,
            "layout": "IPY_MODEL_1f2778e0105b4b56b3245a8965d55587",
            "placeholder": "​",
            "style": "IPY_MODEL_8debc2c7392640758610f1e0306b3f98",
            "value": "Validation DataLoader 0: 100%"
          }
        },
        "7c2cd4400f434ae0aa02266f095d5de4": {
          "model_module": "@jupyter-widgets/controls",
          "model_name": "FloatProgressModel",
          "model_module_version": "1.5.0",
          "state": {
            "_dom_classes": [],
            "_model_module": "@jupyter-widgets/controls",
            "_model_module_version": "1.5.0",
            "_model_name": "FloatProgressModel",
            "_view_count": null,
            "_view_module": "@jupyter-widgets/controls",
            "_view_module_version": "1.5.0",
            "_view_name": "ProgressView",
            "bar_style": "",
            "description": "",
            "description_tooltip": null,
            "layout": "IPY_MODEL_3817187b3d8a48578930e3e8c76ab44c",
            "max": 12,
            "min": 0,
            "orientation": "horizontal",
            "style": "IPY_MODEL_3aa6ffc06f5e4cea8c71a75518d87017",
            "value": 12
          }
        },
        "b5675ff751164600b6b3d4637eb1a78d": {
          "model_module": "@jupyter-widgets/controls",
          "model_name": "HTMLModel",
          "model_module_version": "1.5.0",
          "state": {
            "_dom_classes": [],
            "_model_module": "@jupyter-widgets/controls",
            "_model_module_version": "1.5.0",
            "_model_name": "HTMLModel",
            "_view_count": null,
            "_view_module": "@jupyter-widgets/controls",
            "_view_module_version": "1.5.0",
            "_view_name": "HTMLView",
            "description": "",
            "description_tooltip": null,
            "layout": "IPY_MODEL_45834bc8d6274245aae91505f9850de9",
            "placeholder": "​",
            "style": "IPY_MODEL_e1a09b9dca69487ab2d851433e41311f",
            "value": " 12/12 [00:02&lt;00:00,  4.56it/s]"
          }
        },
        "eacd103167fd41459108b87269361eb3": {
          "model_module": "@jupyter-widgets/base",
          "model_name": "LayoutModel",
          "model_module_version": "1.2.0",
          "state": {
            "_model_module": "@jupyter-widgets/base",
            "_model_module_version": "1.2.0",
            "_model_name": "LayoutModel",
            "_view_count": null,
            "_view_module": "@jupyter-widgets/base",
            "_view_module_version": "1.2.0",
            "_view_name": "LayoutView",
            "align_content": null,
            "align_items": null,
            "align_self": null,
            "border": null,
            "bottom": null,
            "display": "inline-flex",
            "flex": null,
            "flex_flow": "row wrap",
            "grid_area": null,
            "grid_auto_columns": null,
            "grid_auto_flow": null,
            "grid_auto_rows": null,
            "grid_column": null,
            "grid_gap": null,
            "grid_row": null,
            "grid_template_areas": null,
            "grid_template_columns": null,
            "grid_template_rows": null,
            "height": null,
            "justify_content": null,
            "justify_items": null,
            "left": null,
            "margin": null,
            "max_height": null,
            "max_width": null,
            "min_height": null,
            "min_width": null,
            "object_fit": null,
            "object_position": null,
            "order": null,
            "overflow": null,
            "overflow_x": null,
            "overflow_y": null,
            "padding": null,
            "right": null,
            "top": null,
            "visibility": "hidden",
            "width": "100%"
          }
        },
        "1f2778e0105b4b56b3245a8965d55587": {
          "model_module": "@jupyter-widgets/base",
          "model_name": "LayoutModel",
          "model_module_version": "1.2.0",
          "state": {
            "_model_module": "@jupyter-widgets/base",
            "_model_module_version": "1.2.0",
            "_model_name": "LayoutModel",
            "_view_count": null,
            "_view_module": "@jupyter-widgets/base",
            "_view_module_version": "1.2.0",
            "_view_name": "LayoutView",
            "align_content": null,
            "align_items": null,
            "align_self": null,
            "border": null,
            "bottom": null,
            "display": null,
            "flex": null,
            "flex_flow": null,
            "grid_area": null,
            "grid_auto_columns": null,
            "grid_auto_flow": null,
            "grid_auto_rows": null,
            "grid_column": null,
            "grid_gap": null,
            "grid_row": null,
            "grid_template_areas": null,
            "grid_template_columns": null,
            "grid_template_rows": null,
            "height": null,
            "justify_content": null,
            "justify_items": null,
            "left": null,
            "margin": null,
            "max_height": null,
            "max_width": null,
            "min_height": null,
            "min_width": null,
            "object_fit": null,
            "object_position": null,
            "order": null,
            "overflow": null,
            "overflow_x": null,
            "overflow_y": null,
            "padding": null,
            "right": null,
            "top": null,
            "visibility": null,
            "width": null
          }
        },
        "8debc2c7392640758610f1e0306b3f98": {
          "model_module": "@jupyter-widgets/controls",
          "model_name": "DescriptionStyleModel",
          "model_module_version": "1.5.0",
          "state": {
            "_model_module": "@jupyter-widgets/controls",
            "_model_module_version": "1.5.0",
            "_model_name": "DescriptionStyleModel",
            "_view_count": null,
            "_view_module": "@jupyter-widgets/base",
            "_view_module_version": "1.2.0",
            "_view_name": "StyleView",
            "description_width": ""
          }
        },
        "3817187b3d8a48578930e3e8c76ab44c": {
          "model_module": "@jupyter-widgets/base",
          "model_name": "LayoutModel",
          "model_module_version": "1.2.0",
          "state": {
            "_model_module": "@jupyter-widgets/base",
            "_model_module_version": "1.2.0",
            "_model_name": "LayoutModel",
            "_view_count": null,
            "_view_module": "@jupyter-widgets/base",
            "_view_module_version": "1.2.0",
            "_view_name": "LayoutView",
            "align_content": null,
            "align_items": null,
            "align_self": null,
            "border": null,
            "bottom": null,
            "display": null,
            "flex": "2",
            "flex_flow": null,
            "grid_area": null,
            "grid_auto_columns": null,
            "grid_auto_flow": null,
            "grid_auto_rows": null,
            "grid_column": null,
            "grid_gap": null,
            "grid_row": null,
            "grid_template_areas": null,
            "grid_template_columns": null,
            "grid_template_rows": null,
            "height": null,
            "justify_content": null,
            "justify_items": null,
            "left": null,
            "margin": null,
            "max_height": null,
            "max_width": null,
            "min_height": null,
            "min_width": null,
            "object_fit": null,
            "object_position": null,
            "order": null,
            "overflow": null,
            "overflow_x": null,
            "overflow_y": null,
            "padding": null,
            "right": null,
            "top": null,
            "visibility": null,
            "width": null
          }
        },
        "3aa6ffc06f5e4cea8c71a75518d87017": {
          "model_module": "@jupyter-widgets/controls",
          "model_name": "ProgressStyleModel",
          "model_module_version": "1.5.0",
          "state": {
            "_model_module": "@jupyter-widgets/controls",
            "_model_module_version": "1.5.0",
            "_model_name": "ProgressStyleModel",
            "_view_count": null,
            "_view_module": "@jupyter-widgets/base",
            "_view_module_version": "1.2.0",
            "_view_name": "StyleView",
            "bar_color": null,
            "description_width": ""
          }
        },
        "45834bc8d6274245aae91505f9850de9": {
          "model_module": "@jupyter-widgets/base",
          "model_name": "LayoutModel",
          "model_module_version": "1.2.0",
          "state": {
            "_model_module": "@jupyter-widgets/base",
            "_model_module_version": "1.2.0",
            "_model_name": "LayoutModel",
            "_view_count": null,
            "_view_module": "@jupyter-widgets/base",
            "_view_module_version": "1.2.0",
            "_view_name": "LayoutView",
            "align_content": null,
            "align_items": null,
            "align_self": null,
            "border": null,
            "bottom": null,
            "display": null,
            "flex": null,
            "flex_flow": null,
            "grid_area": null,
            "grid_auto_columns": null,
            "grid_auto_flow": null,
            "grid_auto_rows": null,
            "grid_column": null,
            "grid_gap": null,
            "grid_row": null,
            "grid_template_areas": null,
            "grid_template_columns": null,
            "grid_template_rows": null,
            "height": null,
            "justify_content": null,
            "justify_items": null,
            "left": null,
            "margin": null,
            "max_height": null,
            "max_width": null,
            "min_height": null,
            "min_width": null,
            "object_fit": null,
            "object_position": null,
            "order": null,
            "overflow": null,
            "overflow_x": null,
            "overflow_y": null,
            "padding": null,
            "right": null,
            "top": null,
            "visibility": null,
            "width": null
          }
        },
        "e1a09b9dca69487ab2d851433e41311f": {
          "model_module": "@jupyter-widgets/controls",
          "model_name": "DescriptionStyleModel",
          "model_module_version": "1.5.0",
          "state": {
            "_model_module": "@jupyter-widgets/controls",
            "_model_module_version": "1.5.0",
            "_model_name": "DescriptionStyleModel",
            "_view_count": null,
            "_view_module": "@jupyter-widgets/base",
            "_view_module_version": "1.2.0",
            "_view_name": "StyleView",
            "description_width": ""
          }
        },
        "242c6a715bf5444dbabeb55ffed25f46": {
          "model_module": "@jupyter-widgets/controls",
          "model_name": "HBoxModel",
          "model_module_version": "1.5.0",
          "state": {
            "_dom_classes": [],
            "_model_module": "@jupyter-widgets/controls",
            "_model_module_version": "1.5.0",
            "_model_name": "HBoxModel",
            "_view_count": null,
            "_view_module": "@jupyter-widgets/controls",
            "_view_module_version": "1.5.0",
            "_view_name": "HBoxView",
            "box_style": "",
            "children": [
              "IPY_MODEL_77517ef85c994531803b9afd07a148c7",
              "IPY_MODEL_0ce74f9cba3445c08a7848946343f754",
              "IPY_MODEL_e614d48626854dc69d4f55367996b0dd"
            ],
            "layout": "IPY_MODEL_13bbeca50358447c91d1c6ae911b0a4c"
          }
        },
        "77517ef85c994531803b9afd07a148c7": {
          "model_module": "@jupyter-widgets/controls",
          "model_name": "HTMLModel",
          "model_module_version": "1.5.0",
          "state": {
            "_dom_classes": [],
            "_model_module": "@jupyter-widgets/controls",
            "_model_module_version": "1.5.0",
            "_model_name": "HTMLModel",
            "_view_count": null,
            "_view_module": "@jupyter-widgets/controls",
            "_view_module_version": "1.5.0",
            "_view_name": "HTMLView",
            "description": "",
            "description_tooltip": null,
            "layout": "IPY_MODEL_988dbb65b3be4ec083fd88c4369bfed6",
            "placeholder": "​",
            "style": "IPY_MODEL_8edcbfa0638e4e75a15dd91a5b8da4bc",
            "value": "Validation DataLoader 0: 100%"
          }
        },
        "0ce74f9cba3445c08a7848946343f754": {
          "model_module": "@jupyter-widgets/controls",
          "model_name": "FloatProgressModel",
          "model_module_version": "1.5.0",
          "state": {
            "_dom_classes": [],
            "_model_module": "@jupyter-widgets/controls",
            "_model_module_version": "1.5.0",
            "_model_name": "FloatProgressModel",
            "_view_count": null,
            "_view_module": "@jupyter-widgets/controls",
            "_view_module_version": "1.5.0",
            "_view_name": "ProgressView",
            "bar_style": "",
            "description": "",
            "description_tooltip": null,
            "layout": "IPY_MODEL_e717aa5c420a4c4487118b42ff46c936",
            "max": 12,
            "min": 0,
            "orientation": "horizontal",
            "style": "IPY_MODEL_d4fd680a62224ce3a66551ea015c7ce8",
            "value": 12
          }
        },
        "e614d48626854dc69d4f55367996b0dd": {
          "model_module": "@jupyter-widgets/controls",
          "model_name": "HTMLModel",
          "model_module_version": "1.5.0",
          "state": {
            "_dom_classes": [],
            "_model_module": "@jupyter-widgets/controls",
            "_model_module_version": "1.5.0",
            "_model_name": "HTMLModel",
            "_view_count": null,
            "_view_module": "@jupyter-widgets/controls",
            "_view_module_version": "1.5.0",
            "_view_name": "HTMLView",
            "description": "",
            "description_tooltip": null,
            "layout": "IPY_MODEL_07c60e52e538488b9a8f055fa36e5e63",
            "placeholder": "​",
            "style": "IPY_MODEL_cf6cc232603f4a95b1447661e13af170",
            "value": " 12/12 [00:02&lt;00:00,  4.78it/s]"
          }
        },
        "13bbeca50358447c91d1c6ae911b0a4c": {
          "model_module": "@jupyter-widgets/base",
          "model_name": "LayoutModel",
          "model_module_version": "1.2.0",
          "state": {
            "_model_module": "@jupyter-widgets/base",
            "_model_module_version": "1.2.0",
            "_model_name": "LayoutModel",
            "_view_count": null,
            "_view_module": "@jupyter-widgets/base",
            "_view_module_version": "1.2.0",
            "_view_name": "LayoutView",
            "align_content": null,
            "align_items": null,
            "align_self": null,
            "border": null,
            "bottom": null,
            "display": "inline-flex",
            "flex": null,
            "flex_flow": "row wrap",
            "grid_area": null,
            "grid_auto_columns": null,
            "grid_auto_flow": null,
            "grid_auto_rows": null,
            "grid_column": null,
            "grid_gap": null,
            "grid_row": null,
            "grid_template_areas": null,
            "grid_template_columns": null,
            "grid_template_rows": null,
            "height": null,
            "justify_content": null,
            "justify_items": null,
            "left": null,
            "margin": null,
            "max_height": null,
            "max_width": null,
            "min_height": null,
            "min_width": null,
            "object_fit": null,
            "object_position": null,
            "order": null,
            "overflow": null,
            "overflow_x": null,
            "overflow_y": null,
            "padding": null,
            "right": null,
            "top": null,
            "visibility": "hidden",
            "width": "100%"
          }
        },
        "988dbb65b3be4ec083fd88c4369bfed6": {
          "model_module": "@jupyter-widgets/base",
          "model_name": "LayoutModel",
          "model_module_version": "1.2.0",
          "state": {
            "_model_module": "@jupyter-widgets/base",
            "_model_module_version": "1.2.0",
            "_model_name": "LayoutModel",
            "_view_count": null,
            "_view_module": "@jupyter-widgets/base",
            "_view_module_version": "1.2.0",
            "_view_name": "LayoutView",
            "align_content": null,
            "align_items": null,
            "align_self": null,
            "border": null,
            "bottom": null,
            "display": null,
            "flex": null,
            "flex_flow": null,
            "grid_area": null,
            "grid_auto_columns": null,
            "grid_auto_flow": null,
            "grid_auto_rows": null,
            "grid_column": null,
            "grid_gap": null,
            "grid_row": null,
            "grid_template_areas": null,
            "grid_template_columns": null,
            "grid_template_rows": null,
            "height": null,
            "justify_content": null,
            "justify_items": null,
            "left": null,
            "margin": null,
            "max_height": null,
            "max_width": null,
            "min_height": null,
            "min_width": null,
            "object_fit": null,
            "object_position": null,
            "order": null,
            "overflow": null,
            "overflow_x": null,
            "overflow_y": null,
            "padding": null,
            "right": null,
            "top": null,
            "visibility": null,
            "width": null
          }
        },
        "8edcbfa0638e4e75a15dd91a5b8da4bc": {
          "model_module": "@jupyter-widgets/controls",
          "model_name": "DescriptionStyleModel",
          "model_module_version": "1.5.0",
          "state": {
            "_model_module": "@jupyter-widgets/controls",
            "_model_module_version": "1.5.0",
            "_model_name": "DescriptionStyleModel",
            "_view_count": null,
            "_view_module": "@jupyter-widgets/base",
            "_view_module_version": "1.2.0",
            "_view_name": "StyleView",
            "description_width": ""
          }
        },
        "e717aa5c420a4c4487118b42ff46c936": {
          "model_module": "@jupyter-widgets/base",
          "model_name": "LayoutModel",
          "model_module_version": "1.2.0",
          "state": {
            "_model_module": "@jupyter-widgets/base",
            "_model_module_version": "1.2.0",
            "_model_name": "LayoutModel",
            "_view_count": null,
            "_view_module": "@jupyter-widgets/base",
            "_view_module_version": "1.2.0",
            "_view_name": "LayoutView",
            "align_content": null,
            "align_items": null,
            "align_self": null,
            "border": null,
            "bottom": null,
            "display": null,
            "flex": "2",
            "flex_flow": null,
            "grid_area": null,
            "grid_auto_columns": null,
            "grid_auto_flow": null,
            "grid_auto_rows": null,
            "grid_column": null,
            "grid_gap": null,
            "grid_row": null,
            "grid_template_areas": null,
            "grid_template_columns": null,
            "grid_template_rows": null,
            "height": null,
            "justify_content": null,
            "justify_items": null,
            "left": null,
            "margin": null,
            "max_height": null,
            "max_width": null,
            "min_height": null,
            "min_width": null,
            "object_fit": null,
            "object_position": null,
            "order": null,
            "overflow": null,
            "overflow_x": null,
            "overflow_y": null,
            "padding": null,
            "right": null,
            "top": null,
            "visibility": null,
            "width": null
          }
        },
        "d4fd680a62224ce3a66551ea015c7ce8": {
          "model_module": "@jupyter-widgets/controls",
          "model_name": "ProgressStyleModel",
          "model_module_version": "1.5.0",
          "state": {
            "_model_module": "@jupyter-widgets/controls",
            "_model_module_version": "1.5.0",
            "_model_name": "ProgressStyleModel",
            "_view_count": null,
            "_view_module": "@jupyter-widgets/base",
            "_view_module_version": "1.2.0",
            "_view_name": "StyleView",
            "bar_color": null,
            "description_width": ""
          }
        },
        "07c60e52e538488b9a8f055fa36e5e63": {
          "model_module": "@jupyter-widgets/base",
          "model_name": "LayoutModel",
          "model_module_version": "1.2.0",
          "state": {
            "_model_module": "@jupyter-widgets/base",
            "_model_module_version": "1.2.0",
            "_model_name": "LayoutModel",
            "_view_count": null,
            "_view_module": "@jupyter-widgets/base",
            "_view_module_version": "1.2.0",
            "_view_name": "LayoutView",
            "align_content": null,
            "align_items": null,
            "align_self": null,
            "border": null,
            "bottom": null,
            "display": null,
            "flex": null,
            "flex_flow": null,
            "grid_area": null,
            "grid_auto_columns": null,
            "grid_auto_flow": null,
            "grid_auto_rows": null,
            "grid_column": null,
            "grid_gap": null,
            "grid_row": null,
            "grid_template_areas": null,
            "grid_template_columns": null,
            "grid_template_rows": null,
            "height": null,
            "justify_content": null,
            "justify_items": null,
            "left": null,
            "margin": null,
            "max_height": null,
            "max_width": null,
            "min_height": null,
            "min_width": null,
            "object_fit": null,
            "object_position": null,
            "order": null,
            "overflow": null,
            "overflow_x": null,
            "overflow_y": null,
            "padding": null,
            "right": null,
            "top": null,
            "visibility": null,
            "width": null
          }
        },
        "cf6cc232603f4a95b1447661e13af170": {
          "model_module": "@jupyter-widgets/controls",
          "model_name": "DescriptionStyleModel",
          "model_module_version": "1.5.0",
          "state": {
            "_model_module": "@jupyter-widgets/controls",
            "_model_module_version": "1.5.0",
            "_model_name": "DescriptionStyleModel",
            "_view_count": null,
            "_view_module": "@jupyter-widgets/base",
            "_view_module_version": "1.2.0",
            "_view_name": "StyleView",
            "description_width": ""
          }
        },
        "9e8bbd498b9d4b8abf2d50c1f207aa29": {
          "model_module": "@jupyter-widgets/controls",
          "model_name": "HBoxModel",
          "model_module_version": "1.5.0",
          "state": {
            "_dom_classes": [],
            "_model_module": "@jupyter-widgets/controls",
            "_model_module_version": "1.5.0",
            "_model_name": "HBoxModel",
            "_view_count": null,
            "_view_module": "@jupyter-widgets/controls",
            "_view_module_version": "1.5.0",
            "_view_name": "HBoxView",
            "box_style": "",
            "children": [
              "IPY_MODEL_2b4815b33a44404f928d6a03003c911c",
              "IPY_MODEL_c98ceb66c0ae4fb083afbbfb4993ed7e",
              "IPY_MODEL_073eeafeda6844878614843e456aad81"
            ],
            "layout": "IPY_MODEL_6a86709c3430419683dbf43e4ff1d2d5"
          }
        },
        "2b4815b33a44404f928d6a03003c911c": {
          "model_module": "@jupyter-widgets/controls",
          "model_name": "HTMLModel",
          "model_module_version": "1.5.0",
          "state": {
            "_dom_classes": [],
            "_model_module": "@jupyter-widgets/controls",
            "_model_module_version": "1.5.0",
            "_model_name": "HTMLModel",
            "_view_count": null,
            "_view_module": "@jupyter-widgets/controls",
            "_view_module_version": "1.5.0",
            "_view_name": "HTMLView",
            "description": "",
            "description_tooltip": null,
            "layout": "IPY_MODEL_9c965519381d483cbf9ca0c8b42b1c85",
            "placeholder": "​",
            "style": "IPY_MODEL_fc368239de02482aa53ab0bdbb083fcc",
            "value": "Validation DataLoader 0:   0%"
          }
        },
        "c98ceb66c0ae4fb083afbbfb4993ed7e": {
          "model_module": "@jupyter-widgets/controls",
          "model_name": "FloatProgressModel",
          "model_module_version": "1.5.0",
          "state": {
            "_dom_classes": [],
            "_model_module": "@jupyter-widgets/controls",
            "_model_module_version": "1.5.0",
            "_model_name": "FloatProgressModel",
            "_view_count": null,
            "_view_module": "@jupyter-widgets/controls",
            "_view_module_version": "1.5.0",
            "_view_name": "ProgressView",
            "bar_style": "",
            "description": "",
            "description_tooltip": null,
            "layout": "IPY_MODEL_2271b908f8f0454ba808f54f10374da9",
            "max": 12,
            "min": 0,
            "orientation": "horizontal",
            "style": "IPY_MODEL_9449f877ae1d4ff0aed36a2010459cd0",
            "value": 0
          }
        },
        "073eeafeda6844878614843e456aad81": {
          "model_module": "@jupyter-widgets/controls",
          "model_name": "HTMLModel",
          "model_module_version": "1.5.0",
          "state": {
            "_dom_classes": [],
            "_model_module": "@jupyter-widgets/controls",
            "_model_module_version": "1.5.0",
            "_model_name": "HTMLModel",
            "_view_count": null,
            "_view_module": "@jupyter-widgets/controls",
            "_view_module_version": "1.5.0",
            "_view_name": "HTMLView",
            "description": "",
            "description_tooltip": null,
            "layout": "IPY_MODEL_dc363966b8354c858fa5dc73a8de8fab",
            "placeholder": "​",
            "style": "IPY_MODEL_42875be5426c4de28c57502b14e63424",
            "value": " 0/12 [00:00&lt;?, ?it/s]"
          }
        },
        "6a86709c3430419683dbf43e4ff1d2d5": {
          "model_module": "@jupyter-widgets/base",
          "model_name": "LayoutModel",
          "model_module_version": "1.2.0",
          "state": {
            "_model_module": "@jupyter-widgets/base",
            "_model_module_version": "1.2.0",
            "_model_name": "LayoutModel",
            "_view_count": null,
            "_view_module": "@jupyter-widgets/base",
            "_view_module_version": "1.2.0",
            "_view_name": "LayoutView",
            "align_content": null,
            "align_items": null,
            "align_self": null,
            "border": null,
            "bottom": null,
            "display": "inline-flex",
            "flex": null,
            "flex_flow": "row wrap",
            "grid_area": null,
            "grid_auto_columns": null,
            "grid_auto_flow": null,
            "grid_auto_rows": null,
            "grid_column": null,
            "grid_gap": null,
            "grid_row": null,
            "grid_template_areas": null,
            "grid_template_columns": null,
            "grid_template_rows": null,
            "height": null,
            "justify_content": null,
            "justify_items": null,
            "left": null,
            "margin": null,
            "max_height": null,
            "max_width": null,
            "min_height": null,
            "min_width": null,
            "object_fit": null,
            "object_position": null,
            "order": null,
            "overflow": null,
            "overflow_x": null,
            "overflow_y": null,
            "padding": null,
            "right": null,
            "top": null,
            "visibility": null,
            "width": "100%"
          }
        },
        "9c965519381d483cbf9ca0c8b42b1c85": {
          "model_module": "@jupyter-widgets/base",
          "model_name": "LayoutModel",
          "model_module_version": "1.2.0",
          "state": {
            "_model_module": "@jupyter-widgets/base",
            "_model_module_version": "1.2.0",
            "_model_name": "LayoutModel",
            "_view_count": null,
            "_view_module": "@jupyter-widgets/base",
            "_view_module_version": "1.2.0",
            "_view_name": "LayoutView",
            "align_content": null,
            "align_items": null,
            "align_self": null,
            "border": null,
            "bottom": null,
            "display": null,
            "flex": null,
            "flex_flow": null,
            "grid_area": null,
            "grid_auto_columns": null,
            "grid_auto_flow": null,
            "grid_auto_rows": null,
            "grid_column": null,
            "grid_gap": null,
            "grid_row": null,
            "grid_template_areas": null,
            "grid_template_columns": null,
            "grid_template_rows": null,
            "height": null,
            "justify_content": null,
            "justify_items": null,
            "left": null,
            "margin": null,
            "max_height": null,
            "max_width": null,
            "min_height": null,
            "min_width": null,
            "object_fit": null,
            "object_position": null,
            "order": null,
            "overflow": null,
            "overflow_x": null,
            "overflow_y": null,
            "padding": null,
            "right": null,
            "top": null,
            "visibility": null,
            "width": null
          }
        },
        "fc368239de02482aa53ab0bdbb083fcc": {
          "model_module": "@jupyter-widgets/controls",
          "model_name": "DescriptionStyleModel",
          "model_module_version": "1.5.0",
          "state": {
            "_model_module": "@jupyter-widgets/controls",
            "_model_module_version": "1.5.0",
            "_model_name": "DescriptionStyleModel",
            "_view_count": null,
            "_view_module": "@jupyter-widgets/base",
            "_view_module_version": "1.2.0",
            "_view_name": "StyleView",
            "description_width": ""
          }
        },
        "2271b908f8f0454ba808f54f10374da9": {
          "model_module": "@jupyter-widgets/base",
          "model_name": "LayoutModel",
          "model_module_version": "1.2.0",
          "state": {
            "_model_module": "@jupyter-widgets/base",
            "_model_module_version": "1.2.0",
            "_model_name": "LayoutModel",
            "_view_count": null,
            "_view_module": "@jupyter-widgets/base",
            "_view_module_version": "1.2.0",
            "_view_name": "LayoutView",
            "align_content": null,
            "align_items": null,
            "align_self": null,
            "border": null,
            "bottom": null,
            "display": null,
            "flex": "2",
            "flex_flow": null,
            "grid_area": null,
            "grid_auto_columns": null,
            "grid_auto_flow": null,
            "grid_auto_rows": null,
            "grid_column": null,
            "grid_gap": null,
            "grid_row": null,
            "grid_template_areas": null,
            "grid_template_columns": null,
            "grid_template_rows": null,
            "height": null,
            "justify_content": null,
            "justify_items": null,
            "left": null,
            "margin": null,
            "max_height": null,
            "max_width": null,
            "min_height": null,
            "min_width": null,
            "object_fit": null,
            "object_position": null,
            "order": null,
            "overflow": null,
            "overflow_x": null,
            "overflow_y": null,
            "padding": null,
            "right": null,
            "top": null,
            "visibility": null,
            "width": null
          }
        },
        "9449f877ae1d4ff0aed36a2010459cd0": {
          "model_module": "@jupyter-widgets/controls",
          "model_name": "ProgressStyleModel",
          "model_module_version": "1.5.0",
          "state": {
            "_model_module": "@jupyter-widgets/controls",
            "_model_module_version": "1.5.0",
            "_model_name": "ProgressStyleModel",
            "_view_count": null,
            "_view_module": "@jupyter-widgets/base",
            "_view_module_version": "1.2.0",
            "_view_name": "StyleView",
            "bar_color": null,
            "description_width": ""
          }
        },
        "dc363966b8354c858fa5dc73a8de8fab": {
          "model_module": "@jupyter-widgets/base",
          "model_name": "LayoutModel",
          "model_module_version": "1.2.0",
          "state": {
            "_model_module": "@jupyter-widgets/base",
            "_model_module_version": "1.2.0",
            "_model_name": "LayoutModel",
            "_view_count": null,
            "_view_module": "@jupyter-widgets/base",
            "_view_module_version": "1.2.0",
            "_view_name": "LayoutView",
            "align_content": null,
            "align_items": null,
            "align_self": null,
            "border": null,
            "bottom": null,
            "display": null,
            "flex": null,
            "flex_flow": null,
            "grid_area": null,
            "grid_auto_columns": null,
            "grid_auto_flow": null,
            "grid_auto_rows": null,
            "grid_column": null,
            "grid_gap": null,
            "grid_row": null,
            "grid_template_areas": null,
            "grid_template_columns": null,
            "grid_template_rows": null,
            "height": null,
            "justify_content": null,
            "justify_items": null,
            "left": null,
            "margin": null,
            "max_height": null,
            "max_width": null,
            "min_height": null,
            "min_width": null,
            "object_fit": null,
            "object_position": null,
            "order": null,
            "overflow": null,
            "overflow_x": null,
            "overflow_y": null,
            "padding": null,
            "right": null,
            "top": null,
            "visibility": null,
            "width": null
          }
        },
        "42875be5426c4de28c57502b14e63424": {
          "model_module": "@jupyter-widgets/controls",
          "model_name": "DescriptionStyleModel",
          "model_module_version": "1.5.0",
          "state": {
            "_model_module": "@jupyter-widgets/controls",
            "_model_module_version": "1.5.0",
            "_model_name": "DescriptionStyleModel",
            "_view_count": null,
            "_view_module": "@jupyter-widgets/base",
            "_view_module_version": "1.2.0",
            "_view_name": "StyleView",
            "description_width": ""
          }
        }
      }
    }
  },
  "nbformat": 4,
  "nbformat_minor": 0
}