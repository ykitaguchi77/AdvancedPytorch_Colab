{
  "nbformat": 4,
  "nbformat_minor": 0,
  "metadata": {
    "colab": {
      "name": "Untitled21.ipynb",
      "provenance": [],
      "authorship_tag": "ABX9TyOtFl15nNZYWCJv1sIz6f0G",
      "include_colab_link": true
    },
    "kernelspec": {
      "name": "python3",
      "display_name": "Python 3"
    }
  },
  "cells": [
    {
      "cell_type": "markdown",
      "metadata": {
        "id": "view-in-github",
        "colab_type": "text"
      },
      "source": [
        "<a href=\"https://colab.research.google.com/github/ykitaguchi77/AdvancedPytorch_Colab/blob/master/0.%20%E6%BA%96%E5%82%99.ipynb\" target=\"_parent\"><img src=\"https://colab.research.google.com/assets/colab-badge.svg\" alt=\"Open In Colab\"/></a>"
      ]
    },
    {
      "cell_type": "markdown",
      "metadata": {
        "id": "HIw89BIT5ElC",
        "colab_type": "text"
      },
      "source": [
        "#準備"
      ]
    },
    {
      "cell_type": "markdown",
      "metadata": {
        "id": "k34cDdpK5IFo",
        "colab_type": "text"
      },
      "source": [
        "1. Google driveの作成\n",
        "2. drive内に\"AI_laboratory_course\"フォルダを作成（大文字小文字に注意）\n",
        "\n",
        "3. 下記アドレスの画像ファイルをダウンロードしてフォルダ内に入れておく\n",
        "https://drive.google.com/drive/folders/1GtViaC111D_TiqeBLNKg9SGF1jA_qqF-?usp=sharing"
      ]
    },
    {
      "cell_type": "markdown",
      "metadata": {
        "id": "FdqW4HNI53v_",
        "colab_type": "text"
      },
      "source": [
        "#教材\n",
        "\n",
        "こちらからダウンロードできます。Githubは便利なツールなので、自分でも使えるようにしておくことをお勧めします。<br>\n",
        "（Backupがしやすい、複数人で共同開発しやすい、など）\n",
        "https://github.com/ykitaguchi77/Laboratory_course"
      ]
    }
  ]
}