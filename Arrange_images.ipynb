{
  "nbformat": 4,
  "nbformat_minor": 0,
  "metadata": {
    "colab": {
      "name": "Untitled51.ipynb",
      "provenance": [],
      "authorship_tag": "ABX9TyOuTi/ZynopXNie/PvKVapE",
      "include_colab_link": true
    },
    "kernelspec": {
      "name": "python3",
      "display_name": "Python 3"
    }
  },
  "cells": [
    {
      "cell_type": "markdown",
      "metadata": {
        "id": "view-in-github",
        "colab_type": "text"
      },
      "source": [
        "<a href=\"https://colab.research.google.com/github/ykitaguchi77/AdvancedPytorch_Colab/blob/master/Arrange_images.ipynb\" target=\"_parent\"><img src=\"https://colab.research.google.com/assets/colab-badge.svg\" alt=\"Open In Colab\"/></a>"
      ]
    },
    {
      "cell_type": "code",
      "metadata": {
        "id": "11TM-66q8kss",
        "colab_type": "code",
        "colab": {
          "base_uri": "https://localhost:8080/",
          "height": 54
        },
        "outputId": "d1134bc5-6278-4450-f033-fd1959c51dea"
      },
      "source": [
        "from PIL import Image\n",
        "import glob\n",
        "\n",
        "#Google colabをマウント\n",
        "from google.colab import drive\n",
        "drive.mount('/content/drive')"
      ],
      "execution_count": 39,
      "outputs": [
        {
          "output_type": "stream",
          "text": [
            "Drive already mounted at /content/drive; to attempt to forcibly remount, call drive.mount(\"/content/drive\", force_remount=True).\n"
          ],
          "name": "stdout"
        }
      ]
    },
    {
      "cell_type": "code",
      "metadata": {
        "id": "HONHBUgSBHhe",
        "colab_type": "code",
        "colab": {
          "base_uri": "https://localhost:8080/",
          "height": 156
        },
        "outputId": "8fc2a581-87ea-45fb-d1e9-ecd4fa8d3f04"
      },
      "source": [
        "#画像のリストを取得\n",
        "img_path = glob.glob(\"/content/drive/My Drive/Grav_bootcamp/Training_250px/grav/*\")\n",
        "print(len(img_path))\n",
        "#print(img_path)\n",
        "\n",
        "#画像を入れるリストを用意\n",
        "im_list = img_path[0:4]\n",
        "print(len(list))\n",
        "print(list)\n",
        "\n",
        "#画像のサイズを確認\n",
        "for i in im_list:\n",
        "    img = Image.open(i)\n",
        "    width, height = img.size\n",
        "    print(\"width:\"+str(width)+\", height:\"+str(height)+\", width/height:\"+str(width/height))"
      ],
      "execution_count": 48,
      "outputs": [
        {
          "output_type": "stream",
          "text": [
            "230\n",
            "4\n",
            "['/content/drive/My Drive/Grav_bootcamp/Training_250px/grav/5820.jpg', '/content/drive/My Drive/Grav_bootcamp/Training_250px/grav/7936.jpg', '/content/drive/My Drive/Grav_bootcamp/Training_250px/grav/4332.jpg', '/content/drive/My Drive/Grav_bootcamp/Training_250px/grav/3600.jpg']\n",
            "width:250, height:250, width/height:1.0\n",
            "width:250, height:250, width/height:1.0\n",
            "width:250, height:250, width/height:1.0\n",
            "width:250, height:250, width/height:1.0\n"
          ],
          "name": "stdout"
        }
      ]
    },
    {
      "cell_type": "markdown",
      "metadata": {
        "id": "Q5n6v0ZcVluL",
        "colab_type": "text"
      },
      "source": [
        "#**画像の配列**\n",
        "参考サイト： https://note.nkmk.me/python-pillow-concat-images/"
      ]
    },
    {
      "cell_type": "code",
      "metadata": {
        "id": "RvOs1hr0R_3C",
        "colab_type": "code",
        "colab": {}
      },
      "source": [
        "def get_concat_h_multi_resize(im_list, resample=Image.BICUBIC):\n",
        "    min_height = min(im.height for im in im_list)\n",
        "    im_list_resize = [im.resize((int(im.width * min_height / im.height), min_height),resample=resample)\n",
        "                      for im in im_list]\n",
        "    total_width = sum(im.width for im in im_list_resize)\n",
        "    dst = Image.new('RGB', (total_width, min_height))\n",
        "    pos_x = 0\n",
        "    for im in im_list_resize:\n",
        "        dst.paste(im, (pos_x, 0))\n",
        "        pos_x += im.width\n",
        "    return dst\n",
        "\n",
        "def get_concat_v_multi_resize(im_list, resample=Image.BICUBIC):\n",
        "    min_width = min(im.width for im in im_list)\n",
        "    im_list_resize = [im.resize((min_width, int(im.height * min_width / im.width)),resample=resample)\n",
        "                      for im in im_list]\n",
        "    total_height = sum(im.height for im in im_list_resize)\n",
        "    dst = Image.new('RGB', (min_width, total_height))\n",
        "    pos_y = 0\n",
        "    for im in im_list_resize:\n",
        "        dst.paste(im, (0, pos_y))\n",
        "        pos_y += im.height\n",
        "    return dst\n",
        "\n",
        "def get_concat_tile_resize(im_list_2d, resample=Image.BICUBIC):\n",
        "    im_list_v = [get_concat_h_multi_resize(im_list_h, resample=resample) for im_list_h in im_list_2d]\n",
        "    return get_concat_v_multi_resize(im_list_v, resample=resample)\n",
        "\n",
        "for i in im_list:\n",
        "    \n",
        "\n",
        "im= Image.open(im)\n",
        "get_concat_tile_resize([[im],[im],[im]]).save('/content/opencv_vconcat.jpg')"
      ],
      "execution_count": 47,
      "outputs": []
    }
  ]
}