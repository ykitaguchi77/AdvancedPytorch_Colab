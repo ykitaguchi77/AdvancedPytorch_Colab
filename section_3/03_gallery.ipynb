{
  "nbformat": 4,
  "nbformat_minor": 0,
  "metadata": {
    "colab": {
      "name": "02_nlp.ipynb",
      "provenance": [],
      "include_colab_link": true
    },
    "kernelspec": {
      "name": "python3",
      "display_name": "Python 3"
    },
    "language_info": {
      "name": "python"
    }
  },
  "cells": [
    {
      "cell_type": "markdown",
      "metadata": {
        "id": "view-in-github",
        "colab_type": "text"
      },
      "source": [
        "<a href=\"https://colab.research.google.com/github/ykitaguchi77/AdvancedPytorch_Colab/blob/master/section_3/03_gallery.ipynb\" target=\"_parent\"><img src=\"https://colab.research.google.com/assets/colab-badge.svg\" alt=\"Open In Colab\"/></a>"
      ]
    },
    {
      "cell_type": "markdown",
      "metadata": {
        "id": "8kW_qXJVTjic"
      },
      "source": [
        "# Streamlit galleryのデモを動かす\n",
        "https://streamlit.io/gallery"
      ]
    },
    {
      "cell_type": "markdown",
      "source": [
        "## ●ライブラリのインストール\n",
        "Streamlit、およびアプリの動作の確認に使用する「ngrok」をインストールします。"
      ],
      "metadata": {
        "id": "vRJCuxALcgkb"
      }
    },
    {
      "cell_type": "code",
      "execution_count": 8,
      "metadata": {
        "id": "Pbqipzj3nCy4"
      },
      "outputs": [],
      "source": [
        "!pip install streamlit==1.7.0 --quiet\n",
        "!pip install pyngrok==4.1.1 --quiet\n"
      ]
    },
    {
      "cell_type": "markdown",
      "source": [
        "Streamlit、およびngrokをインポートしておきます。  \n",
        "エラーが発生する場合は、「ランタイム」→「ランタイムを再起動」によりランタイムを再起動し、再びコードセルを上から順に実行しましょう。"
      ],
      "metadata": {
        "id": "husUkYy5dhZ4"
      }
    },
    {
      "cell_type": "code",
      "source": [
        "import streamlit as st\n",
        "from pyngrok import ngrok"
      ],
      "metadata": {
        "id": "OsHcq-kaDwIi"
      },
      "execution_count": 9,
      "outputs": []
    },
    {
      "cell_type": "markdown",
      "source": [
        "## ●NYC Uber Ridesharing Dataアプリのコード  \n",
        "https://streamlit.io/gallery"
      ],
      "metadata": {
        "id": "5fOtVgU5duPe"
      }
    },
    {
      "cell_type": "code",
      "source": [
        "import gdown\n",
        "url = \"https://github.com/streamlit/demo-uber-nyc-pickups/raw/main/uber-raw-data-sep14.csv.gz\"\n",
        "output = 'uber-raw-data-sep14.csv.gz'\n",
        "gdown.download(url, output)"
      ],
      "metadata": {
        "id": "B2xHZqSRHubG",
        "outputId": "56bfa6a0-f242-4ba1-fdcb-7b26663a4b71",
        "colab": {
          "base_uri": "https://localhost:8080/",
          "height": 126
        }
      },
      "execution_count": 20,
      "outputs": [
        {
          "output_type": "stream",
          "name": "stderr",
          "text": [
            "Downloading...\n",
            "From: https://github.com/streamlit/demo-uber-nyc-pickups/raw/main/uber-raw-data-sep14.csv.gz\n",
            "To: /content/uber-raw-data-sep14.csv.gz\n",
            "100%|██████████| 6.83M/6.83M [00:00<00:00, 83.1MB/s]\n"
          ]
        },
        {
          "output_type": "execute_result",
          "data": {
            "text/plain": [
              "'uber-raw-data-sep14.csv.gz'"
            ],
            "application/vnd.google.colaboratory.intrinsic+json": {
              "type": "string"
            }
          },
          "metadata": {},
          "execution_count": 20
        }
      ]
    },
    {
      "cell_type": "code",
      "source": [
        "%%writefile app.py\n",
        "# -*- coding: utf-8 -*-\n",
        "# Copyright 2018-2022 Streamlit Inc.\n",
        "#\n",
        "# Licensed under the Apache License, Version 2.0 (the \"License\");\n",
        "# you may not use this file except in compliance with the License.\n",
        "# You may obtain a copy of the License at\n",
        "#\n",
        "#    http://www.apache.org/licenses/LICENSE-2.0\n",
        "#\n",
        "# Unless required by applicable law or agreed to in writing, software\n",
        "# distributed under the License is distributed on an \"AS IS\" BASIS,\n",
        "# WITHOUT WARRANTIES OR CONDITIONS OF ANY KIND, either express or implied.\n",
        "# See the License for the specific language governing permissions and\n",
        "# limitations under the License.\n",
        "\n",
        "\"\"\"An example of showing geographic data.\"\"\"\n",
        "\n",
        "import altair as alt\n",
        "import numpy as np\n",
        "import pandas as pd\n",
        "import pydeck as pdk\n",
        "import streamlit as st\n",
        "\n",
        "# SETTING PAGE CONFIG TO WIDE MODE AND ADDING A TITLE AND FAVICON\n",
        "st.set_page_config(layout=\"wide\", page_title=\"NYC Ridesharing Demo\", page_icon=\":taxi:\")\n",
        "\n",
        "# LOAD DATA ONCE\n",
        "@st.experimental_singleton\n",
        "def load_data():\n",
        "    data = pd.read_csv(\n",
        "        \"uber-raw-data-sep14.csv.gz\",\n",
        "        nrows=100000,  # approx. 10% of data\n",
        "        names=[\n",
        "            \"date/time\",\n",
        "            \"lat\",\n",
        "            \"lon\",\n",
        "        ],  # specify names directly since they don't change\n",
        "        skiprows=1,  # don't read header since names specified directly\n",
        "        usecols=[0, 1, 2],  # doesn't load last column, constant value \"B02512\"\n",
        "        parse_dates=[\n",
        "            \"date/time\"\n",
        "        ],  # set as datetime instead of converting after the fact\n",
        "    )\n",
        "\n",
        "    return data\n",
        "\n",
        "\n",
        "# FUNCTION FOR AIRPORT MAPS\n",
        "def map(data, lat, lon, zoom):\n",
        "    st.write(\n",
        "        pdk.Deck(\n",
        "            map_style=\"mapbox://styles/mapbox/light-v9\",\n",
        "            initial_view_state={\n",
        "                \"latitude\": lat,\n",
        "                \"longitude\": lon,\n",
        "                \"zoom\": zoom,\n",
        "                \"pitch\": 50,\n",
        "            },\n",
        "            layers=[\n",
        "                pdk.Layer(\n",
        "                    \"HexagonLayer\",\n",
        "                    data=data,\n",
        "                    get_position=[\"lon\", \"lat\"],\n",
        "                    radius=100,\n",
        "                    elevation_scale=4,\n",
        "                    elevation_range=[0, 1000],\n",
        "                    pickable=True,\n",
        "                    extruded=True,\n",
        "                ),\n",
        "            ],\n",
        "        )\n",
        "    )\n",
        "\n",
        "\n",
        "# FILTER DATA FOR A SPECIFIC HOUR, CACHE\n",
        "@st.experimental_memo\n",
        "def filterdata(df, hour_selected):\n",
        "    return df[df[\"date/time\"].dt.hour == hour_selected]\n",
        "\n",
        "\n",
        "# CALCULATE MIDPOINT FOR GIVEN SET OF DATA\n",
        "@st.experimental_memo\n",
        "def mpoint(lat, lon):\n",
        "    return (np.average(lat), np.average(lon))\n",
        "\n",
        "\n",
        "# FILTER DATA BY HOUR\n",
        "@st.experimental_memo\n",
        "def histdata(df, hr):\n",
        "    filtered = data[\n",
        "        (df[\"date/time\"].dt.hour >= hr) & (df[\"date/time\"].dt.hour < (hr + 1))\n",
        "    ]\n",
        "\n",
        "    hist = np.histogram(filtered[\"date/time\"].dt.minute, bins=60, range=(0, 60))[0]\n",
        "\n",
        "    return pd.DataFrame({\"minute\": range(60), \"pickups\": hist})\n",
        "\n",
        "\n",
        "# STREAMLIT APP LAYOUT\n",
        "data = load_data()\n",
        "\n",
        "# LAYING OUT THE TOP SECTION OF THE APP\n",
        "row1_1, row1_2 = st.columns((2, 3))\n",
        "\n",
        "# SEE IF THERE'S A QUERY PARAM IN THE URL (e.g. ?pickup_hour=2)\n",
        "# THIS ALLOWS YOU TO PASS A STATEFUL URL TO SOMEONE WITH A SPECIFIC HOUR SELECTED,\n",
        "# E.G. https://share.streamlit.io/streamlit/demo-uber-nyc-pickups/main?pickup_hour=2\n",
        "if not st.session_state.get(\"url_synced\", False):\n",
        "    try:\n",
        "        pickup_hour = int(st.experimental_get_query_params()[\"pickup_hour\"][0])\n",
        "        st.session_state[\"pickup_hour\"] = pickup_hour\n",
        "        st.session_state[\"url_synced\"] = True\n",
        "    except KeyError:\n",
        "        pass\n",
        "\n",
        "# IF THE SLIDER CHANGES, UPDATE THE QUERY PARAM\n",
        "def update_query_params():\n",
        "    hour_selected = st.session_state[\"pickup_hour\"]\n",
        "    st.experimental_set_query_params(pickup_hour=hour_selected)\n",
        "\n",
        "\n",
        "with row1_1:\n",
        "    st.title(\"NYC Uber Ridesharing Data\")\n",
        "    hour_selected = st.slider(\n",
        "        \"Select hour of pickup\", 0, 23, key=\"pickup_hour\", on_change=update_query_params\n",
        "    )\n",
        "\n",
        "\n",
        "with row1_2:\n",
        "    st.write(\n",
        "        \"\"\"\n",
        "    ##\n",
        "    Examining how Uber pickups vary over time in New York City's and at its major regional airports.\n",
        "    By sliding the slider on the left you can view different slices of time and explore different transportation trends.\n",
        "    \"\"\"\n",
        "    )\n",
        "\n",
        "# LAYING OUT THE MIDDLE SECTION OF THE APP WITH THE MAPS\n",
        "row2_1, row2_2, row2_3, row2_4 = st.columns((2, 1, 1, 1))\n",
        "\n",
        "# SETTING THE ZOOM LOCATIONS FOR THE AIRPORTS\n",
        "la_guardia = [40.7900, -73.8700]\n",
        "jfk = [40.6650, -73.7821]\n",
        "newark = [40.7090, -74.1805]\n",
        "zoom_level = 12\n",
        "midpoint = mpoint(data[\"lat\"], data[\"lon\"])\n",
        "\n",
        "with row2_1:\n",
        "    st.write(\n",
        "        f\"\"\"**All New York City from {hour_selected}:00 and {(hour_selected + 1) % 24}:00**\"\"\"\n",
        "    )\n",
        "    map(filterdata(data, hour_selected), midpoint[0], midpoint[1], 11)\n",
        "\n",
        "with row2_2:\n",
        "    st.write(\"**La Guardia Airport**\")\n",
        "    map(filterdata(data, hour_selected), la_guardia[0], la_guardia[1], zoom_level)\n",
        "\n",
        "with row2_3:\n",
        "    st.write(\"**JFK Airport**\")\n",
        "    map(filterdata(data, hour_selected), jfk[0], jfk[1], zoom_level)\n",
        "\n",
        "with row2_4:\n",
        "    st.write(\"**Newark Airport**\")\n",
        "    map(filterdata(data, hour_selected), newark[0], newark[1], zoom_level)\n",
        "\n",
        "# CALCULATING DATA FOR THE HISTOGRAM\n",
        "chart_data = histdata(data, hour_selected)\n",
        "\n",
        "# LAYING OUT THE HISTOGRAM SECTION\n",
        "st.write(\n",
        "    f\"\"\"**Breakdown of rides per minute between {hour_selected}:00 and {(hour_selected + 1) % 24}:00**\"\"\"\n",
        ")\n",
        "\n",
        "st.altair_chart(\n",
        "    alt.Chart(chart_data)\n",
        "    .mark_area(\n",
        "        interpolate=\"step-after\",\n",
        "    )\n",
        "    .encode(\n",
        "        x=alt.X(\"minute:Q\", scale=alt.Scale(nice=False)),\n",
        "        y=alt.Y(\"pickups:Q\"),\n",
        "        tooltip=[\"minute\", \"pickups\"],\n",
        "    )\n",
        "    .configure_mark(opacity=0.2, color=\"red\"),\n",
        "    use_container_width=True,\n",
        ")"
      ],
      "metadata": {
        "id": "Ntj_BU3bnJli",
        "outputId": "a41a410d-7b18-4749-feba-ff54003268aa",
        "colab": {
          "base_uri": "https://localhost:8080/"
        }
      },
      "execution_count": 11,
      "outputs": [
        {
          "output_type": "stream",
          "name": "stdout",
          "text": [
            "Overwriting app.py\n"
          ]
        }
      ]
    },
    {
      "cell_type": "markdown",
      "source": [
        "## ●Authtokenの設定\n",
        "ngrokで接続するために必要な「Authtoken」を設定します。  \n",
        "以下のコードの、  \n",
        "`!ngrok authtoken YourAuthtoken`  \n",
        "における  \n",
        "`YourAuthtoken`の箇所を、自分のAuthtokenに置き換えます。  \n",
        "Authtokenは、ngrokのサイトに登録すれば取得することができます。  \n",
        "https://ngrok.com/\n"
      ],
      "metadata": {
        "id": "j03EsJaHh4KK"
      }
    },
    {
      "cell_type": "code",
      "source": [
        "!ngrok authtoken 2IlpU0zV5qehnqjSE2YLp6giXID_2eseJA59RpbZBH7hdWPQ5"
      ],
      "metadata": {
        "id": "mTfmORj2Dn7-",
        "outputId": "8959a352-7f95-4c6d-d362-f85a2beab8a1",
        "colab": {
          "base_uri": "https://localhost:8080/"
        }
      },
      "execution_count": 16,
      "outputs": [
        {
          "output_type": "stream",
          "name": "stdout",
          "text": [
            "Authtoken saved to configuration file: /root/.ngrok2/ngrok.yml\n"
          ]
        }
      ]
    },
    {
      "cell_type": "markdown",
      "source": [
        "## ●アプリの起動と動作確認\n",
        "streamlitの`run`コマンドでアプリを起動します。\n"
      ],
      "metadata": {
        "id": "CnobL05MkjB1"
      }
    },
    {
      "cell_type": "code",
      "source": [
        "!streamlit run app.py &>/dev/null&  # 「&>/dev/null&」により、出力を非表示にしてバックグランドジョブとして実行"
      ],
      "metadata": {
        "id": "W0jXlMXWK0vi"
      },
      "execution_count": 17,
      "outputs": []
    },
    {
      "cell_type": "markdown",
      "source": [
        "ngrokのプロセスを終了した上で、新たにポートを指定して接続します。  \n",
        "接続の結果、urlを取得できます。  \n",
        "ngrokの無料プランでは同時に1つのプロセスしか動かせないので、エラーが発生した場合は「ランタイム」→「セッションの管理」で不要なGoogle Colabのセッションを修了しましょう。  "
      ],
      "metadata": {
        "id": "W5RLCJ7Sl2x_"
      }
    },
    {
      "cell_type": "code",
      "source": [
        "ngrok.kill()  # プロセスの修了\n",
        "url = ngrok.connect(port=\"8501\")  # 接続"
      ],
      "metadata": {
        "id": "v23ymsdLK3x7"
      },
      "execution_count": null,
      "outputs": []
    },
    {
      "cell_type": "markdown",
      "source": [
        "urlを表示し、リンク先でアプリが動作することを確認します。"
      ],
      "metadata": {
        "id": "NZ0O_pNan57t"
      }
    },
    {
      "cell_type": "code",
      "source": [
        "print(url)"
      ],
      "metadata": {
        "id": "MIY7ositLAXC",
        "outputId": "2d5bb88e-5399-4547-abab-c3814b708ace",
        "colab": {
          "base_uri": "https://localhost:8080/"
        }
      },
      "execution_count": 19,
      "outputs": [
        {
          "output_type": "stream",
          "name": "stdout",
          "text": [
            "http://5dec-34-172-177-9.ngrok.io\n"
          ]
        }
      ]
    }
  ]
}