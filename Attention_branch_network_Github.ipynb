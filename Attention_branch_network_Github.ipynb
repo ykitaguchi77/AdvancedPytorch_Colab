{
  "nbformat": 4,
  "nbformat_minor": 0,
  "metadata": {
    "colab": {
      "name": "Untitled47.ipynb",
      "provenance": [],
      "include_colab_link": true
    },
    "kernelspec": {
      "name": "python3",
      "display_name": "Python 3"
    }
  },
  "cells": [
    {
      "cell_type": "markdown",
      "metadata": {
        "id": "view-in-github",
        "colab_type": "text"
      },
      "source": [
        "<a href=\"https://colab.research.google.com/github/ykitaguchi77/AdvancedPytorch_Colab/blob/master/Attention_branch_network_Github.ipynb\" target=\"_parent\"><img src=\"https://colab.research.google.com/assets/colab-badge.svg\" alt=\"Open In Colab\"/></a>"
      ]
    },
    {
      "cell_type": "markdown",
      "metadata": {
        "id": "aAahyg9NIph3",
        "colab_type": "text"
      },
      "source": [
        "#Attention branch networkをcolabで実装\n",
        "https://github.com/machine-perception-robotics-group/attention_branch_network"
      ]
    },
    {
      "cell_type": "code",
      "metadata": {
        "id": "-FK0-DdivLFm",
        "colab_type": "code",
        "outputId": "abe8bfdd-0fa3-4dc6-c589-26e849cfc375",
        "colab": {
          "base_uri": "https://localhost:8080/",
          "height": 178
        }
      },
      "source": [
        "from google.colab import drive\n",
        "drive.mount('/content/drive')\n",
        "\n",
        "#dataset.zipを解凍\n",
        "!date -R\n",
        "!unzip -qq drive/My\\ Drive/Deep_learning/attention_branch_network.zip\n",
        "!date -R\n",
        "!ls\n"
      ],
      "execution_count": 1,
      "outputs": [
        {
          "output_type": "stream",
          "text": [
            "Go to this URL in a browser: https://accounts.google.com/o/oauth2/auth?client_id=947318989803-6bn6qk8qdgf4n4g3pfee6491hc0brc4i.apps.googleusercontent.com&redirect_uri=urn%3aietf%3awg%3aoauth%3a2.0%3aoob&response_type=code&scope=email%20https%3a%2f%2fwww.googleapis.com%2fauth%2fdocs.test%20https%3a%2f%2fwww.googleapis.com%2fauth%2fdrive%20https%3a%2f%2fwww.googleapis.com%2fauth%2fdrive.photos.readonly%20https%3a%2f%2fwww.googleapis.com%2fauth%2fpeopleapi.readonly\n",
            "\n",
            "Enter your authorization code:\n",
            "··········\n",
            "Mounted at /content/drive\n",
            "Mon, 13 Apr 2020 06:03:13 +0000\n",
            "Mon, 13 Apr 2020 06:03:19 +0000\n",
            "attention_branch_network-master  drive\tsample_data\n"
          ],
          "name": "stdout"
        }
      ]
    },
    {
      "cell_type": "code",
      "metadata": {
        "id": "WpTizePnxmit",
        "colab_type": "code",
        "outputId": "6a785e9a-870a-4e77-dec2-159053598960",
        "colab": {
          "base_uri": "https://localhost:8080/",
          "height": 52
        }
      },
      "source": [
        "import os\n",
        "os.chdir('/content/attention_branch_network-master')\n",
        "!ls"
      ],
      "execution_count": 2,
      "outputs": [
        {
          "output_type": "stream",
          "text": [
            "checkpoints  example.jpeg  LICENSE  README_en.md  TRAINING.md\n",
            "cifar.py     imagenet.py   models   README.md\t  utils\n"
          ],
          "name": "stdout"
        }
      ]
    },
    {
      "cell_type": "code",
      "metadata": {
        "id": "cL1jZH6AI9QL",
        "colab_type": "code",
        "colab": {
          "base_uri": "https://localhost:8080/",
          "height": 175
        },
        "outputId": "7f0529aa-c29f-4b17-eca6-e7f48c96f18d"
      },
      "source": [
        "!python3 imagenet.py --workers"
      ],
      "execution_count": 4,
      "outputs": [
        {
          "output_type": "stream",
          "text": [
            "usage: imagenet.py [-h] [-d DATA] [-j N] [--epochs N] [--start-epoch N]\n",
            "                   [--train-batch N] [--test-batch N] [--lr LR]\n",
            "                   [--drop Dropout] [--schedule SCHEDULE [SCHEDULE ...]]\n",
            "                   [--gamma GAMMA] [--momentum M] [--weight-decay W] [-c PATH]\n",
            "                   [--resume PATH] [--arch ARCH] [--depth DEPTH]\n",
            "                   [--cardinality CARDINALITY] [--base-width BASE_WIDTH]\n",
            "                   [--widen-factor WIDEN_FACTOR] [--manualSeed MANUALSEED]\n",
            "                   [-e] [--pretrained] [--gpu-id GPU_ID]\n",
            "imagenet.py: error: argument -j/--workers: expected one argument\n"
          ],
          "name": "stdout"
        }
      ]
    },
    {
      "cell_type": "code",
      "metadata": {
        "id": "Qm-j3mlhx57G",
        "colab_type": "code",
        "outputId": "16edc142-cefd-41cf-82f2-121cb8222744",
        "colab": {
          "base_uri": "https://localhost:8080/",
          "height": 285
        }
      },
      "source": [
        "!python3 imagenet.py"
      ],
      "execution_count": 0,
      "outputs": [
        {
          "output_type": "stream",
          "text": [
            "/usr/local/lib/python3.6/dist-packages/torchvision/transforms/transforms.py:704: UserWarning: The use of the transforms.RandomSizedCrop transform is deprecated, please use transforms.RandomResizedCrop instead.\n",
            "  \"please use transforms.RandomResizedCrop instead.\")\n",
            "Traceback (most recent call last):\n",
            "  File \"imagenet.py\", line 399, in <module>\n",
            "    main()\n",
            "  File \"imagenet.py\", line 132, in main\n",
            "    normalize,\n",
            "  File \"/usr/local/lib/python3.6/dist-packages/torchvision/datasets/folder.py\", line 209, in __init__\n",
            "    is_valid_file=is_valid_file)\n",
            "  File \"/usr/local/lib/python3.6/dist-packages/torchvision/datasets/folder.py\", line 93, in __init__\n",
            "    classes, class_to_idx = self._find_classes(self.root)\n",
            "  File \"/usr/local/lib/python3.6/dist-packages/torchvision/datasets/folder.py\", line 122, in _find_classes\n",
            "    classes = [d.name for d in os.scandir(dir) if d.is_dir()]\n",
            "FileNotFoundError: [Errno 2] No such file or directory: 'path to dataset/train'\n"
          ],
          "name": "stdout"
        }
      ]
    },
    {
      "cell_type": "code",
      "metadata": {
        "id": "XtjU6_K24oXk",
        "colab_type": "code",
        "outputId": "fab613c3-6cab-4dc6-ce4c-5b6745207ad9",
        "colab": {
          "base_uri": "https://localhost:8080/",
          "height": 168
        }
      },
      "source": [
        "use_cuda"
      ],
      "execution_count": 0,
      "outputs": [
        {
          "output_type": "error",
          "ename": "NameError",
          "evalue": "ignored",
          "traceback": [
            "\u001b[0;31m---------------------------------------------------------------------------\u001b[0m",
            "\u001b[0;31mNameError\u001b[0m                                 Traceback (most recent call last)",
            "\u001b[0;32m<ipython-input-8-a43e9c2ef442>\u001b[0m in \u001b[0;36m<module>\u001b[0;34m()\u001b[0m\n\u001b[0;32m----> 1\u001b[0;31m \u001b[0muse_cuda\u001b[0m\u001b[0;34m\u001b[0m\u001b[0;34m\u001b[0m\u001b[0m\n\u001b[0m",
            "\u001b[0;31mNameError\u001b[0m: name 'use_cuda' is not defined"
          ]
        }
      ]
    }
  ]
}