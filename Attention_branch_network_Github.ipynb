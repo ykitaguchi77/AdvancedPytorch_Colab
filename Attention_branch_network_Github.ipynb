{
  "nbformat": 4,
  "nbformat_minor": 0,
  "metadata": {
    "colab": {
      "name": "Untitled47.ipynb",
      "provenance": [],
      "toc_visible": true,
      "include_colab_link": true
    },
    "kernelspec": {
      "name": "python3",
      "display_name": "Python 3"
    },
    "accelerator": "GPU"
  },
  "cells": [
    {
      "cell_type": "markdown",
      "metadata": {
        "id": "view-in-github",
        "colab_type": "text"
      },
      "source": [
        "<a href=\"https://colab.research.google.com/github/ykitaguchi77/AdvancedPytorch_Colab/blob/master/Attention_branch_network_Github.ipynb\" target=\"_parent\"><img src=\"https://colab.research.google.com/assets/colab-badge.svg\" alt=\"Open In Colab\"/></a>"
      ]
    },
    {
      "cell_type": "markdown",
      "metadata": {
        "id": "aAahyg9NIph3",
        "colab_type": "text"
      },
      "source": [
        "#Attention branch networkをcolabで実装\n",
        "https://github.com/machine-perception-robotics-group/attention_branch_network"
      ]
    },
    {
      "cell_type": "code",
      "metadata": {
        "id": "-FK0-DdivLFm",
        "colab_type": "code",
        "outputId": "17c8a620-8cbc-4642-ba7c-c07b14908d9e",
        "colab": {
          "base_uri": "https://localhost:8080/",
          "height": 178
        }
      },
      "source": [
        "from google.colab import drive\n",
        "drive.mount('/content/drive')\n",
        "\n",
        "#dataset.zipを解凍\n",
        "!date -R\n",
        "!unzip -qq drive/My\\ Drive/Deep_learning/attention_branch_network.zip\n",
        "!date -R\n",
        "!ls\n"
      ],
      "execution_count": 3,
      "outputs": [
        {
          "output_type": "stream",
          "text": [
            "Go to this URL in a browser: https://accounts.google.com/o/oauth2/auth?client_id=947318989803-6bn6qk8qdgf4n4g3pfee6491hc0brc4i.apps.googleusercontent.com&redirect_uri=urn%3aietf%3awg%3aoauth%3a2.0%3aoob&response_type=code&scope=email%20https%3a%2f%2fwww.googleapis.com%2fauth%2fdocs.test%20https%3a%2f%2fwww.googleapis.com%2fauth%2fdrive%20https%3a%2f%2fwww.googleapis.com%2fauth%2fdrive.photos.readonly%20https%3a%2f%2fwww.googleapis.com%2fauth%2fpeopleapi.readonly\n",
            "\n",
            "Enter your authorization code:\n",
            "··········\n",
            "Mounted at /content/drive\n",
            "Mon, 13 Apr 2020 06:10:28 +0000\n",
            "Mon, 13 Apr 2020 06:10:32 +0000\n",
            "attention_branch_network-master  drive\tsample_data\n"
          ],
          "name": "stdout"
        }
      ]
    },
    {
      "cell_type": "code",
      "metadata": {
        "id": "WpTizePnxmit",
        "colab_type": "code",
        "outputId": "3435bad3-01b4-4ca9-af34-f4b558d33fc5",
        "colab": {
          "base_uri": "https://localhost:8080/",
          "height": 52
        }
      },
      "source": [
        "import os\n",
        "os.chdir('/content/attention_branch_network-master')\n",
        "!ls"
      ],
      "execution_count": 4,
      "outputs": [
        {
          "output_type": "stream",
          "text": [
            "checkpoints  example.jpeg  LICENSE  README_en.md  TRAINING.md\n",
            "cifar.py     imagenet.py   models   README.md\t  utils\n"
          ],
          "name": "stdout"
        }
      ]
    },
    {
      "cell_type": "code",
      "metadata": {
        "id": "cL1jZH6AI9QL",
        "colab_type": "code",
        "colab": {
          "base_uri": "https://localhost:8080/",
          "height": 862
        },
        "outputId": "43b1c8d0-3b37-4fd3-f737-276d03865a2d"
      },
      "source": [
        "#HELPを参照\n",
        "!python3 imagenet.py -h"
      ],
      "execution_count": 5,
      "outputs": [
        {
          "output_type": "stream",
          "text": [
            "usage: imagenet.py [-h] [-d DATA] [-j N] [--epochs N] [--start-epoch N]\n",
            "                   [--train-batch N] [--test-batch N] [--lr LR]\n",
            "                   [--drop Dropout] [--schedule SCHEDULE [SCHEDULE ...]]\n",
            "                   [--gamma GAMMA] [--momentum M] [--weight-decay W] [-c PATH]\n",
            "                   [--resume PATH] [--arch ARCH] [--depth DEPTH]\n",
            "                   [--cardinality CARDINALITY] [--base-width BASE_WIDTH]\n",
            "                   [--widen-factor WIDEN_FACTOR] [--manualSeed MANUALSEED]\n",
            "                   [-e] [--pretrained] [--gpu-id GPU_ID]\n",
            "\n",
            "PyTorch ImageNet Training\n",
            "\n",
            "optional arguments:\n",
            "  -h, --help            show this help message and exit\n",
            "  -d DATA, --data DATA\n",
            "  -j N, --workers N     number of data loading workers (default: 4)\n",
            "  --epochs N            number of total epochs to run\n",
            "  --start-epoch N       manual epoch number (useful on restarts)\n",
            "  --train-batch N       train batchsize (default: 256)\n",
            "  --test-batch N        test batchsize (default: 200)\n",
            "  --lr LR, --learning-rate LR\n",
            "                        initial learning rate\n",
            "  --drop Dropout, --dropout Dropout\n",
            "                        Dropout ratio\n",
            "  --schedule SCHEDULE [SCHEDULE ...]\n",
            "                        Decrease learning rate at these epochs.\n",
            "  --gamma GAMMA         LR is multiplied by gamma on schedule.\n",
            "  --momentum M          momentum\n",
            "  --weight-decay W, --wd W\n",
            "                        weight decay (default: 1e-4)\n",
            "  -c PATH, --checkpoint PATH\n",
            "                        path to save checkpoint (default: checkpoint)\n",
            "  --resume PATH         path to latest checkpoint (default: none)\n",
            "  --arch ARCH, -a ARCH  model architecture: resnet101 | resnet152 | resnet18 |\n",
            "                        resnet34 | resnet50 | se_resnet_101 | se_resnet_152 |\n",
            "                        se_resnet_18 | se_resnet_34 | se_resnet_50 (default:\n",
            "                        resnet18)\n",
            "  --depth DEPTH         Model depth.\n",
            "  --cardinality CARDINALITY\n",
            "                        ResNet cardinality (group).\n",
            "  --base-width BASE_WIDTH\n",
            "                        ResNet base width.\n",
            "  --widen-factor WIDEN_FACTOR\n",
            "                        Widen factor. 4 -> 64, 8 -> 128, ...\n",
            "  --manualSeed MANUALSEED\n",
            "                        manual seed\n",
            "  -e, --evaluate        evaluate model on validation set\n",
            "  --pretrained          use pre-trained model\n",
            "  --gpu-id GPU_ID       id(s) for CUDA_VISIBLE_DEVICES\n"
          ],
          "name": "stdout"
        }
      ]
    },
    {
      "cell_type": "code",
      "metadata": {
        "id": "Qm-j3mlhx57G",
        "colab_type": "code",
        "outputId": "6034caec-115a-4908-f6f4-d3a46deac954",
        "colab": {
          "base_uri": "https://localhost:8080/",
          "height": 195
        }
      },
      "source": [
        "!python3 imagenet.py -d \"/content/drive/My Drive/Deep_learning/applstra\""
      ],
      "execution_count": 6,
      "outputs": [
        {
          "output_type": "stream",
          "text": [
            "/usr/local/lib/python3.6/dist-packages/torchvision/transforms/transforms.py:704: UserWarning: The use of the transforms.RandomSizedCrop transform is deprecated, please use transforms.RandomResizedCrop instead.\n",
            "  \"please use transforms.RandomResizedCrop instead.\")\n",
            "/usr/local/lib/python3.6/dist-packages/torchvision/transforms/transforms.py:220: UserWarning: The use of the transforms.Scale transform is deprecated, please use transforms.Resize instead.\n",
            "  \"please use transforms.Resize instead.\")\n",
            "=> creating model 'resnet18'\n",
            "    Total params: 21.61M\n",
            "\n",
            "Epoch: [1 | 90] LR: 0.100000\n",
            "\u001b[?25l\n"
          ],
          "name": "stdout"
        }
      ]
    },
    {
      "cell_type": "code",
      "metadata": {
        "id": "XtjU6_K24oXk",
        "colab_type": "code",
        "outputId": "fab613c3-6cab-4dc6-ce4c-5b6745207ad9",
        "colab": {
          "base_uri": "https://localhost:8080/",
          "height": 168
        }
      },
      "source": [
        "use_cuda"
      ],
      "execution_count": 0,
      "outputs": [
        {
          "output_type": "error",
          "ename": "NameError",
          "evalue": "ignored",
          "traceback": [
            "\u001b[0;31m---------------------------------------------------------------------------\u001b[0m",
            "\u001b[0;31mNameError\u001b[0m                                 Traceback (most recent call last)",
            "\u001b[0;32m<ipython-input-8-a43e9c2ef442>\u001b[0m in \u001b[0;36m<module>\u001b[0;34m()\u001b[0m\n\u001b[0;32m----> 1\u001b[0;31m \u001b[0muse_cuda\u001b[0m\u001b[0;34m\u001b[0m\u001b[0;34m\u001b[0m\u001b[0m\n\u001b[0m",
            "\u001b[0;31mNameError\u001b[0m: name 'use_cuda' is not defined"
          ]
        }
      ]
    }
  ]
}