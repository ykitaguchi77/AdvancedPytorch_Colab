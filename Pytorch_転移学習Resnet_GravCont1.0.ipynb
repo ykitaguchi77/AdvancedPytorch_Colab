{
  "nbformat": 4,
  "nbformat_minor": 0,
  "metadata": {
    "colab": {
      "name": "Pytorch_転移学習_test.ipynb",
      "provenance": [],
      "include_colab_link": true
    },
    "kernelspec": {
      "name": "python3",
      "display_name": "Python 3"
    },
    "accelerator": "GPU"
  },
  "cells": [
    {
      "cell_type": "markdown",
      "metadata": {
        "id": "view-in-github",
        "colab_type": "text"
      },
      "source": [
        "<a href=\"https://colab.research.google.com/github/ykitaguchi77/AdvancedPytorch_Colab/blob/master/Pytorch_%E8%BB%A2%E7%A7%BB%E5%AD%A6%E7%BF%92Resnet_GravCont1.0.ipynb\" target=\"_parent\"><img src=\"https://colab.research.google.com/assets/colab-badge.svg\" alt=\"Open In Colab\"/></a>"
      ]
    },
    {
      "cell_type": "markdown",
      "metadata": {
        "id": "U4HYzU9ckXbS",
        "colab_type": "text"
      },
      "source": [
        "#PyTorch : Tutorial 初級 : 転移学習チュートリアル\n",
        "\n",
        "http://torch.classcat.com/2018/04/29/pytorch-tutorial-transfer-learning/\n"
      ]
    },
    {
      "cell_type": "markdown",
      "metadata": {
        "id": "oyzcteflxK14",
        "colab_type": "text"
      },
      "source": [
        "#自作データ、Early stopping"
      ]
    },
    {
      "cell_type": "code",
      "metadata": {
        "id": "F4oE6PwpkNUb",
        "colab_type": "code",
        "colab": {}
      },
      "source": [
        "# License: BSD\n",
        "# Author: Sasank Chilamkurthy\n",
        "\n",
        "from __future__ import print_function, division\n",
        "\n",
        "import torch\n",
        "import torch.nn as nn\n",
        "import torch.optim as optim\n",
        "from torch.optim import lr_scheduler\n",
        "import numpy as np\n",
        "import torchvision\n",
        "from torchvision import datasets, models, transforms\n",
        "import matplotlib.pyplot as plt\n",
        "import time\n",
        "import os\n",
        "import copy\n",
        "\n",
        "#Advanced Pytorchから\n",
        "import glob\n",
        "import os.path as osp\n",
        "import random\n",
        "import numpy as np\n",
        "import json\n",
        "from PIL import Image\n",
        "from tqdm import tqdm\n",
        "import matplotlib.pyplot as plt\n",
        "%matplotlib inline\n",
        "\n",
        "import torch\n",
        "import torch.nn as nn\n",
        "import torch.optim as optim\n",
        "import torch.utils.data as data\n",
        "import torchvision\n",
        "from torchvision import models, transforms\n",
        "\n",
        "#ukiyoeから\n",
        "import matplotlib.pyplot as plt\n",
        "\n",
        "plt.ion()   # interactive mode"
      ],
      "execution_count": 0,
      "outputs": []
    },
    {
      "cell_type": "markdown",
      "metadata": {
        "id": "5sZw9awMlMpC",
        "colab_type": "text"
      },
      "source": [
        "#Google driveのデータをマウント"
      ]
    },
    {
      "cell_type": "code",
      "metadata": {
        "id": "fbsPFIplk0Zb",
        "colab_type": "code",
        "outputId": "68ee9099-0949-4a66-ba83-449dfbc747f8",
        "colab": {
          "base_uri": "https://localhost:8080/",
          "height": 178
        }
      },
      "source": [
        "\n",
        "'''\n",
        "grav: 甲状腺眼症\n",
        "cont: コントロール\n",
        "黒の空白を挿入することにより225px*225pxの画像を生成、RESNETを用いて転移学習\n",
        "－－－－－－－－－－－－－－\n",
        "アップデータするデータの構造\n",
        "gravcont.zip ----data---- hymenoptera_data----train\n",
        "                         |            |    |--val\n",
        "                         |            |-- imagenet_class_index.json\n",
        "                         |            |-- __init__.py\n",
        "                         |            |-- bennetts-wallabu-01.jpg\n",
        "                         |            |-- goldenretriever-3724972_640.jpg\n",
        "                         |\n",
        "                         |-- utils---- __pycache__---- __init__.cpython-36.pyc\n",
        "                                       |                        |-- dataloader_image_classification.cpython-36.pyc\n",
        "                                       |-- __init__.py\n",
        "                                       |-- dataloader_image_classification.py\n",
        "－－－－－－－－－－－－－－\n",
        "'''                                     \n",
        "\n",
        "#google driveをcolabolatoryにマウント\n",
        "from google.colab import drive\n",
        "drive.mount('/content/drive')\n",
        "\n",
        "#Advanced.zipを解凍\n",
        "\n",
        "!date -R\n",
        "!unzip -qq drive/My\\ Drive/gravcont.zip\n",
        "!date -R\n",
        "!ls"
      ],
      "execution_count": 2,
      "outputs": [
        {
          "output_type": "stream",
          "text": [
            "Go to this URL in a browser: https://accounts.google.com/o/oauth2/auth?client_id=947318989803-6bn6qk8qdgf4n4g3pfee6491hc0brc4i.apps.googleusercontent.com&redirect_uri=urn%3aietf%3awg%3aoauth%3a2.0%3aoob&response_type=code&scope=email%20https%3a%2f%2fwww.googleapis.com%2fauth%2fdocs.test%20https%3a%2f%2fwww.googleapis.com%2fauth%2fdrive%20https%3a%2f%2fwww.googleapis.com%2fauth%2fdrive.photos.readonly%20https%3a%2f%2fwww.googleapis.com%2fauth%2fpeopleapi.readonly\n",
            "\n",
            "Enter your authorization code:\n",
            "··········\n",
            "Mounted at /content/drive\n",
            "Tue, 14 Jan 2020 11:35:03 +0000\n",
            "Tue, 14 Jan 2020 11:35:08 +0000\n",
            "data  drive  sample_data  utils\n"
          ],
          "name": "stdout"
        }
      ]
    },
    {
      "cell_type": "markdown",
      "metadata": {
        "id": "XGMZmsSGkjOC",
        "colab_type": "text"
      },
      "source": [
        "#データをロードする\n",
        "データをロードするために torchvision と torch.utils.data パッケージを使用します。今日解いていく問題はアリ (= ants) とハチ (= bees) を分類するモデルを訓練することです。アリとハチのためにおよそ 120 訓練画像を持ちます。各クラスのために 75 検証画像があります。通常は、スクラッチから訓練される場合、これは一般化するには非常に小さいデータセットです。私達は転移学習を使用していますので、合理的に上手く一般化することができるはずです。\n",
        "\n",
        "このデータセットは imagenet の非常に小さなサブセットです。"
      ]
    },
    {
      "cell_type": "code",
      "metadata": {
        "id": "2Xcl55uJknDK",
        "colab_type": "code",
        "outputId": "f79faf8c-df40-45dd-9dd4-dd05b9e8d22e",
        "colab": {
          "base_uri": "https://localhost:8080/",
          "height": 140
        }
      },
      "source": [
        "# 入力画像の前処理をするクラス\n",
        "# 訓練時と推論時で処理が異なる\n",
        "\n",
        "\"\"\"\n",
        "    画像の前処理クラス。訓練時、検証時で異なる動作をする。\n",
        "    画像のサイズをリサイズし、色を標準化する。\n",
        "    訓練時はRandomResizedCropとRandomHorizontalFlipでデータオーギュメンテーションする。\n",
        "\n",
        "\n",
        "    Attributes\n",
        "    ----------\n",
        "    resize : int\n",
        "        リサイズ先の画像の大きさ。\n",
        "    mean : (R, G, B)\n",
        "        各色チャネルの平均値。\n",
        "    std : (R, G, B)\n",
        "        各色チャネルの標準偏差。\n",
        "\"\"\"\n",
        "\n",
        "data_transforms = {\n",
        "    'train': transforms.Compose([\n",
        "        transforms.RandomResizedCrop(224, scale=(0.5,1.0)),\n",
        "        transforms.RandomHorizontalFlip(),\n",
        "        transforms.ToTensor(),\n",
        "        transforms.Normalize([0.485, 0.456, 0.406], [0.229, 0.224, 0.225])\n",
        "    ]),\n",
        "    'val': transforms.Compose([\n",
        "        transforms.Resize(224),\n",
        "        transforms.ToTensor(),\n",
        "        transforms.Normalize([0.485, 0.456, 0.406], [0.229, 0.224, 0.225])\n",
        "    ]),\n",
        "}\n",
        "\n",
        "data_dir = '/content/data/hymenoptera_data'\n",
        "image_datasets = {x: datasets.ImageFolder(os.path.join(data_dir, x),\n",
        "                                          data_transforms[x])\n",
        "                  for x in ['train', 'val']}\n",
        "dataloaders = {x: torch.utils.data.DataLoader(image_datasets[x], batch_size=20,\n",
        "                                             shuffle=True, num_workers=4)\n",
        "              for x in ['train', 'val']}\n",
        "dataset_sizes = {x: len(image_datasets[x]) for x in ['train', 'val']}\n",
        "class_names = image_datasets['train'].classes\n",
        "\n",
        "device = torch.device(\"cuda:0\" if torch.cuda.is_available() else \"cpu\")\n",
        "\n",
        "\n",
        "\n",
        "print(class_names)\n",
        "k=0\n",
        "for i in class_names:\n",
        "    print(class_names[k]+\"_train:\"+str(len(os.listdir(path='/content/data/hymenoptera_data/train/'+class_names[k]))))\n",
        "    k+=1\n",
        "k=0\n",
        "for i in class_names:\n",
        "    print(class_names[k]+\"_val:\"+str(len(os.listdir(path='/content/data/hymenoptera_data/val/'+class_names[k]))))\n",
        "    k+=1\n",
        "\n",
        "print(\"training data set_total：\"+ str(len(image_datasets['train'])))\n",
        "print(\"validating data set_total：\"+str(len(image_datasets['val'])))"
      ],
      "execution_count": 38,
      "outputs": [
        {
          "output_type": "stream",
          "text": [
            "['cont', 'grav']\n",
            "cont_train:256\n",
            "grav_train:256\n",
            "cont_val:65\n",
            "grav_val:65\n",
            "training data set_total：512\n",
            "validating data set_total：130\n"
          ],
          "name": "stdout"
        }
      ]
    },
    {
      "cell_type": "markdown",
      "metadata": {
        "id": "cQowdDzHmTdT",
        "colab_type": "text"
      },
      "source": [
        "#少数の画像を可視化する"
      ]
    },
    {
      "cell_type": "code",
      "metadata": {
        "id": "E1YMGAaimaLK",
        "colab_type": "code",
        "outputId": "e0790561-370a-4509-b980-57d67cd2cd44",
        "colab": {
          "base_uri": "https://localhost:8080/",
          "height": 190
        }
      },
      "source": [
        "def imshow(inp, title=None):\n",
        "    \"\"\"Imshow for Tensor.\"\"\"\n",
        "    inp = inp.numpy().transpose((1, 2, 0))\n",
        "    mean = np.array([0.485, 0.456, 0.406])\n",
        "    std = np.array([0.229, 0.224, 0.225])\n",
        "    inp = std * inp + mean\n",
        "    inp = np.clip(inp, 0, 1)\n",
        "    plt.imshow(inp)\n",
        "    if title is not None:\n",
        "        plt.title(title)\n",
        "    plt.pause(0.001)  # pause a bit so that plots are updated\n",
        "\n",
        "\n",
        "# Get a batch of training data\n",
        "inputs, classes = next(iter(dataloaders['train']))\n",
        "\n",
        "# Make a grid from batch\n",
        "out = torchvision.utils.make_grid(inputs)\n",
        "\n",
        "imshow(out, title=[class_names[x] for x in classes])"
      ],
      "execution_count": 60,
      "outputs": [
        {
          "output_type": "display_data",
          "data": {
            "image/png": "[encoded data removed]",
            "text/plain": [
              "<Figure size 432x288 with 1 Axes>"
            ]
          },
          "metadata": {
            "tags": []
          }
        }
      ]
    },
    {
      "cell_type": "markdown",
      "metadata": {
        "id": "o9q7wSBWaQ_t",
        "colab_type": "text"
      },
      "source": [
        "#Define the Early Stopping Class"
      ]
    },
    {
      "cell_type": "code",
      "metadata": {
        "id": "U78WhRfxaRH7",
        "colab_type": "code",
        "colab": {}
      },
      "source": [
        "import numpy as np\n",
        "import torch\n",
        "\n",
        "class EarlyStopping:\n",
        "    \"\"\"Early stops the training if validation loss doesn't improve after a given patience.\"\"\"\n",
        "    def __init__(self, patience=7, verbose=False, delta=0):\n",
        "        \"\"\"\n",
        "        Args:\n",
        "            patience (int): How long to wait after last time validation loss improved.\n",
        "                            Default: 7\n",
        "            verbose (bool): If True, prints a message for each validation loss improvement. \n",
        "                            Default: False\n",
        "            delta (float): Minimum change in the monitored quantity to qualify as an improvement.\n",
        "                            Default: 0\n",
        "        \"\"\"\n",
        "        self.patience = patience\n",
        "        self.verbose = verbose\n",
        "        self.counter = 0\n",
        "        self.best_score = None\n",
        "        self.early_stop = False\n",
        "        self.val_loss_min = np.Inf\n",
        "        self.delta = delta\n",
        "\n",
        "    def __call__(self, val_loss, model):\n",
        "\n",
        "        score = -val_loss\n",
        "\n",
        "        if self.best_score is None:\n",
        "            self.best_score = score\n",
        "            self.save_checkpoint(val_loss, model)\n",
        "        elif score < self.best_score + self.delta:\n",
        "            self.counter += 1\n",
        "            print(f'EarlyStopping counter: {self.counter} out of {self.patience}')\n",
        "            if self.counter >= self.patience:\n",
        "                self.early_stop = True\n",
        "        else:\n",
        "            self.best_score = score\n",
        "            self.save_checkpoint(val_loss, model)\n",
        "            self.counter = 0\n",
        "\n",
        "    def save_checkpoint(self, val_loss, model):\n",
        "        '''Saves model when validation loss decrease.'''\n",
        "        if self.verbose:\n",
        "            print(f'Validation loss decreased ({self.val_loss_min:.6f} --> {val_loss:.6f}).  Saving model ...')\n",
        "        torch.save(model.state_dict(), 'checkpoint.pt')\n",
        "        self.val_loss_min = val_loss"
      ],
      "execution_count": 0,
      "outputs": []
    },
    {
      "cell_type": "markdown",
      "metadata": {
        "id": "cSq-oHh4mobp",
        "colab_type": "text"
      },
      "source": [
        "#モデルを訓練する\n",
        "さて、モデルを訓練するための一般的な関数を書きましょう。ここで、次を示します :\n",
        "\n",
        "学習率をスケジューリングする\n",
        "ベスト・モデルをセーブする\n",
        "以下で、パラメータ scheduler は torch.optim.lr_scheduler からの LR scheduler オブジェクトです。"
      ]
    },
    {
      "cell_type": "code",
      "metadata": {
        "id": "VO7mosiCmrq6",
        "colab_type": "code",
        "colab": {}
      },
      "source": [
        "def train_model(model, criterion, optimizer, scheduler, patience, num_epochs):\n",
        "    since = time.time()\n",
        "\n",
        "    best_model_wts = copy.deepcopy(model.state_dict())\n",
        "    best_acc = 0.0\n",
        "\n",
        "    # to track the training loss as the model trains\n",
        "    train_loss = []\n",
        "    # to track the validation loss as the model trains\n",
        "    valid_loss = []\n",
        "\n",
        "\n",
        "    # initialize the early_stopping object\n",
        "    early_stopping = EarlyStopping(patience=patience, verbose=True)\n",
        "\n",
        "    for epoch in range(num_epochs):\n",
        "        print('Epoch {}/{}'.format(epoch, num_epochs - 1))\n",
        "        print('-' * 10)\n",
        "\n",
        "        # Each epoch has a training and validation phase\n",
        "        for phase in ['train', 'val']:\n",
        "            if phase == 'train':\n",
        "                scheduler.step()\n",
        "                model.train()  # Set model to training mode\n",
        "            else:\n",
        "                model.eval()   # Set model to evaluate mode\n",
        "\n",
        "            running_loss = 0.0\n",
        "            running_corrects = 0\n",
        "\n",
        "            # Iterate over data.\n",
        "            for inputs, labels in dataloaders[phase]:\n",
        "                inputs = inputs.to(device)\n",
        "                labels = labels.to(device)\n",
        "\n",
        "                # zero the parameter gradients\n",
        "                optimizer.zero_grad()\n",
        "\n",
        "                # forward\n",
        "                # track history if only in train\n",
        "                with torch.set_grad_enabled(phase == 'train'):\n",
        "                    outputs = model(inputs)\n",
        "                    _, preds = torch.max(outputs, 1)\n",
        "                    loss = criterion(outputs, labels)\n",
        "\n",
        "                    # backward + optimize only if in training phase\n",
        "                    if phase == 'train':\n",
        "                        loss.backward()\n",
        "                        optimizer.step()\n",
        "\n",
        "                # statistics\n",
        "                running_loss += loss.item() * inputs.size(0)\n",
        "                running_corrects += torch.sum(preds == labels.data)\n",
        "\n",
        "            epoch_loss = running_loss / dataset_sizes[phase]\n",
        "            epoch_acc = running_corrects.double() / dataset_sizes[phase] \n",
        "            \n",
        "            # record train_loss and valid_loss\n",
        "            if phase == 'train':\n",
        "                train_loss.append(epoch_loss)\n",
        "            if phase == 'val':\n",
        "                valid_loss.append(epoch_loss)\n",
        "            #print(train_loss)\n",
        "            #print(valid_loss)\n",
        "\n",
        "            print('{} Loss: {:.4f} Acc: {:.4f}'.format(\n",
        "                phase, epoch_loss, epoch_acc))\n",
        "\n",
        "\n",
        "            # deep copy the model\n",
        "            if phase == 'val' and epoch_acc > best_acc:\n",
        "                best_acc = epoch_acc\n",
        "                best_model_wts = copy.deepcopy(model.state_dict())\n",
        "      \n",
        "      # early_stopping needs the validation loss to check if it has decresed, \n",
        "      # and if it has, it will make a checkpoint of the current model\n",
        "        if phase == 'val':    \n",
        "            early_stopping(epoch_loss, model)\n",
        "                \n",
        "            if early_stopping.early_stop:\n",
        "                print(\"Early stopping\")\n",
        "                break\n",
        "        print()\n",
        "\n",
        "\n",
        "    time_elapsed = time.time() - since\n",
        "    print('Training complete in {:.0f}m {:.0f}s'.format(\n",
        "        time_elapsed // 60, time_elapsed % 60))\n",
        "    print('Best val Acc: {:4f}'.format(best_acc))\n",
        "\n",
        "    # load best model weights\n",
        "    model.load_state_dict(best_model_wts)\n",
        "    return model, train_loss, valid_loss"
      ],
      "execution_count": 0,
      "outputs": []
    },
    {
      "cell_type": "markdown",
      "metadata": {
        "id": "URMZLxsvmyZS",
        "colab_type": "text"
      },
      "source": [
        "#モデル予測を可視化する\n",
        "少数の画像のための予測を表示するための一般的な関数。"
      ]
    },
    {
      "cell_type": "code",
      "metadata": {
        "id": "ga3kWm5Nm1Mj",
        "colab_type": "code",
        "colab": {}
      },
      "source": [
        "def visualize_model(model, num_images=6):\n",
        "    was_training = model.training\n",
        "    model.eval()\n",
        "    images_so_far = 0\n",
        "    fig = plt.figure()\n",
        "\n",
        "    with torch.no_grad():\n",
        "        for i, (inputs, labels) in enumerate(dataloaders['val']):\n",
        "            inputs = inputs.to(device)\n",
        "            labels = labels.to(device)\n",
        "\n",
        "            outputs = model(inputs)\n",
        "            _, preds = torch.max(outputs, 1)\n",
        "\n",
        "            for j in range(inputs.size()[0]):\n",
        "                images_so_far += 1\n",
        "                ax = plt.subplot(num_images//2, 2, images_so_far)\n",
        "                ax.axis('off')\n",
        "                ax.set_title('predicted: {}'.format(class_names[preds[j]]))\n",
        "                imshow(inputs.cpu().data[j])\n",
        "\n",
        "                if images_so_far == num_images:\n",
        "                    model.train(mode=was_training)\n",
        "                    return\n",
        "        model.train(mode=was_training)"
      ],
      "execution_count": 0,
      "outputs": []
    },
    {
      "cell_type": "markdown",
      "metadata": {
        "id": "BhvTS0Y8m3HD",
        "colab_type": "text"
      },
      "source": [
        "#convnet を再調整する\n",
        "事前訓練されたモデルをロードして最後の完全結合層をリセットします。"
      ]
    },
    {
      "cell_type": "code",
      "metadata": {
        "id": "6s7odcUUm-hT",
        "colab_type": "code",
        "colab": {}
      },
      "source": [
        "model_ft = models.resnet18(pretrained=True)\n",
        "num_ftrs = model_ft.fc.in_features\n",
        "model_ft.fc = nn.Linear(num_ftrs, 2)\n",
        "\n",
        "#GPU使用\n",
        "model_ft = model_ft.to(device)\n",
        "\n",
        "#損失関数を定義\n",
        "criterion = nn.CrossEntropyLoss()\n",
        "\n",
        "# Observe that all parameters are being optimized\n",
        "optimizer_ft = optim.SGD(model_ft.parameters(), lr=0.001, momentum=0.9)\n",
        "\n",
        "# Decay LR by a factor of 0.1 every 7 epochs\n",
        "exp_lr_scheduler = lr_scheduler.StepLR(optimizer_ft, step_size=7, gamma=0.1)"
      ],
      "execution_count": 0,
      "outputs": []
    },
    {
      "cell_type": "markdown",
      "metadata": {
        "id": "XaLCTzTLnBSL",
        "colab_type": "text"
      },
      "source": [
        "#訓練と評価\n",
        "CPU 上でおよそ 15-25 分かかるはずです。けれども GPU 上なら、1 分もかかりません。"
      ]
    },
    {
      "cell_type": "code",
      "metadata": {
        "id": "8ijHctNfnD_i",
        "colab_type": "code",
        "outputId": "1ae1a6c6-de30-4af7-a1c4-3976537bc8c8",
        "colab": {
          "base_uri": "https://localhost:8080/",
          "height": 1000
        }
      },
      "source": [
        "model_ft, train_loss, valid_loss = train_model(model_ft, criterion, optimizer_ft, exp_lr_scheduler, patience=5, num_epochs=25)"
      ],
      "execution_count": 46,
      "outputs": [
        {
          "output_type": "stream",
          "text": [
            "Epoch 0/24\n",
            "----------\n"
          ],
          "name": "stdout"
        },
        {
          "output_type": "stream",
          "text": [
            "/usr/local/lib/python3.6/dist-packages/torch/optim/lr_scheduler.py:100: UserWarning: Detected call of `lr_scheduler.step()` before `optimizer.step()`. In PyTorch 1.1.0 and later, you should call them in the opposite order: `optimizer.step()` before `lr_scheduler.step()`.  Failure to do this will result in PyTorch skipping the first value of the learning rate schedule.See more details at https://pytorch.org/docs/stable/optim.html#how-to-adjust-learning-rate\n",
            "  \"https://pytorch.org/docs/stable/optim.html#how-to-adjust-learning-rate\", UserWarning)\n"
          ],
          "name": "stderr"
        },
        {
          "output_type": "stream",
          "text": [
            "train Loss: 0.6655 Acc: 0.5762\n",
            "val Loss: 0.5892 Acc: 0.6769\n",
            "Validation loss decreased (inf --> 0.589206).  Saving model ...\n",
            "\n",
            "Epoch 1/24\n",
            "----------\n",
            "train Loss: 0.5552 Acc: 0.7148\n",
            "val Loss: 0.6526 Acc: 0.6000\n",
            "EarlyStopping counter: 1 out of 5\n",
            "\n",
            "Epoch 2/24\n",
            "----------\n",
            "train Loss: 0.5069 Acc: 0.7305\n",
            "val Loss: 0.4571 Acc: 0.7846\n",
            "Validation loss decreased (0.589206 --> 0.457117).  Saving model ...\n",
            "\n",
            "Epoch 3/24\n",
            "----------\n",
            "train Loss: 0.4172 Acc: 0.8105\n",
            "val Loss: 0.4798 Acc: 0.7923\n",
            "EarlyStopping counter: 1 out of 5\n",
            "\n",
            "Epoch 4/24\n",
            "----------\n",
            "train Loss: 0.3507 Acc: 0.8516\n",
            "val Loss: 0.3994 Acc: 0.8000\n",
            "Validation loss decreased (0.457117 --> 0.399406).  Saving model ...\n",
            "\n",
            "Epoch 5/24\n",
            "----------\n",
            "train Loss: 0.3618 Acc: 0.8379\n",
            "val Loss: 0.3962 Acc: 0.8154\n",
            "Validation loss decreased (0.399406 --> 0.396159).  Saving model ...\n",
            "\n",
            "Epoch 6/24\n",
            "----------\n",
            "train Loss: 0.2801 Acc: 0.8945\n",
            "val Loss: 0.3930 Acc: 0.7692\n",
            "Validation loss decreased (0.396159 --> 0.392999).  Saving model ...\n",
            "\n",
            "Epoch 7/24\n",
            "----------\n",
            "train Loss: 0.2743 Acc: 0.8848\n",
            "val Loss: 0.3918 Acc: 0.7692\n",
            "Validation loss decreased (0.392999 --> 0.391836).  Saving model ...\n",
            "\n",
            "Epoch 8/24\n",
            "----------\n",
            "train Loss: 0.2565 Acc: 0.8887\n",
            "val Loss: 0.3938 Acc: 0.7846\n",
            "EarlyStopping counter: 1 out of 5\n",
            "\n",
            "Epoch 9/24\n",
            "----------\n",
            "train Loss: 0.2784 Acc: 0.8828\n",
            "val Loss: 0.3926 Acc: 0.7769\n",
            "EarlyStopping counter: 2 out of 5\n",
            "\n",
            "Epoch 10/24\n",
            "----------\n",
            "train Loss: 0.2479 Acc: 0.9102\n",
            "val Loss: 0.4117 Acc: 0.7846\n",
            "EarlyStopping counter: 3 out of 5\n",
            "\n",
            "Epoch 11/24\n",
            "----------\n",
            "train Loss: 0.2587 Acc: 0.8945\n",
            "val Loss: 0.3880 Acc: 0.7923\n",
            "Validation loss decreased (0.391836 --> 0.388033).  Saving model ...\n",
            "\n",
            "Epoch 12/24\n",
            "----------\n",
            "train Loss: 0.2517 Acc: 0.9023\n",
            "val Loss: 0.3906 Acc: 0.8000\n",
            "EarlyStopping counter: 1 out of 5\n",
            "\n",
            "Epoch 13/24\n",
            "----------\n",
            "train Loss: 0.2312 Acc: 0.9141\n",
            "val Loss: 0.3985 Acc: 0.7769\n",
            "EarlyStopping counter: 2 out of 5\n",
            "\n",
            "Epoch 14/24\n",
            "----------\n",
            "train Loss: 0.2546 Acc: 0.9043\n",
            "val Loss: 0.4099 Acc: 0.7923\n",
            "EarlyStopping counter: 3 out of 5\n",
            "\n",
            "Epoch 15/24\n",
            "----------\n",
            "train Loss: 0.2364 Acc: 0.9102\n",
            "val Loss: 0.3945 Acc: 0.7769\n",
            "EarlyStopping counter: 4 out of 5\n",
            "\n",
            "Epoch 16/24\n",
            "----------\n",
            "train Loss: 0.2376 Acc: 0.9141\n",
            "val Loss: 0.3847 Acc: 0.8154\n",
            "Validation loss decreased (0.388033 --> 0.384743).  Saving model ...\n",
            "\n",
            "Epoch 17/24\n",
            "----------\n",
            "train Loss: 0.2225 Acc: 0.9219\n",
            "val Loss: 0.3911 Acc: 0.8077\n",
            "EarlyStopping counter: 1 out of 5\n",
            "\n",
            "Epoch 18/24\n",
            "----------\n",
            "train Loss: 0.2317 Acc: 0.9199\n",
            "val Loss: 0.3975 Acc: 0.7769\n",
            "EarlyStopping counter: 2 out of 5\n",
            "\n",
            "Epoch 19/24\n",
            "----------\n",
            "train Loss: 0.2077 Acc: 0.9395\n",
            "val Loss: 0.4060 Acc: 0.7846\n",
            "EarlyStopping counter: 3 out of 5\n",
            "\n",
            "Epoch 20/24\n",
            "----------\n",
            "train Loss: 0.2472 Acc: 0.9082\n",
            "val Loss: 0.3877 Acc: 0.8154\n",
            "EarlyStopping counter: 4 out of 5\n",
            "\n",
            "Epoch 21/24\n",
            "----------\n",
            "train Loss: 0.2357 Acc: 0.8984\n",
            "val Loss: 0.3966 Acc: 0.7846\n",
            "EarlyStopping counter: 5 out of 5\n",
            "Early stopping\n",
            "Training complete in 2m 1s\n",
            "Best val Acc: 0.815385\n"
          ],
          "name": "stdout"
        }
      ]
    },
    {
      "cell_type": "code",
      "metadata": {
        "id": "WrWRhUFoGZYS",
        "colab_type": "code",
        "outputId": "dd368397-b546-452d-badf-093011208127",
        "colab": {
          "base_uri": "https://localhost:8080/",
          "height": 585
        }
      },
      "source": [
        "# visualize the loss as the network trained\n",
        "fig = plt.figure(figsize=(10,8))\n",
        "plt.plot(range(1,len(train_loss)+1),train_loss, label='Training Loss')\n",
        "plt.plot(range(1,len(valid_loss)+1),valid_loss,label='Validation Loss')\n",
        "\n",
        "# find position of lowest validation loss\n",
        "minposs = valid_loss.index(min(valid_loss))+1 \n",
        "plt.axvline(minposs, linestyle='--', color='r',label='Early Stopping Checkpoint')\n",
        "\n",
        "plt.xlabel('epochs')\n",
        "plt.ylabel('loss')\n",
        "plt.ylim(0, 0.5) # consistent scale\n",
        "plt.xlim(0, len(train_loss)+1) # consistent scale\n",
        "plt.grid(True)\n",
        "plt.legend()\n",
        "plt.tight_layout()\n",
        "plt.show()\n",
        "fig.savefig('loss_plot.png', bbox_inches='tight')"
      ],
      "execution_count": 47,
      "outputs": [
        {
          "output_type": "display_data",
          "data": {
            "image/png": "[encoded data removed]",
            "text/plain": [
              "<Figure size 720x576 with 1 Axes>"
            ]
          },
          "metadata": {
            "tags": []
          }
        }
      ]
    },
    {
      "cell_type": "code",
      "metadata": {
        "id": "TzP0fvLCoWNS",
        "colab_type": "code",
        "colab": {}
      },
      "source": [
        "visualize_model(model_ft)"
      ],
      "execution_count": 0,
      "outputs": []
    },
    {
      "cell_type": "markdown",
      "metadata": {
        "id": "jSDw-HEoowRk",
        "colab_type": "text"
      },
      "source": [
        "#固定された特徴抽出器としての ConvNet\n",
        "ここで、最終層を除くネットワーク総てを凍結する必要があります。勾配が backward() で計算されないようにパラメータを凍結するために requires_grad == False を設定する必要があります。"
      ]
    },
    {
      "cell_type": "code",
      "metadata": {
        "id": "fDzcc8m4o0wS",
        "colab_type": "code",
        "colab": {}
      },
      "source": [
        "model_conv = torchvision.models.resnet18(pretrained=True)\n",
        "for param in model_conv.parameters():\n",
        "    param.requires_grad = False\n",
        "\n",
        "# Parameters of newly constructed modules have requires_grad=True by default\n",
        "num_ftrs = model_conv.fc.in_features\n",
        "model_conv.fc = nn.Linear(num_ftrs, 2)\n",
        "\n",
        "model_conv = model_conv.to(device)\n",
        "\n",
        "criterion = nn.CrossEntropyLoss()\n",
        "\n",
        "# Observe that only parameters of final layer are being optimized as\n",
        "# opoosed to before.\n",
        "optimizer_conv = optim.SGD(model_conv.fc.parameters(), lr=0.001, momentum=0.9)\n",
        "\n",
        "# Decay LR by a factor of 0.1 every 7 epochs\n",
        "exp_lr_scheduler = lr_scheduler.StepLR(optimizer_conv, step_size=7, gamma=0.1)"
      ],
      "execution_count": 0,
      "outputs": []
    },
    {
      "cell_type": "markdown",
      "metadata": {
        "id": "KbhM5pn3o-g7",
        "colab_type": "text"
      },
      "source": [
        "#訓練と評価\n",
        "これは CPU 上で前のシナリオに比べておよそ半分の時間で済むでしょう。ネットワークの殆どに対して勾配が計算される必要がないためです。けれども、forward は計算される必要があります。"
      ]
    },
    {
      "cell_type": "code",
      "metadata": {
        "id": "fBPFSO6QpGOS",
        "colab_type": "code",
        "outputId": "80b92833-7f64-4177-9ed1-2af9c4d5f827",
        "colab": {
          "base_uri": "https://localhost:8080/",
          "height": 1000
        }
      },
      "source": [
        "model_conv = train_model(model_conv, criterion, optimizer_conv,\n",
        "                         exp_lr_scheduler, patience=5, num_epochs=25)"
      ],
      "execution_count": 57,
      "outputs": [
        {
          "output_type": "stream",
          "text": [
            "Epoch 0/24\n",
            "----------\n"
          ],
          "name": "stdout"
        },
        {
          "output_type": "stream",
          "text": [
            "/usr/local/lib/python3.6/dist-packages/torch/optim/lr_scheduler.py:100: UserWarning: Detected call of `lr_scheduler.step()` before `optimizer.step()`. In PyTorch 1.1.0 and later, you should call them in the opposite order: `optimizer.step()` before `lr_scheduler.step()`.  Failure to do this will result in PyTorch skipping the first value of the learning rate schedule.See more details at https://pytorch.org/docs/stable/optim.html#how-to-adjust-learning-rate\n",
            "  \"https://pytorch.org/docs/stable/optim.html#how-to-adjust-learning-rate\", UserWarning)\n"
          ],
          "name": "stderr"
        },
        {
          "output_type": "stream",
          "text": [
            "train Loss: 0.7169 Acc: 0.5371\n",
            "val Loss: 0.6409 Acc: 0.6385\n",
            "Validation loss decreased (inf --> 0.640896).  Saving model ...\n",
            "\n",
            "Epoch 1/24\n",
            "----------\n",
            "train Loss: 0.6403 Acc: 0.6387\n",
            "val Loss: 0.6971 Acc: 0.5615\n",
            "EarlyStopping counter: 1 out of 5\n",
            "\n",
            "Epoch 2/24\n",
            "----------\n",
            "train Loss: 0.6205 Acc: 0.6191\n",
            "val Loss: 0.5932 Acc: 0.6538\n",
            "Validation loss decreased (0.640896 --> 0.593230).  Saving model ...\n",
            "\n",
            "Epoch 3/24\n",
            "----------\n",
            "train Loss: 0.6210 Acc: 0.6426\n",
            "val Loss: 0.5900 Acc: 0.6769\n",
            "Validation loss decreased (0.593230 --> 0.589977).  Saving model ...\n",
            "\n",
            "Epoch 4/24\n",
            "----------\n",
            "train Loss: 0.5997 Acc: 0.6719\n",
            "val Loss: 0.6424 Acc: 0.6077\n",
            "EarlyStopping counter: 1 out of 5\n",
            "\n",
            "Epoch 5/24\n",
            "----------\n",
            "train Loss: 0.5570 Acc: 0.7012\n",
            "val Loss: 0.6804 Acc: 0.5923\n",
            "EarlyStopping counter: 2 out of 5\n",
            "\n",
            "Epoch 6/24\n",
            "----------\n",
            "train Loss: 0.5720 Acc: 0.6914\n",
            "val Loss: 0.6077 Acc: 0.6692\n",
            "EarlyStopping counter: 3 out of 5\n",
            "\n",
            "Epoch 7/24\n",
            "----------\n",
            "train Loss: 0.5566 Acc: 0.6992\n",
            "val Loss: 0.6252 Acc: 0.6692\n",
            "EarlyStopping counter: 4 out of 5\n",
            "\n",
            "Epoch 8/24\n",
            "----------\n",
            "train Loss: 0.5449 Acc: 0.7305\n",
            "val Loss: 0.6114 Acc: 0.6692\n",
            "EarlyStopping counter: 5 out of 5\n",
            "Early stopping\n",
            "Training complete in 0m 28s\n",
            "Best val Acc: 0.676923\n"
          ],
          "name": "stdout"
        }
      ]
    },
    {
      "cell_type": "code",
      "metadata": {
        "id": "AmVfI2NupnAi",
        "colab_type": "code",
        "outputId": "d45b8605-2421-4485-8bd2-96d675bb978a",
        "colab": {
          "base_uri": "https://localhost:8080/",
          "height": 347
        }
      },
      "source": [
        "visualize_model(model_conv)\n",
        "\n",
        "plt.ioff()\n",
        "plt.show()"
      ],
      "execution_count": 58,
      "outputs": [
        {
          "output_type": "error",
          "ename": "AttributeError",
          "evalue": "ignored",
          "traceback": [
            "\u001b[0;31m---------------------------------------------------------------------------\u001b[0m",
            "\u001b[0;31mAttributeError\u001b[0m                            Traceback (most recent call last)",
            "\u001b[0;32m<ipython-input-58-b590b3d1873b>\u001b[0m in \u001b[0;36m<module>\u001b[0;34m()\u001b[0m\n\u001b[0;32m----> 1\u001b[0;31m \u001b[0mvisualize_model\u001b[0m\u001b[0;34m(\u001b[0m\u001b[0mmodel_conv\u001b[0m\u001b[0;34m)\u001b[0m\u001b[0;34m\u001b[0m\u001b[0;34m\u001b[0m\u001b[0m\n\u001b[0m\u001b[1;32m      2\u001b[0m \u001b[0;34m\u001b[0m\u001b[0m\n\u001b[1;32m      3\u001b[0m \u001b[0mplt\u001b[0m\u001b[0;34m.\u001b[0m\u001b[0mioff\u001b[0m\u001b[0;34m(\u001b[0m\u001b[0;34m)\u001b[0m\u001b[0;34m\u001b[0m\u001b[0;34m\u001b[0m\u001b[0m\n\u001b[1;32m      4\u001b[0m \u001b[0mplt\u001b[0m\u001b[0;34m.\u001b[0m\u001b[0mshow\u001b[0m\u001b[0;34m(\u001b[0m\u001b[0;34m)\u001b[0m\u001b[0;34m\u001b[0m\u001b[0;34m\u001b[0m\u001b[0m\n",
            "\u001b[0;32m<ipython-input-42-7070053f367a>\u001b[0m in \u001b[0;36mvisualize_model\u001b[0;34m(model, num_images)\u001b[0m\n\u001b[1;32m      1\u001b[0m \u001b[0;32mdef\u001b[0m \u001b[0mvisualize_model\u001b[0m\u001b[0;34m(\u001b[0m\u001b[0mmodel\u001b[0m\u001b[0;34m,\u001b[0m \u001b[0mnum_images\u001b[0m\u001b[0;34m=\u001b[0m\u001b[0;36m6\u001b[0m\u001b[0;34m)\u001b[0m\u001b[0;34m:\u001b[0m\u001b[0;34m\u001b[0m\u001b[0;34m\u001b[0m\u001b[0m\n\u001b[0;32m----> 2\u001b[0;31m     \u001b[0mwas_training\u001b[0m \u001b[0;34m=\u001b[0m \u001b[0mmodel\u001b[0m\u001b[0;34m.\u001b[0m\u001b[0mtraining\u001b[0m\u001b[0;34m\u001b[0m\u001b[0;34m\u001b[0m\u001b[0m\n\u001b[0m\u001b[1;32m      3\u001b[0m     \u001b[0mmodel\u001b[0m\u001b[0;34m.\u001b[0m\u001b[0meval\u001b[0m\u001b[0;34m(\u001b[0m\u001b[0;34m)\u001b[0m\u001b[0;34m\u001b[0m\u001b[0;34m\u001b[0m\u001b[0m\n\u001b[1;32m      4\u001b[0m     \u001b[0mimages_so_far\u001b[0m \u001b[0;34m=\u001b[0m \u001b[0;36m0\u001b[0m\u001b[0;34m\u001b[0m\u001b[0;34m\u001b[0m\u001b[0m\n\u001b[1;32m      5\u001b[0m     \u001b[0mfig\u001b[0m \u001b[0;34m=\u001b[0m \u001b[0mplt\u001b[0m\u001b[0;34m.\u001b[0m\u001b[0mfigure\u001b[0m\u001b[0;34m(\u001b[0m\u001b[0;34m)\u001b[0m\u001b[0;34m\u001b[0m\u001b[0;34m\u001b[0m\u001b[0m\n",
            "\u001b[0;31mAttributeError\u001b[0m: 'tuple' object has no attribute 'training'"
          ]
        }
      ]
    }
  ]
}