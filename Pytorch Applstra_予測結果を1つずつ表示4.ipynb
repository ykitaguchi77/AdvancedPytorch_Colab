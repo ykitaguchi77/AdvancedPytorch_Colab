{
  "nbformat": 4,
  "nbformat_minor": 0,
  "metadata": {
    "colab": {
      "name": "Untitled29.ipynb",
      "provenance": [],
      "authorship_tag": "ABX9TyPmwj9HhDXxg3m4zlGS0FlU",
      "include_colab_link": true
    },
    "kernelspec": {
      "name": "python3",
      "display_name": "Python 3"
    },
    "accelerator": "GPU"
  },
  "cells": [
    {
      "cell_type": "markdown",
      "metadata": {
        "id": "view-in-github",
        "colab_type": "text"
      },
      "source": [
        "<a href=\"https://colab.research.google.com/github/ykitaguchi77/AdvancedPytorch_Colab/blob/master/Pytorch%20Applstra_%E4%BA%88%E6%B8%AC%E7%B5%90%E6%9E%9C%E3%82%921%E3%81%A4%E3%81%9A%E3%81%A4%E8%A1%A8%E7%A4%BA4.ipynb\" target=\"_parent\"><img src=\"https://colab.research.google.com/assets/colab-badge.svg\" alt=\"Open In Colab\"/></a>"
      ]
    },
    {
      "cell_type": "markdown",
      "metadata": {
        "id": "4KHgYAvVpn_B",
        "colab_type": "text"
      },
      "source": [
        "#予測結果を1つずつ表示する"
      ]
    },
    {
      "cell_type": "code",
      "metadata": {
        "id": "7eVZc-9bMt0W",
        "colab_type": "code",
        "colab": {}
      },
      "source": [
        "from __future__ import print_function, division\n",
        "\n",
        "import torch\n",
        "import torch.nn as nn\n",
        "import torch.optim as optim\n",
        "from torch.optim import lr_scheduler\n",
        "from torch.autograd import Variable\n",
        "import torch.utils.data as data\n",
        "import numpy as np\n",
        "import torchvision\n",
        "from torchvision import datasets, models, transforms\n",
        "import matplotlib.pyplot as plt\n",
        "import time\n",
        "import os\n",
        "import copy\n",
        "import pandas as pd\n",
        "\n",
        "#Advanced Pytorchから\n",
        "import glob\n",
        "import os.path as osp\n",
        "import random\n",
        "import json\n",
        "from PIL import Image\n",
        "from tqdm import tqdm\n",
        "%matplotlib inline\n",
        "\n",
        "#サポートパッチのインポート\n",
        "from google.colab.patches import cv2_imshow\n",
        "import cv2\n",
        "\n",
        "plt.ion()   # interactive mode\n",
        "device = torch.device(\"cuda:0\" if torch.cuda.is_available() else \"cpu\")\n"
      ],
      "execution_count": 0,
      "outputs": []
    },
    {
      "cell_type": "markdown",
      "metadata": {
        "id": "80OHu7Nxp2_G",
        "colab_type": "text"
      },
      "source": [
        "#Google colabをマウント"
      ]
    },
    {
      "cell_type": "code",
      "metadata": {
        "id": "0fvOx674M7-v",
        "colab_type": "code",
        "colab": {}
      },
      "source": [
        "'''\n",
        "ファイル構成\n",
        "My Drive---Deep learning---applstra------train----appl\n",
        "                              |      |         |--stra\n",
        "                              |      |    \n",
        "                              |      |---val-------appl\n",
        "                              |                 |--stra\n",
        "                              |---applstra.pth\n",
        "'''\n",
        "\n",
        "from google.colab import drive\n",
        "drive.mount('/content/drive')"
      ],
      "execution_count": 0,
      "outputs": []
    },
    {
      "cell_type": "markdown",
      "metadata": {
        "id": "EvXG1608p7Hv",
        "colab_type": "text"
      },
      "source": [
        "#モデルのロード"
      ]
    },
    {
      "cell_type": "code",
      "metadata": {
        "id": "ofhExJn0NS0l",
        "colab_type": "code",
        "colab": {}
      },
      "source": [
        "# モデルの設定\n",
        "model_ft = models.resnet18(pretrained=True)\n",
        "num_ftrs = model_ft.fc.in_features\n",
        "model_ft.fc = nn.Linear(num_ftrs, 2)\n",
        "model_ft = model_ft.to(device) #model_ftをGPUに載せる\n",
        "\n",
        "# 重みロード\n",
        "PATH = '/content/drive/My Drive/Deep_learning/applstra/applstra.pth'\n",
        "model_ft.load_state_dict(torch.load(PATH))\n",
        "\n",
        "#評価モードにする\n",
        "model_ft.eval()"
      ],
      "execution_count": 0,
      "outputs": []
    },
    {
      "cell_type": "code",
      "metadata": {
        "id": "-ypu_u_Bd-4_",
        "colab_type": "code",
        "colab": {}
      },
      "source": [
        "#モデルのサマリー（省略可）\n",
        "from torchsummary import summary\n",
        "summary(model_ft, (3, 224, 224))"
      ],
      "execution_count": 0,
      "outputs": []
    },
    {
      "cell_type": "markdown",
      "metadata": {
        "id": "PtApBBavy4g4",
        "colab_type": "text"
      },
      "source": [
        "#画像とラベル表示のための関数を定義"
      ]
    },
    {
      "cell_type": "code",
      "metadata": {
        "id": "jvVtYkUOy5A6",
        "colab_type": "code",
        "colab": {}
      },
      "source": [
        "#対象のパスからラベルを抜き出して表示\n",
        "def getlabel(image_path):\n",
        "      image_name = os.path.basename(image_path)\n",
        "      label = os.path.basename(os.path.dirname(image_path))\n",
        "      return(image_name, label)\n",
        "\n",
        "'''\n",
        "#変形後の画像を表示\n",
        "def image_transform(image_path):\n",
        "\n",
        "    image=Image.open(image_path)\n",
        "\n",
        "    \n",
        "    #変形した画像を表示する\n",
        "    transform = transforms.Compose([\n",
        "            transforms.Resize(256),\n",
        "            transforms.CenterCrop(224)])\n",
        "    image_transformed = transform(image)\n",
        "    plt.imshow(np.array(image_transformed))\n",
        "'''\n",
        "\n",
        "#評価のための画像下処理\n",
        "def image_transform(image_path):    \n",
        "    image=Image.open(image_path)\n",
        "    transform = transforms.Compose([\n",
        "            transforms.Resize(256),\n",
        "            transforms.CenterCrop(224),\n",
        "            transforms.ToTensor(),\n",
        "            transforms.Normalize([0.485, 0.456, 0.406], [0.229, 0.224, 0.225])])\n",
        "    image_tensor = transform(image)\n",
        "\n",
        "    #バッチサイズの次元を先頭に追加した4Dテンソルに変換\n",
        "    image_tensor.unsqueeze_(0)\n",
        "    #print(image_tensor.size())  # torch.Size([1, 3, 224, 224])\n",
        "    image_tensor = image_tensor.to(device) #model_ftをGPUに載せる\n",
        "\n",
        "    return(image_tensor)\n",
        "\n",
        "#モデルにした処理した画像を投入して予測結果を表示\n",
        "def image_eval(image_tensor, label):\n",
        "    output = model_ft(Variable(image_tensor))\n",
        "    #print(output.size())  # torch.Size([1, 1000])\n",
        "    #print(output)\n",
        "\n",
        "    #正解は青色、不正解は赤色で表示する\n",
        "    _, pred = torch.max(output, 1)\n",
        "    model_pred = class_name[pred]\n",
        "\n",
        "    return(model_pred)  #class_nameの番号で出力される\n",
        "\n",
        "def showImage(image_path):\n",
        "    #画像のインポート\n",
        "    img = cv2.imread(image_path, cv2.IMREAD_UNCHANGED)\n",
        "    #画像のリサイズ\n",
        "    height = img.shape[0]\n",
        "    width = img.shape[1]\n",
        "    resized_img = cv2.resize(img, (int(width*300/height), 300))\n",
        "    cv2_imshow(resized_img)\n",
        "\n",
        "def calculateAccuracy (TP, TN, FP, FN):\n",
        "    accuracy = (TP + TN)/ (TP + TN + FP + FN)\n",
        "    precision  = TP/(FP + TP)\n",
        "    recall = TP/(TP + FN)\n",
        "    specificity = TN/(FP + TN)\n",
        "    f_value = (2*recall*precision)/(recall+precision)\n",
        "    return(accuracy, precision, recall, specificity, f_value)"
      ],
      "execution_count": 0,
      "outputs": []
    },
    {
      "cell_type": "markdown",
      "metadata": {
        "id": "9ctcIUsdqDwf",
        "colab_type": "text"
      },
      "source": [
        "#メインプログラム\n",
        "\n"
      ]
    },
    {
      "cell_type": "code",
      "metadata": {
        "id": "1SBzXxouqEJ1",
        "colab_type": "code",
        "colab": {}
      },
      "source": [
        "#ファイル名の取得\n",
        "image_path = glob.glob(\"/content/drive/My Drive/Deep_learning/applstra/val/*/*\")\n",
        "random.shuffle(image_path)  #表示順をランダムにする\n",
        "print(len(image_path))\n",
        "print(image_path) \n",
        "\n",
        "#対象画像のパスからラベルを抜き出す\n",
        "\n",
        "\n",
        "#ファイル名よりラベルを抜き出し、'class_name'と定義\n",
        "class_name = []\n",
        "class_path = glob.glob('/content/drive/My Drive/Deep_learning/applstra/val/*')\n",
        "for i in class_path:\n",
        "    class_name.append(os.path.basename(i))  \n",
        "print(class_name)"
      ],
      "execution_count": 0,
      "outputs": []
    },
    {
      "cell_type": "markdown",
      "metadata": {
        "id": "JF4j8b2JE-EK",
        "colab_type": "text"
      },
      "source": [
        "・True positive (TN) <br>\n",
        "・False positive (FP) <br>\n",
        "・True negative (TN) <br>\n",
        "・False negative (FN) <br>\n",
        "\n",
        "1. Accuracy = (TP + TN)/ (TP + TN + FP + FN)\n",
        "2. Precision = TP/(FP + TP) ※positive predictive value\n",
        "3. Recall = TP/(TP + FN)　※sensitivity\n",
        "4. Specificity = TN/(FP + TN)\n",
        "5. F_value = (2RecallPrecision)/(Recall+Precision)"
      ]
    },
    {
      "cell_type": "code",
      "metadata": {
        "id": "okikEKlnrEP9",
        "colab_type": "code",
        "colab": {}
      },
      "source": [
        "TP1, FP1, TN1, FN1, TP2, FP2, TN2, FN2 = [0,0,0,0,0,0,0,0]\n",
        "image_name_list = []\n",
        "label_list = []\n",
        "model_pred_list = []\n",
        "hum_pred_list = []\n",
        "\n",
        "for i in image_path:\n",
        "    image_name, label = getlabel(i)  #画像の名前とラベルを取得\n",
        "    image_tensor = image_transform(i)  #予測のための画像下処理\n",
        "    model_pred = image_eval(image_tensor, label)  #予測結果を出力   \n",
        "    \n",
        "    print('Image: '+ image_name)\n",
        "    print('Label: '+ label)\n",
        "    print('Pred: '+ predicted_label)\n",
        "    showImage(i)  #画像を表示\n",
        "    print() #空白行を入れる\n",
        "    time.sleep(0.1)\n",
        "\n",
        "    image_name_list.append(image_name)\n",
        "    label_list.append(label)\n",
        "    model_pred_list.append(model_pred)\n",
        "\n",
        "    if label == class_name[0]:\n",
        "        if model_pred == class_name[0]:\n",
        "            TP += 1\n",
        "        else:\n",
        "            FN += 1\n",
        "    elif label == class_name[1]:\n",
        "        if model_pred == class_name[1]:\n",
        "            TN += 1\n",
        "        else:\n",
        "            FP += 1\n",
        "\n",
        "#Accuracyを計算\n",
        "accuracy, precision, recall, specificity, f_value = calculateAccuracy (TP, TN, FP, FN)\n",
        "print('Accuracy: ' + str(accuracy))\n",
        "print('Precision (positive predictive value): ' + str(precision))\n",
        "print('Recall (sensitivity): ' + str(recall))\n",
        "print('Specificity: ' + str(specificity))\n",
        "print('F_value: ' + str(f_value))\n",
        "\n",
        "\n",
        "\n",
        "\n",
        "    "
      ],
      "execution_count": 0,
      "outputs": []
    },
    {
      "cell_type": "markdown",
      "metadata": {
        "id": "H3R0b5EBosHJ",
        "colab_type": "text"
      },
      "source": [
        "#不正解例のみを表示する"
      ]
    },
    {
      "cell_type": "code",
      "metadata": {
        "id": "fdTpi1ASFDAl",
        "colab_type": "code",
        "colab": {}
      },
      "source": [
        "for i in image_path:\n",
        "    image_name, label = getlabel(i)  #画像の名前とラベルを取得\n",
        "    image_tensor = image_transform(i)  #予測のための画像下処理\n",
        "    model_pred = image_eval(image_tensor, label)  #予測結果を出力   \n",
        "    \n",
        "    if label != model_pred:\n",
        "        print('Image: '+ image_name)\n",
        "        print('Label: '+ label)\n",
        "        print('Pred: '+ model_pred)\n",
        "        showImage(i)  #画像を表示\n",
        "        print() #空白行を入れる\n",
        "        time.sleep(0.1)\n",
        "    else:\n",
        "        pass"
      ],
      "execution_count": 0,
      "outputs": []
    },
    {
      "cell_type": "markdown",
      "metadata": {
        "id": "SI0_WMrLY_Tk",
        "colab_type": "text"
      },
      "source": [
        "#CSV形式で保存"
      ]
    },
    {
      "cell_type": "code",
      "metadata": {
        "id": "YDjO8h0IY_b5",
        "colab_type": "code",
        "colab": {}
      },
      "source": [
        "#print(image_name_list)\n",
        "#print(label_list)\n",
        "#print(model_pred_list)\n",
        "#print(hum_pred_list)\n",
        "\n",
        "#ラベルのリストを表示\n",
        "df = pd.DataFrame({'image_name':image_name_list, 'label':label_list, 'model_pred':model_pred_list})\n",
        "print(df)\n",
        "\n",
        "#CSV形式で保存\n",
        "df.to_csv('/content/drive/My Drive/Deep_learning/applstra/ModelPred_result.csv')"
      ],
      "execution_count": 0,
      "outputs": []
    }
  ]
}