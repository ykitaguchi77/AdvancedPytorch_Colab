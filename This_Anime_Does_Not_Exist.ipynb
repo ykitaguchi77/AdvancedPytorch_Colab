{
  "nbformat": 4,
  "nbformat_minor": 0,
  "metadata": {
    "colab": {
      "name": "Untitled14.ipynb",
      "provenance": [],
      "machine_shape": "hm",
      "authorship_tag": "ABX9TyMDY3jx/zVRW112hNBtQ9CG",
      "include_colab_link": true
    },
    "kernelspec": {
      "name": "python3",
      "display_name": "Python 3"
    },
    "language_info": {
      "name": "python"
    },
    "accelerator": "GPU",
    "gpuClass": "standard"
  },
  "cells": [
    {
      "cell_type": "markdown",
      "metadata": {
        "id": "view-in-github",
        "colab_type": "text"
      },
      "source": [
        "<a href=\"https://colab.research.google.com/github/ykitaguchi77/AdvancedPytorch_Colab/blob/master/This_Anime_Does_Not_Exist.ipynb\" target=\"_parent\"><img src=\"https://colab.research.google.com/assets/colab-badge.svg\" alt=\"Open In Colab\"/></a>"
      ]
    },
    {
      "cell_type": "markdown",
      "source": [
        "#**THIS ANIME DOES NOT EXIST**\n",
        "\n",
        "HomePage: https://thisanimedoesnotexist.ai/index_jp.html\n",
        "\n",
        "Implementation: http://cedro3.com/ai/anime/\n"
      ],
      "metadata": {
        "id": "3nzCgUiQHaN_"
      }
    },
    {
      "cell_type": "code",
      "execution_count": 6,
      "metadata": {
        "colab": {
          "base_uri": "https://localhost:8080/"
        },
        "id": "lkC8RI69HL6F",
        "outputId": "7ec22235-edfe-402a-8687-5b1632fc3184"
      },
      "outputs": [
        {
          "output_type": "stream",
          "name": "stdout",
          "text": [
            "fatal: destination path 'stylegan2' already exists and is not an empty directory.\n"
          ]
        }
      ],
      "source": [
        "# github からコードをコピー\n",
        "!git clone https://github.com/cedro3/stylegan2.git"
      ]
    },
    {
      "cell_type": "code",
      "source": [
        "# 学習済みの重みのダウンロード\n",
        "import gdown\n",
        "gdown.download('https://drive.google.com/u/1/uc?id=1_NUX9_xRGjce1KbCxT4frUsFWctlN4ZC', 'network-tadne.pkl', quiet=False)"
      ],
      "metadata": {
        "colab": {
          "base_uri": "https://localhost:8080/",
          "height": 106
        },
        "id": "5bq0_c9HH0At",
        "outputId": "5e439da4-16f9-41b9-b586-ea9d47d08a5b"
      },
      "execution_count": 7,
      "outputs": [
        {
          "output_type": "stream",
          "name": "stderr",
          "text": [
            "Downloading...\n",
            "From: https://drive.google.com/u/1/uc?id=1_NUX9_xRGjce1KbCxT4frUsFWctlN4ZC\n",
            "To: /content/stylegan2/network-tadne.pkl\n",
            "100%|██████████| 1.06G/1.06G [00:04<00:00, 260MB/s]\n"
          ]
        },
        {
          "output_type": "execute_result",
          "data": {
            "text/plain": [
              "'network-tadne.pkl'"
            ],
            "application/vnd.google.colaboratory.intrinsic+json": {
              "type": "string"
            }
          },
          "metadata": {},
          "execution_count": 7
        }
      ]
    },
    {
      "cell_type": "code",
      "source": [
        "# TensorFlow_plugin セッティングと関数定義\n",
        "%tensorflow_version 1.x\n",
        "%cd /content/stylegan2\n",
        "from function import *"
      ],
      "metadata": {
        "colab": {
          "base_uri": "https://localhost:8080/"
        },
        "id": "rJt64ZMTIBic",
        "outputId": "017c7972-d8f5-4f7b-e3d2-a8ab178f5ecb"
      },
      "execution_count": 8,
      "outputs": [
        {
          "output_type": "stream",
          "name": "stdout",
          "text": [
            "/content/stylegan2\n"
          ]
        }
      ]
    },
    {
      "cell_type": "markdown",
      "source": [
        "#**Blended image作成**"
      ],
      "metadata": {
        "id": "s9YouuwCIGyl"
      }
    },
    {
      "cell_type": "code",
      "source": [
        "# seedで指定した2枚の画像をブレンドした画像を生成する\n",
        "src_seed =  6676  \n",
        "dst_seed =  7562\n",
        "blending = 0.5 \n",
        "truncation_psi = 0.8 \n",
        "generate_images([src_seed, dst_seed], truncation_psi)\n",
        "\n",
        "print(\"Blended image (\", blending, \")\")\n",
        "blend_images(src_seed, dst_seed, blending=blending, truncation_psi=truncation_psi)"
      ],
      "metadata": {
        "id": "qC4B-Hh5IFTk"
      },
      "execution_count": null,
      "outputs": []
    },
    {
      "cell_type": "code",
      "source": [
        "# seedで指定した2枚の画像をモーフィングする動画を生成する \n",
        "src_seed =  5126\n",
        "dst_seed =  5805\n",
        "truncation_psi = 0.7 \n",
        "duration_sec = 5.0 \n",
        "mp4_fps = 20\n",
        "\n",
        "generate_images([src_seed, dst_seed], truncation_psi)\n",
        "output_filename = interpolate_between_seeds(seed_array=[src_seed, dst_seed], truncation=truncation_psi, duration_sec=duration_sec, mp4_fps=mp4_fps)\n",
        "\n",
        "# 生成した動画を再生する\n",
        "display_mp4(output_filename)"
      ],
      "metadata": {
        "id": "eYadI-bSIPwb"
      },
      "execution_count": null,
      "outputs": []
    },
    {
      "cell_type": "code",
      "source": [
        "# ランダムにグリッドでモーフィング画像を生成する \n",
        "random_seed = 822  \n",
        "duration_sec = 5 \n",
        "mp4_fps = 30 \n",
        "grid_width =  2\n",
        "grid_height =  2\n",
        "\n",
        "output_filename = make_video(grid_size=[grid_width,grid_height], duration_sec=duration_sec, mp4_fps=mp4_fps, random_seed=random_seed)\n",
        "\n",
        "# 生成した動画を再生する\n",
        "display_mp4(output_filename)"
      ],
      "metadata": {
        "id": "nuq6q0i5IdpC"
      },
      "execution_count": null,
      "outputs": []
    }
  ]
}