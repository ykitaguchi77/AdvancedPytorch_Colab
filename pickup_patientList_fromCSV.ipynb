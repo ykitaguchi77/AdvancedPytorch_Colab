{
  "nbformat": 4,
  "nbformat_minor": 0,
  "metadata": {
    "colab": {
      "provenance": [],
      "authorship_tag": "ABX9TyPuFN6aHSXdazYkvuiBI287",
      "include_colab_link": true
    },
    "kernelspec": {
      "name": "python3",
      "display_name": "Python 3"
    },
    "language_info": {
      "name": "python"
    }
  },
  "cells": [
    {
      "cell_type": "markdown",
      "metadata": {
        "id": "view-in-github",
        "colab_type": "text"
      },
      "source": [
        "<a href=\"https://colab.research.google.com/github/ykitaguchi77/AdvancedPytorch_Colab/blob/master/pickup_patientList_fromCSV.ipynb\" target=\"_parent\"><img src=\"https://colab.research.google.com/assets/colab-badge.svg\" alt=\"Open In Colab\"/></a>"
      ]
    },
    {
      "cell_type": "markdown",
      "source": [
        "#**GO_newPatient_listから患者番号を取り出す**"
      ],
      "metadata": {
        "id": "RhWdL2sqkAy-"
      }
    },
    {
      "cell_type": "code",
      "source": [
        "from google.colab import drive\n",
        "drive.mount('/content/drive')"
      ],
      "metadata": {
        "colab": {
          "base_uri": "https://localhost:8080/"
        },
        "id": "NGodf0KWkRbt",
        "outputId": "e07d32ad-0aa8-4006-ddc5-a9fc05d4f48e"
      },
      "execution_count": 33,
      "outputs": [
        {
          "output_type": "stream",
          "name": "stdout",
          "text": [
            "Drive already mounted at /content/drive; to attempt to forcibly remount, call drive.mount(\"/content/drive\", force_remount=True).\n"
          ]
        }
      ]
    },
    {
      "cell_type": "code",
      "execution_count": 2,
      "metadata": {
        "id": "Mugf7kpBj_wu"
      },
      "outputs": [],
      "source": [
        "csv_path = \"/content/drive/MyDrive/Deep_learning/GO_extended_dataset/GO_newPatient_list.csv\"\n",
        "\n",
        "image_folder_path = \"/content/drive/MyDrive/Deep_learning/GO_extended_dataset/GO_newPatient_250px\""
      ]
    },
    {
      "cell_type": "code",
      "source": [
        "import codecs\n",
        "import pandas as pd\n",
        "import glob\n",
        "import os\n",
        "\n",
        "#GO_newPatient_csvから画像のある患者のみを抜き出す\n",
        "with codecs.open(csv_path, \"r\", \"Shift-JIS\", \"ignore\") as file:\n",
        "        df = pd.read_csv(file,index_col=None, header=0)\n",
        "print(df.columns)\n",
        "\n",
        "df = df.dropna(subset=['SlideNO']) #特定の行が欠損値になっているものを除外"
      ],
      "metadata": {
        "colab": {
          "base_uri": "https://localhost:8080/"
        },
        "id": "qnByhK2JlH0d",
        "outputId": "5dd71c0b-25a8-4295-b689-7296ca32f7e3"
      },
      "execution_count": 27,
      "outputs": [
        {
          "output_type": "stream",
          "name": "stdout",
          "text": [
            "Index(['SlideNO', 'PATIENTNO', '漢字氏名', '生年月日', '性別', '病名コード', '病名', '病名開始日',\n",
            "       '病名終了日', '診療科', '医師', '甲状腺眼症あり1なし0', '中等症以上1軽症0', '活動性あり1なし0',\n",
            "       'ステロイドあり1なし0', '画像組み込み', 'Unnamed: 16'],\n",
            "      dtype='object')\n"
          ]
        }
      ]
    },
    {
      "cell_type": "code",
      "source": [
        "dirname = \"/content/drive/MyDrive/Deep_learning/GO_extended_dataset/GO_newPatient_250px/スライド\"\n",
        "ext = \"jpeg\"\n",
        "\n",
        "image_list = [dirname+str(i)+ext for i in range(len(os.listdir(image_folder_path)))]\n",
        "image_list"
      ],
      "metadata": {
        "colab": {
          "base_uri": "https://localhost:8080/"
        },
        "id": "9nnh2Jzxmurs",
        "outputId": "9e7a78b0-6404-40cc-d5fc-3e52a90ae4ec"
      },
      "execution_count": 32,
      "outputs": [
        {
          "output_type": "execute_result",
          "data": {
            "text/plain": [
              "['/content/drive/MyDrive/Deep_learning/GO_extended_dataset/GO_newPatient_250px/スライド0jpeg',\n",
              " '/content/drive/MyDrive/Deep_learning/GO_extended_dataset/GO_newPatient_250px/スライド1jpeg',\n",
              " '/content/drive/MyDrive/Deep_learning/GO_extended_dataset/GO_newPatient_250px/スライド2jpeg',\n",
              " '/content/drive/MyDrive/Deep_learning/GO_extended_dataset/GO_newPatient_250px/スライド3jpeg',\n",
              " '/content/drive/MyDrive/Deep_learning/GO_extended_dataset/GO_newPatient_250px/スライド4jpeg',\n",
              " '/content/drive/MyDrive/Deep_learning/GO_extended_dataset/GO_newPatient_250px/スライド5jpeg',\n",
              " '/content/drive/MyDrive/Deep_learning/GO_extended_dataset/GO_newPatient_250px/スライド6jpeg',\n",
              " '/content/drive/MyDrive/Deep_learning/GO_extended_dataset/GO_newPatient_250px/スライド7jpeg',\n",
              " '/content/drive/MyDrive/Deep_learning/GO_extended_dataset/GO_newPatient_250px/スライド8jpeg',\n",
              " '/content/drive/MyDrive/Deep_learning/GO_extended_dataset/GO_newPatient_250px/スライド9jpeg',\n",
              " '/content/drive/MyDrive/Deep_learning/GO_extended_dataset/GO_newPatient_250px/スライド10jpeg',\n",
              " '/content/drive/MyDrive/Deep_learning/GO_extended_dataset/GO_newPatient_250px/スライド11jpeg',\n",
              " '/content/drive/MyDrive/Deep_learning/GO_extended_dataset/GO_newPatient_250px/スライド12jpeg',\n",
              " '/content/drive/MyDrive/Deep_learning/GO_extended_dataset/GO_newPatient_250px/スライド13jpeg',\n",
              " '/content/drive/MyDrive/Deep_learning/GO_extended_dataset/GO_newPatient_250px/スライド14jpeg',\n",
              " '/content/drive/MyDrive/Deep_learning/GO_extended_dataset/GO_newPatient_250px/スライド15jpeg',\n",
              " '/content/drive/MyDrive/Deep_learning/GO_extended_dataset/GO_newPatient_250px/スライド16jpeg',\n",
              " '/content/drive/MyDrive/Deep_learning/GO_extended_dataset/GO_newPatient_250px/スライド17jpeg',\n",
              " '/content/drive/MyDrive/Deep_learning/GO_extended_dataset/GO_newPatient_250px/スライド18jpeg',\n",
              " '/content/drive/MyDrive/Deep_learning/GO_extended_dataset/GO_newPatient_250px/スライド19jpeg',\n",
              " '/content/drive/MyDrive/Deep_learning/GO_extended_dataset/GO_newPatient_250px/スライド20jpeg',\n",
              " '/content/drive/MyDrive/Deep_learning/GO_extended_dataset/GO_newPatient_250px/スライド21jpeg',\n",
              " '/content/drive/MyDrive/Deep_learning/GO_extended_dataset/GO_newPatient_250px/スライド22jpeg',\n",
              " '/content/drive/MyDrive/Deep_learning/GO_extended_dataset/GO_newPatient_250px/スライド23jpeg',\n",
              " '/content/drive/MyDrive/Deep_learning/GO_extended_dataset/GO_newPatient_250px/スライド24jpeg',\n",
              " '/content/drive/MyDrive/Deep_learning/GO_extended_dataset/GO_newPatient_250px/スライド25jpeg',\n",
              " '/content/drive/MyDrive/Deep_learning/GO_extended_dataset/GO_newPatient_250px/スライド26jpeg',\n",
              " '/content/drive/MyDrive/Deep_learning/GO_extended_dataset/GO_newPatient_250px/スライド27jpeg',\n",
              " '/content/drive/MyDrive/Deep_learning/GO_extended_dataset/GO_newPatient_250px/スライド28jpeg',\n",
              " '/content/drive/MyDrive/Deep_learning/GO_extended_dataset/GO_newPatient_250px/スライド29jpeg',\n",
              " '/content/drive/MyDrive/Deep_learning/GO_extended_dataset/GO_newPatient_250px/スライド30jpeg',\n",
              " '/content/drive/MyDrive/Deep_learning/GO_extended_dataset/GO_newPatient_250px/スライド31jpeg',\n",
              " '/content/drive/MyDrive/Deep_learning/GO_extended_dataset/GO_newPatient_250px/スライド32jpeg',\n",
              " '/content/drive/MyDrive/Deep_learning/GO_extended_dataset/GO_newPatient_250px/スライド33jpeg',\n",
              " '/content/drive/MyDrive/Deep_learning/GO_extended_dataset/GO_newPatient_250px/スライド34jpeg',\n",
              " '/content/drive/MyDrive/Deep_learning/GO_extended_dataset/GO_newPatient_250px/スライド35jpeg',\n",
              " '/content/drive/MyDrive/Deep_learning/GO_extended_dataset/GO_newPatient_250px/スライド36jpeg',\n",
              " '/content/drive/MyDrive/Deep_learning/GO_extended_dataset/GO_newPatient_250px/スライド37jpeg',\n",
              " '/content/drive/MyDrive/Deep_learning/GO_extended_dataset/GO_newPatient_250px/スライド38jpeg',\n",
              " '/content/drive/MyDrive/Deep_learning/GO_extended_dataset/GO_newPatient_250px/スライド39jpeg',\n",
              " '/content/drive/MyDrive/Deep_learning/GO_extended_dataset/GO_newPatient_250px/スライド40jpeg',\n",
              " '/content/drive/MyDrive/Deep_learning/GO_extended_dataset/GO_newPatient_250px/スライド41jpeg',\n",
              " '/content/drive/MyDrive/Deep_learning/GO_extended_dataset/GO_newPatient_250px/スライド42jpeg',\n",
              " '/content/drive/MyDrive/Deep_learning/GO_extended_dataset/GO_newPatient_250px/スライド43jpeg',\n",
              " '/content/drive/MyDrive/Deep_learning/GO_extended_dataset/GO_newPatient_250px/スライド44jpeg',\n",
              " '/content/drive/MyDrive/Deep_learning/GO_extended_dataset/GO_newPatient_250px/スライド45jpeg']"
            ]
          },
          "metadata": {},
          "execution_count": 32
        }
      ]
    },
    {
      "cell_type": "markdown",
      "source": [
        "#**Interference**"
      ],
      "metadata": {
        "id": "tJQxSuhPrCC0"
      }
    },
    {
      "cell_type": "code",
      "source": [],
      "metadata": {
        "id": "jCkfoSvcplSj"
      },
      "execution_count": null,
      "outputs": []
    }
  ]
}