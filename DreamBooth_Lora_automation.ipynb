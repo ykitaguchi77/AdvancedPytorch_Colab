{
  "nbformat": 4,
  "nbformat_minor": 0,
  "metadata": {
    "colab": {
      "provenance": [],
      "authorship_tag": "ABX9TyNoxRwwLQVCtUzwupJx306W",
      "include_colab_link": true
    },
    "kernelspec": {
      "name": "python3",
      "display_name": "Python 3"
    },
    "language_info": {
      "name": "python"
    }
  },
  "cells": [
    {
      "cell_type": "markdown",
      "metadata": {
        "id": "view-in-github",
        "colab_type": "text"
      },
      "source": [
        "<a href=\"https://colab.research.google.com/github/ykitaguchi77/AdvancedPytorch_Colab/blob/master/DreamBooth_Lora_automation.ipynb\" target=\"_parent\"><img src=\"https://colab.research.google.com/assets/colab-badge.svg\" alt=\"Open In Colab\"/></a>"
      ]
    },
    {
      "cell_type": "code",
      "execution_count": 1,
      "metadata": {
        "colab": {
          "base_uri": "https://localhost:8080/"
        },
        "id": "DOMFql9SeFFP",
        "outputId": "9cb33f5e-270d-4cfe-9b26-33b0ce3921f3"
      },
      "outputs": [
        {
          "output_type": "execute_result",
          "data": {
            "text/plain": [
              "'C:\\\\Users\\\\CorneAI\\\\sd-scripts'"
            ]
          },
          "metadata": {},
          "execution_count": 1
        }
      ],
      "source": [
        "pwd"
      ]
    },
    {
      "cell_type": "code",
      "source": [
        "import os\n",
        "%cd TrainingData_pterygium"
      ],
      "metadata": {
        "colab": {
          "base_uri": "https://localhost:8080/"
        },
        "id": "3NbX2fKZeSDy",
        "outputId": "8e8275c3-99d4-4216-c836-39ba22dc88de"
      },
      "execution_count": 2,
      "outputs": [
        {
          "output_type": "stream",
          "name": "stdout",
          "text": [
            "C:\\Users\\CorneAI\\sd-scripts\\TrainingData_pterygium\n"
          ]
        }
      ]
    },
    {
      "cell_type": "code",
      "source": [
        "%ls"
      ],
      "metadata": {
        "colab": {
          "base_uri": "https://localhost:8080/"
        },
        "id": "5MWGm262eYBN",
        "outputId": "c7ec8470-ad84-45b3-9675-9cdff22bd71a"
      },
      "execution_count": 8,
      "outputs": [
        {
          "output_type": "stream",
          "name": "stdout",
          "text": [
            " ドライブ C のボリューム ラベルは WINDOWS です\n",
            " ボリューム シリアル番号は 2880-08EC です\n",
            "\n",
            " C:\\Users\\CorneAI\\sd-scripts\\TrainingData_pterygium のディレクトリ\n",
            "\n",
            "2023/07/23  17:03    <DIR>          .\n",
            "2023/07/11  01:02    <DIR>          ..\n",
            "2023/07/22  13:46    <DIR>          cataract_image_768letterbox\n",
            "2023/07/15  03:05             1,297 command_dreambooth.txt\n",
            "2023/07/22  13:55               745 command_dreambooth_multiclass_letterbox.txt\n",
            "2023/07/15  23:24               651 command_dreambooth_myt16mai.txt\n",
            "2023/07/17  20:06               702 command_dreambooth_myt16mai_letterbox.txt\n",
            "2023/07/18  00:53             1,060 command_dreambooth_myt16mai_letterbox_add.txt\n",
            "2023/07/22  16:04               700 command_dreambooth_normal_letterbox.txt\n",
            "2023/07/23  01:09               705 command_dreambooth_pterygium_letterbox.txt\n",
            "2023/07/23  17:06               764 command_dreambooth_pterygium123mai.txt\n",
            "2023/07/23  13:54               924 command_lora.txt\n",
            "2023/07/01  22:55                 0 config.txt\n",
            "2023/07/21  18:56               644 datasetconfig.toml\n",
            "2023/07/11  23:12               443 datasetconfig_dreambooth.toml\n",
            "2023/07/18  03:46               456 datasetconfig_dreambooth_letterbox.toml\n",
            "2023/07/22  02:33               445 datasetconfig_dreambooth_multiclass_letterbox.toml\n",
            "2023/07/15  23:31               459 datasetconfig_dreambooth_myt16mai.toml\n",
            "2023/07/18  03:32               466 datasetconfig_dreambooth_myt16mai_letterbox.toml\n",
            "2023/07/23  17:06               637 datasetconfig_dreambooth_pterygium_123mai.toml\n",
            "2023/07/22  17:17               630 datasetconfig_dreambooth_pterygium_letterbox.toml\n",
            "2023/07/23  13:55               649 datasetconfig_lora.toml\n",
            "2023/07/22  02:03    <DIR>          multiclass_768px_letterbox_dreambooth\n",
            "2023/07/23  19:40    <DIR>          outputs\n",
            "2023/07/22  13:45    <DIR>          pterygium_image_768letterbox\n",
            "2023/07/23  16:58    <DIR>          pterygium_image_768letterbox_123mai\n",
            "2023/07/23  09:53    <DIR>          pterygium_image_768letterbox_28mai\n",
            "2023/07/11  12:23    <DIR>          regularized_image\n",
            "2023/07/15  23:13    <DIR>          regularized_image_768_normal_myt16mai_dreambooth\n",
            "2023/07/18  03:20    <DIR>          regularized_image_768letterbox_normal_dreambooth\n",
            "2023/07/16  01:06    <DIR>          regularized_image_768letterbox_normal_myt16mai_dreambooth\n",
            "2023/07/11  12:36    <DIR>          regularized_image_768px\n",
            "2023/07/14  08:54    <DIR>          regularized_image_768px_dreambooth\n",
            "2023/07/11  18:16    <DIR>          regularized_image_768px_dreambooth_4mai\n",
            "2023/07/18  08:01    <DIR>          regularized_image_768px_normal_dreambooth\n",
            "2023/07/22  13:46    <DIR>          rojinkan_image_768letterbox\n",
            "2023/07/22  13:42    <DIR>          sltphoto_normal_image_768letterbox\n",
            "2023/07/03  10:19               256 tags_to_exclude.txt\n",
            "2023/07/11  00:38    <DIR>          train_image\n",
            "2023/07/21  18:35    <DIR>          train_image_10mai_pte_768px_letterbox\n",
            "2023/07/11  01:34    <DIR>          train_image_768px\n",
            "2023/07/21  18:26    <DIR>          train_image_768px_letterbox\n",
            "              20 個のファイル              12,633 バイト\n",
            "              22 個のディレクトリ  1,647,381,504,000 バイトの空き領域\n"
          ]
        }
      ]
    },
    {
      "cell_type": "code",
      "source": [
        "# pterygiumのフォルダを作る（command, tomlファイルを作成）\n",
        "%mkdir dreambooth_pterygium\n",
        "%cd dreambooth_pterygium"
      ],
      "metadata": {
        "colab": {
          "base_uri": "https://localhost:8080/"
        },
        "id": "3h3klru1gw2b",
        "outputId": "ffd08246-c49c-4218-af17-5fe389a04223"
      },
      "execution_count": 13,
      "outputs": [
        {
          "output_type": "stream",
          "name": "stdout",
          "text": [
            "C:\\Users\\CorneAI\\sd-scripts\\TrainingData_pterygium\\dreambooth_pterygium\n"
          ]
        },
        {
          "output_type": "stream",
          "name": "stderr",
          "text": [
            "サブディレクトリまたはファイル dreambooth_pterygium は既に存在します。\n"
          ]
        }
      ]
    },
    {
      "cell_type": "markdown",
      "source": [
        "#**DreamBooth**"
      ],
      "metadata": {
        "id": "GWbteZueIOSr"
      }
    },
    {
      "cell_type": "code",
      "source": [
        "# tomlファイルを作成\n",
        "%%writefile datasetconfig_dreambooth_pterygium_123mai.toml\n",
        "\n",
        "[general]\n",
        "enable_bucket = true                       # Aspect Ratio Bucketingを使うか否か\n",
        "bucket_no_upscale = true\n",
        "\n",
        "[[datasets]]\n",
        "#resolution = 768, 768                           # 学習解像度\n",
        "batch_size = 4                              # バッチサイズ\n",
        "\n",
        "[[datasets.subsets]]\n",
        "image_dir = 'C:\\Users\\CorneAI\\sd-scripts\\TrainingData_pterygium\\pterygium_image_768letterbox_123mai'\n",
        "caption_extension = '.txt'\n",
        "num_repeats = 10\n",
        "\n",
        "#[[datasets.subsets]]\n",
        "#is_reg = true\n",
        "#image_dir = 'C:\\Users\\CorneAI\\sd-scripts\\TrainingData_pterygium\\sltphoto_normal_image_768letterbox'\n",
        "#class_tokens = 'sltphoto'\n",
        "#num_repeats = 1"
      ],
      "metadata": {
        "colab": {
          "base_uri": "https://localhost:8080/"
        },
        "id": "qPyLR5ApgO7A",
        "outputId": "9986921f-9016-426f-fe24-980845303351"
      },
      "execution_count": 19,
      "outputs": [
        {
          "output_type": "stream",
          "name": "stdout",
          "text": [
            "Overwriting datasetconfig_dreambooth_pterygium_123mai.toml\n"
          ]
        }
      ]
    },
    {
      "cell_type": "code",
      "source": [
        "# protocolの記録\n",
        "%%writefile protocol_dreambooth_pterygium_123mai.txt\n",
        "\n",
        ".\\venv\\Scripts\\activate\n",
        "300 - 600 - 1200 - 2400 - 4800 - 9600 stepsで比較\n",
        "\n",
        "以下command\n",
        "\n",
        "# 300 steps\n",
        "accelerate launch --num_cpu_threads_per_process 1 train_db.py --pretrained_model_name_or_path=C:\\Users\\CorneAI\\stable-diffusion-webui\\models\\Stable-diffusion\\ACertainty.ckpt --dataset_config=C:\\Users\\CorneAI\\sd-scripts\\TrainingData_pterygium\\datasetconfig_dreambooth_pterygium_letterbox.toml --output_dir=C:\\Users\\CorneAI\\sd-scripts\\TrainingData_pterygium\\outputs --output_name=sltphoto_pterygium_123mai_10times300steps --save_model_as=safetensors --resolution=768,768 --prior_loss_weight=1.0 --train_batch_size=4 --max_train_steps=300 --learning_rate=1e-6 --optimizer_type=\"AdamW8bit\" --xformers --mixed_precision=\"fp16\" --cache_latents --gradient_checkpointing\n",
        "\n",
        "# 600 steps\n",
        "accelerate launch --num_cpu_threads_per_process 1 train_db.py --pretrained_model_name_or_path=C:\\Users\\CorneAI\\stable-diffusion-webui\\models\\Stable-diffusion\\ACertainty.ckpt --dataset_config=C:\\Users\\CorneAI\\sd-scripts\\TrainingData_pterygium\\datasetconfig_dreambooth_pterygium_letterbox.toml --output_dir=C:\\Users\\CorneAI\\sd-scripts\\TrainingData_pterygium\\outputs --output_name=sltphoto_pterygium_letterbox768_10times600steps --save_model_as=safetensors --resolution=768,768 --prior_loss_weight=1.0 --train_batch_size=4 --max_train_steps=600 --learning_rate=1e-6 --optimizer_type=\"AdamW8bit\" --xformers --mixed_precision=\"fp16\" --cache_latents --gradient_checkpointing\n",
        "\n",
        "# 1200 steps\n",
        "accelerate launch --num_cpu_threads_per_process 1 train_db.py --pretrained_model_name_or_path=C:\\Users\\CorneAI\\stable-diffusion-webui\\models\\Stable-diffusion\\ACertainty.ckpt --dataset_config=C:\\Users\\CorneAI\\sd-scripts\\TrainingData_pterygium\\datasetconfig_dreambooth_pterygium_letterbox.toml --output_dir=C:\\Users\\CorneAI\\sd-scripts\\TrainingData_pterygium\\outputs --output_name=sltphoto_pterygium_letterbox768_10times1200steps --save_model_as=safetensors --resolution=768,768 --prior_loss_weight=1.0 --train_batch_size=4 --max_train_steps=1200 --learning_rate=1e-6 --optimizer_type=\"AdamW8bit\" --xformers --mixed_precision=\"fp16\" --cache_latents --gradient_checkpointing\n",
        "\n",
        "# 2400 steps\n",
        "accelerate launch --num_cpu_threads_per_process 1 train_db.py --pretrained_model_name_or_path=C:\\Users\\CorneAI\\stable-diffusion-webui\\models\\Stable-diffusion\\ACertainty.ckpt --dataset_config=C:\\Users\\CorneAI\\sd-scripts\\TrainingData_pterygium\\datasetconfig_dreambooth_pterygium_letterbox.toml --output_dir=C:\\Users\\CorneAI\\sd-scripts\\TrainingData_pterygium\\outputs --output_name=sltphoto_pterygium_letterbox768_10times2400steps --save_model_as=safetensors --resolution=768,768 --prior_loss_weight=1.0 --train_batch_size=4 --max_train_steps=2400 --learning_rate=1e-6 --optimizer_type=\"AdamW8bit\" --xformers --mixed_precision=\"fp16\" --cache_latents --gradient_checkpointing\n",
        "\n",
        "# 4800 steps\n",
        "accelerate launch --num_cpu_threads_per_process 1 train_db.py --pretrained_model_name_or_path=C:\\Users\\CorneAI\\stable-diffusion-webui\\models\\Stable-diffusion\\ACertainty.ckpt --dataset_config=C:\\Users\\CorneAI\\sd-scripts\\TrainingData_pterygium\\datasetconfig_dreambooth_pterygium_letterbox.toml --output_dir=C:\\Users\\CorneAI\\sd-scripts\\TrainingData_pterygium\\outputs --output_name=sltphoto_pterygium_letterbox768_10times4800steps --save_model_as=safetensors --resolution=768,768 --prior_loss_weight=1.0 --train_batch_size=4 --max_train_steps=4800 --learning_rate=1e-6 --optimizer_type=\"AdamW8bit\" --xformers --mixed_precision=\"fp16\"\n",
        "\n",
        "\n"
      ],
      "metadata": {
        "colab": {
          "base_uri": "https://localhost:8080/"
        },
        "id": "3mGw3UjJotMG",
        "outputId": "e5eaa4e8-afec-451f-900c-3cf288451a7a"
      },
      "execution_count": 20,
      "outputs": [
        {
          "output_type": "stream",
          "name": "stdout",
          "text": [
            "Writing protocol_dreambooth_pterygium_123mai.txt\n"
          ]
        }
      ]
    },
    {
      "cell_type": "code",
      "source": [
        "import subprocess\n",
        "import threading\n",
        "\n",
        "def reader(pipe, func):\n",
        "    try:\n",
        "        with pipe:\n",
        "            for line in iter(pipe.readline, b''):\n",
        "                func(line)\n",
        "    except Exception:\n",
        "        pass\n",
        "\n",
        "def train_dreambooth(num_train_step):\n",
        "    %cd C:\\Users\\CorneAI\\sd-scripts\n",
        "    command = [\n",
        "    \"accelerate\", \"launch\",\n",
        "    \"--num_cpu_threads_per_process\", \"1\",\n",
        "    \"train_db.py\",\n",
        "    \"--pretrained_model_name_or_path=C:\\\\Users\\\\CorneAI\\\\stable-diffusion-webui\\\\models\\\\Stable-diffusion\\\\ACertainty.ckpt\",\n",
        "    \"--dataset_config=C:\\\\Users\\\\CorneAI\\\\sd-scripts\\\\TrainingData_pterygium\\\\datasetconfig_dreambooth_pterygium_letterbox.toml\",\n",
        "    \"--output_dir=C:\\\\Users\\\\CorneAI\\\\sd-scripts\\\\TrainingData_pterygium\\\\outputs\",\n",
        "    f\"--output_name=sltphoto_pterygium_123mai_10times{num_train_step}steps\",\n",
        "    \"--save_model_as=safetensors\",\n",
        "    \"--resolution=768,768\",\n",
        "    \"--prior_loss_weight=1.0\",\n",
        "    \"--train_batch_size=4\",\n",
        "    f\"--max_train_steps={num_train_step}\",\n",
        "    \"--learning_rate=1e-6\",\n",
        "    \"--optimizer_type=AdamW8bit\",\n",
        "    \"--xformers\",\n",
        "    \"--mixed_precision=fp16\",\n",
        "    \"--cache_latents\",\n",
        "    \"--gradient_checkpointing\"\n",
        "    ]\n",
        "    process = subprocess.Popen(command, stdout=subprocess.PIPE, stderr=subprocess.PIPE, text=True)\n",
        "\n",
        "    threading.Thread(target=reader, args=[process.stdout, lambda x: print(f\"stdout: {x}\")]).start()\n",
        "    threading.Thread(target=reader, args=[process.stderr, lambda x: print(f\"stderr: {x}\")]).start()\n",
        "\n",
        "    process.wait()\n"
      ],
      "metadata": {
        "id": "t9mezTuXQFOk"
      },
      "execution_count": 6,
      "outputs": []
    },
    {
      "cell_type": "code",
      "source": [
        "# 300 steps\n",
        "train_dreambooth(num_train_step=300)"
      ],
      "metadata": {
        "id": "Ufoewmv6Qu6B"
      },
      "execution_count": null,
      "outputs": []
    },
    {
      "cell_type": "code",
      "source": [
        "# 600 steps\n",
        "train_dreambooth(num_train_step=600)"
      ],
      "metadata": {
        "id": "fEG4wOE8R3X2"
      },
      "execution_count": null,
      "outputs": []
    },
    {
      "cell_type": "code",
      "source": [
        "# 1200 steps\n",
        "train_dreambooth(num_train_step=1200)"
      ],
      "metadata": {
        "id": "_l3L0XT0hb7y"
      },
      "execution_count": null,
      "outputs": []
    },
    {
      "cell_type": "code",
      "source": [
        "# 4800 steps\n",
        "train_dreambooth(num_train_step=4800)"
      ],
      "metadata": {
        "id": "zQ_wWH9pSDkQ"
      },
      "execution_count": null,
      "outputs": []
    },
    {
      "cell_type": "code",
      "source": [],
      "metadata": {
        "id": "dkUdVQSdE_CN"
      },
      "execution_count": null,
      "outputs": []
    },
    {
      "cell_type": "markdown",
      "source": [
        "#**Lora**"
      ],
      "metadata": {
        "id": "N0KrDJ1hIc_2"
      }
    },
    {
      "cell_type": "code",
      "source": [
        "import os\n",
        "%cd C:\\Users\\CorneAI\\sd-scripts\\TrainingData_pterygium\n",
        "\n",
        "# pterygiumのフォルダを作る（command, tomlファイルを作成）\n",
        "%mkdir lora_pterygium\n",
        "%cd lora_pterygium"
      ],
      "metadata": {
        "colab": {
          "base_uri": "https://localhost:8080/"
        },
        "id": "dDFUZPubLe6U",
        "outputId": "61eedc2c-4f27-4d7f-fb9b-e65f2002ea86"
      },
      "execution_count": 2,
      "outputs": [
        {
          "output_type": "stream",
          "name": "stdout",
          "text": [
            "C:\\Users\\CorneAI\\sd-scripts\\TrainingData_pterygium\n",
            "C:\\Users\\CorneAI\\sd-scripts\\TrainingData_pterygium\\lora_pterygium\n"
          ]
        },
        {
          "output_type": "stream",
          "name": "stderr",
          "text": [
            "サブディレクトリまたはファイル lora_pterygium は既に存在します。\n"
          ]
        }
      ]
    },
    {
      "cell_type": "code",
      "source": [
        "# tomlファイルを作成\n",
        "%%writefile datasetconfig_Lora_pterygium_28mai.toml\n",
        "\n",
        "[general]\n",
        "enable_bucket = true                       # Aspect Ratio Bucketingを使うか否か\n",
        "bucket_no_upscale = true\n",
        "\n",
        "[[datasets]]\n",
        "#resolution = 768, 768\n",
        "#batch_size = 4                           # バッチサイズ\n",
        "\n",
        "[[datasets.subsets]]\n",
        "image_dir = 'C:\\Users\\CorneAI\\sd-scripts\\TrainingData_pterygium\\pterygium_image_768letterbox_28mai'\n",
        "caption_extension = '.txt'\n",
        "num_repeats = 6\n",
        "\n",
        "# 正則化をする場合は以下を追加\n",
        "#[[datasets.subsets]]\n",
        "#is_reg = true\n",
        "#image_dir ='C:\\Users\\CorneAI\\sd-scripts\\TrainingData_pterygium\\regularized_image_768letterbox_normal_dreambooth'\n",
        "#class_tokens = 'sltphoto'\n",
        "#num_repeats = 1"
      ],
      "metadata": {
        "colab": {
          "base_uri": "https://localhost:8080/"
        },
        "id": "18-F1dvLIsuN",
        "outputId": "e60ec3a0-82f9-451b-fba5-02261993b40e"
      },
      "execution_count": 3,
      "outputs": [
        {
          "output_type": "stream",
          "name": "stdout",
          "text": [
            "Overwriting datasetconfig_Lora_pterygium_28mai.toml\n"
          ]
        }
      ]
    },
    {
      "cell_type": "code",
      "source": [
        "# protocolの記録\n",
        "%%writefile protocol_lora_pterygium_123mai.txt\n",
        "\n",
        ".\\venv\\Scripts\\activate\n",
        "2 - 4 - 8 - 16 - 32 - 64 epochsで比較 (repeat=6)\n",
        "\n",
        "以下command\n",
        "\n",
        "# 2epochs\n",
        "accelerate launch --num_cpu_threads_per_process 1 train_network.py --pretrained_model_name_or_path=C:\\Users\\CorneAI\\stable-diffusion-webui\\models\\Stable-diffusion\\sltphoto_pterygium_123mai_10times300steps.safetensors --output_dir=C:\\Users\\CorneAI\\sd-scripts\\TrainingData_pterygium\\outputs --dataset_config=C:\\Users\\CorneAI\\sd-scripts\\TrainingData_pterygium\\lora_pterygium\\ datasetconfig_Lora_pterygium_28mai.toml --output_name=lora_pte_28mai_rep6epoch2 --train_batch_size=4 --max_train_epochs=2 --resolution=768,768 --optimizer_type=AdamW8bit --learning_rate=1e-4 --network_dim=128 --network_alpha=64 --lr_scheduler=cosine_with_restarts --lr_scheduler_num_cycles=4 --lr_warmup_steps=500 --keep_tokens=1 --shuffle_caption --caption_dropout_rate=0.05 --save_model_as=safetensors --clip_skip=2 --seed=42 --color_aug --xformers --mixed_precision=fp16 --network_module=networks.lora --persistent_data_loader_workers\n",
        "\n",
        "# 4epochs\n",
        "accelerate launch --num_cpu_threads_per_process 1 train_network.py --pretrained_model_name_or_path=C:\\Users\\CorneAI\\stable-diffusion-webui\\models\\Stable-diffusion\\sltphoto_pterygium_123mai_10times300steps.safetensors --output_dir=C:\\Users\\CorneAI\\sd-scripts\\TrainingData_pterygium\\outputs --dataset_config=C:\\Users\\CorneAI\\sd-scripts\\TrainingData_pterygium\\lora_pterygium\\ datasetconfig_Lora_pterygium_28mai.toml --output_name=lora_pte_28mai_rep6epoch4 --train_batch_size=4 --max_train_epochs=4 --resolution=768,768 --optimizer_type=AdamW8bit --learning_rate=1e-4 --network_dim=128 --network_alpha=64 --lr_scheduler=cosine_with_restarts --lr_scheduler_num_cycles=4 --lr_warmup_steps=500 --keep_tokens=1 --shuffle_caption --caption_dropout_rate=0.05 --save_model_as=safetensors --clip_skip=2 --seed=42 --color_aug --xformers --mixed_precision=fp16 --network_module=networks.lora --persistent_data_loader_workers\n",
        "\n",
        "# 8epochs\n",
        "accelerate launch --num_cpu_threads_per_process 1 train_network.py --pretrained_model_name_or_path=C:\\Users\\CorneAI\\stable-diffusion-webui\\models\\Stable-diffusion\\sltphoto_pterygium_123mai_10times300steps.safetensors --output_dir=C:\\Users\\CorneAI\\sd-scripts\\TrainingData_pterygium\\outputs --dataset_config=C:\\Users\\CorneAI\\sd-scripts\\TrainingData_pterygium\\lora_pterygium\\ datasetconfig_Lora_pterygium_28mai.toml --output_name=lora_pte_28mai_rep6epoch8 --train_batch_size=4 --max_train_epochs=8 --resolution=768,768 --optimizer_type=AdamW8bit --learning_rate=1e-4 --network_dim=128 --network_alpha=64 --lr_scheduler=cosine_with_restarts --lr_scheduler_num_cycles=4 --lr_warmup_steps=500 --keep_tokens=1 --shuffle_caption --caption_dropout_rate=0.05 --save_model_as=safetensors --clip_skip=2 --seed=42 --color_aug --xformers --mixed_precision=fp16 --network_module=networks.lora --persistent_data_loader_workers\n",
        "\n",
        "# 16epochs\n",
        "accelerate launch --num_cpu_threads_per_process 1 train_network.py --pretrained_model_name_or_path=C:\\Users\\CorneAI\\stable-diffusion-webui\\models\\Stable-diffusion\\sltphoto_pterygium_123mai_10times300steps.safetensors --output_dir=C:\\Users\\CorneAI\\sd-scripts\\TrainingData_pterygium\\outputs --dataset_config=C:\\Users\\CorneAI\\sd-scripts\\TrainingData_pterygium\\lora_pterygium\\ datasetconfig_Lora_pterygium_28mai.toml --output_name=lora_pte_28mai_rep6epoch16 --train_batch_size=4 --max_train_epochs=16 --resolution=768,768 --optimizer_type=AdamW8bit --learning_rate=1e-4 --network_dim=128 --network_alpha=64 --lr_scheduler=cosine_with_restarts --lr_scheduler_num_cycles=4 --lr_warmup_steps=500 --keep_tokens=1 --shuffle_caption --caption_dropout_rate=0.05 --save_model_as=safetensors --clip_skip=2 --seed=42 --color_aug --xformers --mixed_precision=fp16 --network_module=networks.lora --persistent_data_loader_workers\n",
        "\n",
        "# 32epochs\n",
        "accelerate launch --num_cpu_threads_per_process 1 train_network.py --pretrained_model_name_or_path=C:\\Users\\CorneAI\\stable-diffusion-webui\\models\\Stable-diffusion\\sltphoto_pterygium_123mai_10times300steps.safetensors --output_dir=C:\\Users\\CorneAI\\sd-scripts\\TrainingData_pterygium\\outputs --dataset_config=C:\\Users\\CorneAI\\sd-scripts\\TrainingData_pterygium\\lora_pterygium\\ datasetconfig_Lora_pterygium_28mai.toml --output_name=lora_pte_28mai_rep6epoch32 --train_batch_size=4 --max_train_epochs=32 --resolution=768,768 --optimizer_type=AdamW8bit --learning_rate=1e-4 --network_dim=128 --network_alpha=64 --lr_scheduler=cosine_with_restarts --lr_scheduler_num_cycles=4 --lr_warmup_steps=500 --keep_tokens=1 --shuffle_caption --caption_dropout_rate=0.05 --save_model_as=safetensors --clip_skip=2 --seed=42 --color_aug --xformers --mixed_precision=fp16 --network_module=networks.lora --persistent_data_loader_workers\n",
        "\n",
        "# 64epochs\n",
        "accelerate launch --num_cpu_threads_per_process 1 train_network.py --pretrained_model_name_or_path=C:\\Users\\CorneAI\\stable-diffusion-webui\\models\\Stable-diffusion\\sltphoto_pterygium_123mai_10times300steps.safetensors --output_dir=C:\\Users\\CorneAI\\sd-scripts\\TrainingData_pterygium\\outputs --dataset_config=C:\\Users\\CorneAI\\sd-scripts\\TrainingData_pterygium\\lora_pterygium\\ datasetconfig_Lora_pterygium_28mai.toml --output_name=lora_pte_28mai_rep6epoch64 --train_batch_size=4 --max_train_epochs=64 --resolution=768,768 --optimizer_type=AdamW8bit --learning_rate=1e-4 --network_dim=128 --network_alpha=64 --lr_scheduler=cosine_with_restarts --lr_scheduler_num_cycles=4 --lr_warmup_steps=500 --keep_tokens=1 --shuffle_caption --caption_dropout_rate=0.05 --save_model_as=safetensors --clip_skip=2 --seed=42 --color_aug --xformers --mixed_precision=fp16 --network_module=networks.lora --persistent_data_loader_workers"
      ],
      "metadata": {
        "colab": {
          "base_uri": "https://localhost:8080/"
        },
        "id": "V8R3rHgeIs0m",
        "outputId": "bd2d84c4-13b8-4d1e-be53-291cdff22898"
      },
      "execution_count": 5,
      "outputs": [
        {
          "output_type": "stream",
          "name": "stdout",
          "text": [
            "Overwriting protocol_lora_pterygium_123mai.txt\n"
          ]
        }
      ]
    },
    {
      "cell_type": "code",
      "source": [
        "import subprocess\n",
        "import threading\n",
        "\n",
        "def reader(pipe, func):\n",
        "    try:\n",
        "        with pipe:\n",
        "            for line in iter(pipe.readline, ''):\n",
        "                func(line)\n",
        "    except Exception:\n",
        "        pass\n",
        "\n",
        "def train_lora(num_epochs):\n",
        "    %cd C:\\Users\\CorneAI\\sd-scripts\n",
        "    command = [\n",
        "        \"accelerate\", \"launch\",\n",
        "        \"--num_cpu_threads_per_process\", \"1\",\n",
        "        \"train_network.py\",\n",
        "        \"--pretrained_model_name_or_path=C:\\\\Users\\\\CorneAI\\\\stable-diffusion-webui\\\\models\\\\Stable-diffusion\\\\sltphoto_pterygium_123mai_10times2400steps.safetensors\",\n",
        "        \"--output_dir=C:\\\\Users\\\\CorneAI\\\\sd-scripts\\\\TrainingData_pterygium\\\\outputs\",\n",
        "        \"--dataset_config=C:\\\\Users\\\\CorneAI\\\\sd-scripts\\\\TrainingData_pterygium\\\\lora_pterygium\\\\datasetconfig_Lora_pterygium_28mai.toml\",\n",
        "        f\"--output_name=lora_pte_28mai_rep6epoch{num_epochs}\",\n",
        "        \"--train_batch_size=4\",\n",
        "        f\"--max_train_epochs={num_epochs}\",\n",
        "        \"--resolution=768,768\",\n",
        "        \"--optimizer_type=AdamW8bit\",\n",
        "        \"--learning_rate=1e-4\",\n",
        "        \"--network_dim=128\",\n",
        "        \"--network_alpha=64\",\n",
        "        \"--lr_scheduler=cosine_with_restarts\",\n",
        "        \"--lr_scheduler_num_cycles=4\",\n",
        "        \"--lr_warmup_steps=500\",\n",
        "        \"--keep_tokens=1\",\n",
        "        \"--shuffle_caption\",\n",
        "        \"--caption_dropout_rate=0.05\",\n",
        "        \"--save_model_as=safetensors\",\n",
        "        \"--clip_skip=2\",\n",
        "        \"--seed=42\",\n",
        "        \"--color_aug\",\n",
        "        \"--xformers\",\n",
        "        \"--mixed_precision=fp16\",\n",
        "        \"--network_module=networks.lora\",\n",
        "        \"--persistent_data_loader_workers\"\n",
        "    ]\n",
        "    process = subprocess.Popen(command, stdout=subprocess.PIPE, stderr=subprocess.PIPE, text=True)\n",
        "\n",
        "    threading.Thread(target=reader, args=[process.stdout, lambda x: print(f\"stdout: {x.strip()}\")]).start()\n",
        "    threading.Thread(target=reader, args=[process.stderr, lambda x: print(f\"stderr: {x.strip()}\")]).start()\n",
        "\n",
        "    process.wait()\n",
        "\n"
      ],
      "metadata": {
        "id": "0g3jiAZ8W0ij"
      },
      "execution_count": 8,
      "outputs": []
    },
    {
      "cell_type": "code",
      "source": [
        "train_lora(num_epochs=2)"
      ],
      "metadata": {
        "id": "74nomVDbcTVh"
      },
      "execution_count": null,
      "outputs": []
    },
    {
      "cell_type": "code",
      "source": [
        "train_lora(num_epochs=4)"
      ],
      "metadata": {
        "colab": {
          "base_uri": "https://localhost:8080/"
        },
        "id": "IVWlgyRRgcFA",
        "outputId": "0e873cd9-e987-41c8-c3f3-5e6c0da13e80"
      },
      "execution_count": null,
      "outputs": [
        {
          "output_type": "stream",
          "name": "stdout",
          "text": [
            "C:\\Users\\CorneAI\\sd-scripts\n",
            "stdout: prepare tokenizer\n",
            "stdout: Loading dataset config from C:\\Users\\CorneAI\\sd-scripts\\TrainingData_pterygium\\lora_pterygium\\datasetconfig_Lora_pterygium_28mai.toml\n",
            "stdout: prepare images.\n",
            "stdout: found directory C:\\Users\\CorneAI\\sd-scripts\\TrainingData_pterygium\\pterygium_image_768letterbox_28mai contains 28 image files\n",
            "stdout: 168 train images with repeating.\n",
            "stdout: 0 reg images.\n",
            "stdout: no regularization images / 正則化画像が見つかりませんでした\n",
            "stdout: [Dataset 0]\n",
            "stdout: batch_size: 4\n",
            "stdout: resolution: (768, 768)\n",
            "stdout: enable_bucket: True\n",
            "stdout: min_bucket_reso: 256\n",
            "stdout: max_bucket_reso: 1024\n",
            "stdout: bucket_reso_steps: 64\n",
            "stdout: bucket_no_upscale: True\n",
            "stdout: \n",
            "stdout: [Subset 0 of Dataset 0]\n",
            "stdout: image_dir: \"C:\\Users\\CorneAI\\sd-scripts\\TrainingData_pterygium\\pterygium_image_768letterbox_28mai\"\n",
            "stdout: image_count: 28\n",
            "stdout: num_repeats: 6\n",
            "stdout: shuffle_caption: True\n",
            "stdout: keep_tokens: 1\n",
            "stdout: caption_dropout_rate: 0.05\n",
            "stdout: caption_dropout_every_n_epoches: 0\n",
            "stdout: caption_tag_dropout_rate: 0.0\n",
            "stdout: color_aug: True\n",
            "stdout: flip_aug: False\n",
            "stdout: face_crop_aug_range: None\n",
            "stdout: random_crop: False\n",
            "stdout: token_warmup_min: 1,\n",
            "stdout: token_warmup_step: 0,\n",
            "stdout: is_reg: False\n",
            "stdout: class_tokens: None\n",
            "stdout: caption_extension: .txt\n",
            "stdout: \n",
            "stdout: \n",
            "stdout: [Dataset 0]\n",
            "stdout: loading image sizes.\n",
            "stderr: \n",
            "stderr: 0%|          | 0/28 [00:00<?, ?it/s]\n",
            "stderr: 100%|##########| 28/28 [00:00<00:00, 3500.05it/s]\n",
            "stdout: make bucketsstderr: \n",
            "\n",
            "stdout: min_bucket_reso and max_bucket_reso are ignored if bucket_no_upscale is set, because bucket reso is defined by image size automatically / bucket_no_upscaleが指定された場合は、bucketの解像度は画像サイズから自動計算されるため、min_bucket_resoとmax_bucket_resoは無視されます\n",
            "stdout: number of images (including repeats) / 各bucketの画像枚数（繰り返し回数を含む）\n",
            "stdout: bucket 0: resolution (768, 768), count: 168\n",
            "stdout: mean ar error (without repeats): 0.0\n",
            "stdout: preparing accelerator\n",
            "stdout: Using accelerator 0.15.0 or above.\n",
            "stdout: loading model for process 0/1\n",
            "stdout: load StableDiffusion checkpoint: C:\\Users\\CorneAI\\stable-diffusion-webui\\models\\Stable-diffusion\\sltphoto_pterygium_123mai_10times2400steps.safetensors\n",
            "stdout: loading u-net: <All keys matched successfully>\n",
            "stdout: loading vae: <All keys matched successfully>\n",
            "stdout: loading text encoder: <All keys matched successfully>\n",
            "stdout: CrossAttention.forward has been replaced to enable xformers.\n",
            "stdout: import network module: networks.lora\n",
            "stdout: create LoRA network. base dim (rank): 128, alpha: 64.0\n",
            "stdout: neuron dropout: p=None, rank dropout: p=None, module dropout: p=None\n",
            "stdout: create LoRA for Text Encoder: 72 modules.\n",
            "stdout: create LoRA for U-Net: 192 modules.\n",
            "stdout: enable LoRA for text encoder\n",
            "stdout: enable LoRA for U-Net\n",
            "stdout: preparing optimizer, data loader etc.\n",
            "stdout: \n",
            "stdout: ===================================BUG REPORT===================================\n",
            "stdout: Welcome to bitsandbytes. For bug reports, please submit your error trace to: https://github.com/TimDettmers/bitsandbytes/issues\n",
            "stdout: For effortless bug reporting copy-paste your error into this form: https://docs.google.com/forms/d/e/1FAIpQLScPB8emS3Thkp66nvqwmjTEgxp8Y9ufuWTzFyr9kJ5AoI47dQ/viewform?usp=sf_link\n",
            "stdout: ================================================================================\n",
            "stdout: CUDA SETUP: Loading binary C:\\Users\\CorneAI\\sd-scripts\\venv\\lib\\site-packages\\bitsandbytes\\libbitsandbytes_cuda116.dll...\n",
            "stdout: use 8-bit AdamW optimizer | {}\n",
            "stdout: override steps. steps for 4 epochs is / 指定エポックまでのステップ数: 168\n",
            "stdout: running training / 学習開始\n",
            "stdout: num train images * repeats / 学習画像の数×繰り返し回数: 168\n",
            "stdout: num reg images / 正則化画像の数: 0\n",
            "stdout: num batches per epoch / 1epochのバッチ数: 42\n",
            "stdout: num epochs / epoch数: 4\n",
            "stdout: batch size per device / バッチサイズ: 4\n",
            "stdout: gradient accumulation steps / 勾配を合計するステップ数 = 1\n",
            "stdout: total optimization steps / 学習ステップ数: 168\n",
            "stderr: steps:   0%|          | 0/168 [00:00<?, ?it/s]\n",
            "stderr: steps:   1%|          | 1/168 [00:45<2:06:02, 45.29s/it]\n",
            "stderr: steps:   1%|          | 1/168 [00:45<2:06:02, 45.29s/it, loss=0.335]\n",
            "stderr: steps:   1%|1         | 2/168 [00:48<1:07:24, 24.36s/it, loss=0.335]\n",
            "stderr: steps:   1%|1         | 2/168 [00:48<1:07:24, 24.36s/it, loss=0.229]\n",
            "stderr: steps:   2%|1         | 3/168 [00:52<47:44, 17.36s/it, loss=0.229]\n",
            "stderr: steps:   2%|1         | 3/168 [00:52<47:44, 17.36s/it, loss=0.243]\n",
            "stderr: steps:   2%|2         | 4/168 [00:55<37:53, 13.86s/it, loss=0.243]\n",
            "stderr: steps:   2%|2         | 4/168 [00:55<37:53, 13.86s/it, loss=0.193]\n",
            "stderr: steps:   3%|2         | 5/168 [00:58<31:58, 11.77s/it, loss=0.193]\n",
            "stderr: steps:   3%|2         | 5/168 [00:58<31:58, 11.77s/it, loss=0.157]\n",
            "stderr: steps:   4%|3         | 6/168 [01:02<28:00, 10.37s/it, loss=0.157]\n",
            "stderr: steps:   4%|3         | 6/168 [01:02<28:00, 10.37s/it, loss=0.146]\n",
            "stderr: steps:   4%|4         | 7/168 [01:05<25:10,  9.38s/it, loss=0.146]\n",
            "stderr: steps:   4%|4         | 7/168 [01:05<25:10,  9.38s/it, loss=0.131]\n",
            "stderr: steps:   5%|4         | 8/168 [01:09<23:00,  8.63s/it, loss=0.131]\n",
            "stderr: steps:   5%|4         | 8/168 [01:09<23:00,  8.63s/it, loss=0.127]\n",
            "stderr: steps:   5%|5         | 9/168 [01:12<21:19,  8.05s/it, loss=0.127]\n",
            "stderr: steps:   5%|5         | 9/168 [01:12<21:19,  8.05s/it, loss=0.118]\n",
            "stderr: steps:   6%|5         | 10/168 [01:15<19:58,  7.59s/it, loss=0.118]\n",
            "stderr: steps:   6%|5         | 10/168 [01:15<19:58,  7.59s/it, loss=0.126]\n",
            "stderr: steps:   7%|6         | 11/168 [01:19<18:51,  7.21s/it, loss=0.126]\n",
            "stderr: steps:   7%|6         | 11/168 [01:19<18:51,  7.21s/it, loss=0.127]\n",
            "stderr: steps:   7%|7         | 12/168 [01:22<17:55,  6.90s/it, loss=0.127]\n",
            "stderr: steps:   7%|7         | 12/168 [01:22<17:55,  6.90s/it, loss=0.121]\n",
            "stderr: steps:   8%|7         | 13/168 [01:26<17:07,  6.63s/it, loss=0.121]\n",
            "stderr: steps:   8%|7         | 13/168 [01:26<17:07,  6.63s/it, loss=0.126]\n",
            "stderr: steps:   8%|8         | 14/168 [01:29<16:28,  6.42s/it, loss=0.126]\n",
            "stderr: steps:   8%|8         | 14/168 [01:29<16:28,  6.42s/it, loss=0.121]\n",
            "stderr: steps:   9%|8         | 15/168 [01:33<15:52,  6.22s/it, loss=0.121]\n",
            "stderr: steps:   9%|8         | 15/168 [01:33<15:52,  6.22s/it, loss=0.115]\n",
            "stderr: steps:  10%|9         | 16/168 [01:36<15:19,  6.05s/it, loss=0.115]\n"
          ]
        }
      ]
    },
    {
      "cell_type": "code",
      "source": [
        "train_lora(num_epochs=8)"
      ],
      "metadata": {
        "id": "TN771Uiige8h"
      },
      "execution_count": null,
      "outputs": []
    },
    {
      "cell_type": "code",
      "source": [
        "train_lora(num_epochs=16)"
      ],
      "metadata": {
        "id": "rGm68n3DgfAo"
      },
      "execution_count": null,
      "outputs": []
    },
    {
      "cell_type": "code",
      "source": [
        "train_lora(num_epochs=32)"
      ],
      "metadata": {
        "id": "bpEi8dG8gfCi"
      },
      "execution_count": null,
      "outputs": []
    },
    {
      "cell_type": "code",
      "source": [
        "train_lora(num_epochs=64)"
      ],
      "metadata": {
        "id": "IOLKy0nbgmXr"
      },
      "execution_count": null,
      "outputs": []
    }
  ]
}