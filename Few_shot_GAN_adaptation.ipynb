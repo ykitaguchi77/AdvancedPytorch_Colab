{
  "nbformat": 4,
  "nbformat_minor": 0,
  "metadata": {
    "colab": {
      "name": "Untitled94.ipynb",
      "provenance": [],
      "authorship_tag": "ABX9TyNjVSQun7zFK9Q3YKakBfCs",
      "include_colab_link": true
    },
    "kernelspec": {
      "name": "python3",
      "display_name": "Python 3"
    },
    "language_info": {
      "name": "python"
    },
    "accelerator": "GPU"
  },
  "cells": [
    {
      "cell_type": "markdown",
      "metadata": {
        "id": "view-in-github",
        "colab_type": "text"
      },
      "source": [
        "<a href=\"https://colab.research.google.com/github/ykitaguchi77/AdvancedPytorch_Colab/blob/master/Few_shot_GAN_adaptation.ipynb\" target=\"_parent\"><img src=\"https://colab.research.google.com/assets/colab-badge.svg\" alt=\"Open In Colab\"/></a>"
      ]
    },
    {
      "cell_type": "markdown",
      "source": [
        "#**Few shot GAN adaptation**\n",
        "\n",
        "Implement: http://cedro3.com/ai/few-shot/ <br>\n",
        "Original: https://github.com/utkarshojha/few-shot-gan-adaptation\n"
      ],
      "metadata": {
        "id": "73Vv_P9zuCWO"
      }
    },
    {
      "cell_type": "markdown",
      "source": [
        "#**Set up**"
      ],
      "metadata": {
        "id": "HYrwosdgugul"
      }
    },
    {
      "cell_type": "code",
      "execution_count": null,
      "metadata": {
        "colab": {
          "base_uri": "https://localhost:8080/"
        },
        "id": "tUH2vwatt3gM",
        "outputId": "fe18fae4-946c-46cb-bac5-5f45bb1ebe83"
      },
      "outputs": [
        {
          "output_type": "stream",
          "name": "stdout",
          "text": [
            "Cloning into 'few-shot-gan-adaptation'...\n",
            "remote: Enumerating objects: 202, done.\u001b[K\n",
            "remote: Counting objects: 100% (202/202), done.\u001b[K\n",
            "remote: Compressing objects: 100% (169/169), done.\u001b[K\n",
            "remote: Total 202 (delta 61), reused 136 (delta 31), pack-reused 0\u001b[K\n",
            "Receiving objects: 100% (202/202), 97.85 MiB | 13.06 MiB/s, done.\n",
            "Resolving deltas: 100% (61/61), done.\n",
            "/content/few-shot-gan-adaptation\n",
            "Looking in links: https://download.pytorch.org/whl/torch_stable.html\n",
            "Collecting torch==1.7.0+cu101\n",
            "  Downloading https://download.pytorch.org/whl/cu101/torch-1.7.0%2Bcu101-cp37-cp37m-linux_x86_64.whl (735.3 MB)\n",
            "\u001b[K     |████████████████████████████████| 735.3 MB 25 kB/s \n",
            "\u001b[?25hCollecting torchvision==0.8.1+cu101\n",
            "  Downloading https://download.pytorch.org/whl/cu101/torchvision-0.8.1%2Bcu101-cp37-cp37m-linux_x86_64.whl (12.7 MB)\n",
            "\u001b[K     |████████████████████████████████| 12.7 MB 3.5 MB/s \n",
            "\u001b[?25hRequirement already satisfied: numpy in /usr/local/lib/python3.7/dist-packages (from torch==1.7.0+cu101) (1.21.5)\n",
            "Requirement already satisfied: typing-extensions in /usr/local/lib/python3.7/dist-packages (from torch==1.7.0+cu101) (3.10.0.2)\n",
            "Collecting dataclasses\n",
            "  Downloading dataclasses-0.6-py3-none-any.whl (14 kB)\n",
            "Requirement already satisfied: future in /usr/local/lib/python3.7/dist-packages (from torch==1.7.0+cu101) (0.16.0)\n",
            "Requirement already satisfied: pillow>=4.1.1 in /usr/local/lib/python3.7/dist-packages (from torchvision==0.8.1+cu101) (7.1.2)\n",
            "Installing collected packages: dataclasses, torch, torchvision\n",
            "  Attempting uninstall: torch\n",
            "    Found existing installation: torch 1.10.0+cu111\n",
            "    Uninstalling torch-1.10.0+cu111:\n"
          ]
        }
      ],
      "source": [
        "# github からコードを取得\n",
        "! git clone https://github.com/cedro3/few-shot-gan-adaptation.git\n",
        "%cd few-shot-gan-adaptation\n",
        " \n",
        "# ライブラリーのインストール\n",
        "! pip install torch==1.7.0+cu101 torchvision==0.8.1+cu101 -f https://download.pytorch.org/whl/torch_stable.html\n",
        "! pip install pytorch-fid==0.1.1\n",
        "! pip install visdom==0.1.8.9\n",
        "! pip install lpips==0.1.3\n",
        "! pip install scipy==1.1.0\n",
        " \n",
        "# ninja システムのインストール\n",
        "! wget https://github.com/ninja-build/ninja/releases/download/v1.8.2/ninja-linux.zip\n",
        "! sudo unzip ninja-linux.zip -d /usr/local/bin/\n",
        "! sudo update-alternatives --install /usr/bin/ninja ninja /usr/local/bin/ninja 1 --force\n",
        " \n",
        "# 学習済みパラメータのダウンロード\n",
        "import gdown\n",
        "gdown.download('https://drive.google.com/u/0/uc?id=1TQ_6x74RPQf03mSjtqUijM4MZEMyn7HI', 'source_ffhq.pt', quiet=False)\n",
        "gdown.download('https://drive.google.com/u/0/uc?id=1aZjnGe2E6RCL7Y0Is9klzyYDl7nQzS7Z', 'ffhq_sketches.pt', quiet=False)\n",
        "gdown.download('https://drive.google.com/u/0/uc?id=18OQmu0HYVr0gEF88BNMY6W519JiW0PZZ', 'ffhq_caricatures.pt', quiet=False)\n",
        " \n",
        "# フォルダーの作成\n",
        "import os\n",
        "os.makedirs('traversals', exist_ok=True)"
      ]
    },
    {
      "cell_type": "markdown",
      "source": [
        "#**Make \"Sketch\" illustrations**"
      ],
      "metadata": {
        "id": "9mB14Varuk6s"
      }
    },
    {
      "cell_type": "code",
      "source": [
        "# Targetから画像生成\n",
        "! python generate_img.py --ckpt_target ffhq_sketches.pt --load_noise noise.pt\n",
        " \n",
        "from IPython.display import Image, display_png\n",
        "display_png(Image('./test_sample/sample.png'))"
      ],
      "metadata": {
        "id": "m_3QD2X2ukTF"
      },
      "execution_count": null,
      "outputs": []
    },
    {
      "cell_type": "markdown",
      "source": [
        "#**Photo to sketch_movie**"
      ],
      "metadata": {
        "id": "nNNtQPv_wZWk"
      }
    },
    {
      "cell_type": "code",
      "source": [
        "# source & target の画像補完\n",
        "! python generate_img.py --ckpt_source source_ffhq.pt --ckpt_target ffhq_sketches.pt --mode interpolate --load_noise noise.pt\n",
        " \n",
        "# output.mp4 ファイル削除\n",
        "if os.path.exists('./output.mp4'):\n",
        "   os.remove('./output.mp4')\n",
        " \n",
        "# traversals フォルダーの静止画から動画を作成\n",
        "! ffmpeg -r 15 -i traversals/sample%3d.png -vcodec libx264 -pix_fmt yuv420p output.mp4"
      ],
      "metadata": {
        "id": "w20YMWDPvElO"
      },
      "execution_count": null,
      "outputs": []
    },
    {
      "cell_type": "code",
      "source": [
        "# 動画再生\n",
        "from IPython.display import HTML\n",
        "from base64 import b64encode\n",
        " \n",
        "mp4 = open('./output.mp4', 'rb').read()\n",
        "data_url = 'data:video/mp4;base64,' + b64encode(mp4).decode()\n",
        "HTML(f\"\"\"\n",
        "<video width=\"50%\" height=\"50%\" controls>\n",
        "      <source src=\"{data_url}\" type=\"video/mp4\">\n",
        "</video>\"\"\")"
      ],
      "metadata": {
        "id": "io6htgMpvZZN"
      },
      "execution_count": null,
      "outputs": []
    },
    {
      "cell_type": "markdown",
      "source": [
        "#**Create anime images**"
      ],
      "metadata": {
        "id": "H5fARS_AwlLO"
      }
    },
    {
      "cell_type": "code",
      "source": [
        "! python generate_img.py --ckpt_target ffhq_caricatures.pt --load_noise noise.pt\n",
        " \n",
        "from IPython.display import Image, display_png\n",
        "display_png(Image('./test_sample/sample.png'))"
      ],
      "metadata": {
        "id": "4QxM-eK8wra4"
      },
      "execution_count": null,
      "outputs": []
    },
    {
      "cell_type": "markdown",
      "source": [
        "#**Photo to anime_movie**"
      ],
      "metadata": {
        "id": "VP7Hzfa8w6bu"
      }
    },
    {
      "cell_type": "code",
      "source": [
        "! python generate_img.py --ckpt_source source_ffhq.pt --ckpt_target ffhq_caricatures.pt\\\n",
        "                           --mode interpolate --load_noise noise.pt\n",
        " \n",
        "# output.mp4 ファイル削除\n",
        "if os.path.exists('./output.mp4'):\n",
        "   os.remove('./output.mp4')\n",
        " \n",
        "# traversals フォルダーの静止画から動画を作成\n",
        "! ffmpeg -r 15 -i traversals/sample%3d.png\\\n",
        "               -vcodec libx264 -pix_fmt yuv420p output.mp4"
      ],
      "metadata": {
        "id": "D4eSw4V9w_A8"
      },
      "execution_count": null,
      "outputs": []
    },
    {
      "cell_type": "code",
      "source": [
        "# 動画再生\n",
        "from IPython.display import HTML\n",
        "from base64 import b64encode\n",
        " \n",
        "mp4 = open('./output.mp4', 'rb').read()\n",
        "data_url = 'data:video/mp4;base64,' + b64encode(mp4).decode()\n",
        "HTML(f\"\"\"\n",
        "<video width=\"50%\" height=\"50%\" controls>\n",
        "      <source src=\"{data_url}\" type=\"video/mp4\">\n",
        "</video>\"\"\")"
      ],
      "metadata": {
        "id": "mWwZD-TCxB5N"
      },
      "execution_count": null,
      "outputs": []
    }
  ]
}