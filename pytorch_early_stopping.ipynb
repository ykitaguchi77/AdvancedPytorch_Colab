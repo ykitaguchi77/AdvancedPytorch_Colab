{
  "nbformat": 4,
  "nbformat_minor": 0,
  "metadata": {
    "colab": {
      "name": "pytorch_early_stopping.ipynb",
      "provenance": [],
      "include_colab_link": true
    },
    "kernelspec": {
      "name": "python3",
      "display_name": "Python 3"
    },
    "accelerator": "GPU"
  },
  "cells": [
    {
      "cell_type": "markdown",
      "metadata": {
        "id": "view-in-github",
        "colab_type": "text"
      },
      "source": [
        "<a href=\"https://colab.research.google.com/github/ykitaguchi77/AdvancedPytorch_Colab/blob/master/pytorch_early_stopping.ipynb\" target=\"_parent\"><img src=\"https://colab.research.google.com/assets/colab-badge.svg\" alt=\"Open In Colab\"/></a>"
      ]
    },
    {
      "cell_type": "markdown",
      "metadata": {
        "id": "8Fn9S8oyN3dA",
        "colab_type": "text"
      },
      "source": [
        ""
      ]
    },
    {
      "cell_type": "markdown",
      "metadata": {
        "id": "ef6xQ4LSGFG-",
        "colab_type": "text"
      },
      "source": [
        "#Early Stopping\n",
        "https://github.com/Bjarten/early-stopping-pytorch/blob/master/MNIST_Early_Stopping_example.ipynb"
      ]
    },
    {
      "cell_type": "markdown",
      "metadata": {
        "id": "CFEz1HZLGcLH",
        "colab_type": "text"
      },
      "source": [
        "\n",
        "#Import modules\n",
        "pytorchtoolsがないのでダウンロード要"
      ]
    },
    {
      "cell_type": "code",
      "metadata": {
        "id": "G8FkPIElEP8G",
        "colab_type": "code",
        "colab": {
          "base_uri": "https://localhost:8080/",
          "height": 54
        },
        "outputId": "2f8e236e-48ee-4e0e-865d-5eb6a000b799"
      },
      "source": [
        "# import libraries\n",
        "import torch\n",
        "import numpy as np\n",
        "import matplotlib.pyplot as plt\n",
        "\n",
        "!pip install pytorchtools\n",
        "\n",
        "device = torch.device(\"cuda:0\" if torch.cuda.is_available() else \"cpu\")"
      ],
      "execution_count": 12,
      "outputs": [
        {
          "output_type": "stream",
          "text": [
            "Requirement already satisfied: pytorchtools in /usr/local/lib/python3.6/dist-packages (0.0.2)\n"
          ],
          "name": "stdout"
        }
      ]
    },
    {
      "cell_type": "markdown",
      "metadata": {
        "id": "-lyB_ZDCErzv",
        "colab_type": "text"
      },
      "source": [
        "# Load and Batch the Data"
      ]
    },
    {
      "cell_type": "code",
      "metadata": {
        "id": "9z9WIy7dEqp_",
        "colab_type": "code",
        "colab": {}
      },
      "source": [
        "from torchvision import datasets\n",
        "import torchvision.transforms as transforms\n",
        "from torch.utils.data.sampler import SubsetRandomSampler\n",
        "\n",
        "def create_datasets(batch_size):\n",
        "\n",
        "    # percentage of training set to use as validation\n",
        "    valid_size = 0.2\n",
        "\n",
        "    # convert data to torch.FloatTensor\n",
        "    transform = transforms.ToTensor()\n",
        "\n",
        "    # choose the training and test datasets\n",
        "    train_data = datasets.MNIST(root='data', \n",
        "                                train=True,\n",
        "                                download=True, \n",
        "                                transform=transform)\n",
        "\n",
        "    test_data = datasets.MNIST(root='data',\n",
        "                               train=False,\n",
        "                               download=True,\n",
        "                               transform=transform)\n",
        "\n",
        "    # obtain training indices that will be used for validation\n",
        "    num_train = len(train_data)\n",
        "    indices = list(range(num_train))\n",
        "    np.random.shuffle(indices)\n",
        "    split = int(np.floor(valid_size * num_train))\n",
        "    train_idx, valid_idx = indices[split:], indices[:split]\n",
        "    \n",
        "    # define samplers for obtaining training and validation batches\n",
        "    train_sampler = SubsetRandomSampler(train_idx)\n",
        "    valid_sampler = SubsetRandomSampler(valid_idx)\n",
        "    \n",
        "    # load training data in batches\n",
        "    train_loader = torch.utils.data.DataLoader(train_data,\n",
        "                                               batch_size=batch_size,\n",
        "                                               sampler=train_sampler,\n",
        "                                               num_workers=0)\n",
        "    \n",
        "    # load validation data in batches\n",
        "    valid_loader = torch.utils.data.DataLoader(train_data,\n",
        "                                               batch_size=batch_size,\n",
        "                                               sampler=valid_sampler,\n",
        "                                               num_workers=0)\n",
        "    \n",
        "    # load test data in batches\n",
        "    test_loader = torch.utils.data.DataLoader(test_data,\n",
        "                                              batch_size=batch_size,\n",
        "                                              num_workers=0)\n",
        "    \n",
        "    return train_loader, test_loader, valid_loader"
      ],
      "execution_count": 0,
      "outputs": []
    },
    {
      "cell_type": "markdown",
      "metadata": {
        "id": "O4jIyFA_E55W",
        "colab_type": "text"
      },
      "source": [
        "#Define the Network"
      ]
    },
    {
      "cell_type": "code",
      "metadata": {
        "id": "errLWuyeE4Cm",
        "colab_type": "code",
        "colab": {
          "base_uri": "https://localhost:8080/",
          "height": 122
        },
        "outputId": "470dec68-de14-4d1d-e8a2-ab522bc6075c"
      },
      "source": [
        "import torch.nn as nn\n",
        "import torch.nn.functional as F\n",
        "\n",
        "class Net(nn.Module):\n",
        "    def __init__(self):\n",
        "        super(Net, self).__init__()\n",
        "        self.fc1 = nn.Linear(28 * 28, 128)\n",
        "        self.fc2 = nn.Linear(128, 128)\n",
        "        self.fc3 = nn.Linear(128, 10)\n",
        "        self.dropout = nn.Dropout(0.5)\n",
        "    def forward(self, x):\n",
        "        # flatten image input\n",
        "        x = x.view(-1, 28 * 28)\n",
        "        # add hidden layer, with relu activation function\n",
        "        x = F.relu(self.fc1(x))\n",
        "        x = self.dropout(x)\n",
        "        # add hidden layer, with relu activation function\n",
        "        x = F.relu(self.fc2(x))\n",
        "        x = self.dropout(x)\n",
        "        # add output layer\n",
        "        x = self.fc3(x)\n",
        "        return x\n",
        "\n",
        "# initialize the NN\n",
        "model = Net()\n",
        "print(model)"
      ],
      "execution_count": 9,
      "outputs": [
        {
          "output_type": "stream",
          "text": [
            "Net(\n",
            "  (fc1): Linear(in_features=784, out_features=128, bias=True)\n",
            "  (fc2): Linear(in_features=128, out_features=128, bias=True)\n",
            "  (fc3): Linear(in_features=128, out_features=10, bias=True)\n",
            "  (dropout): Dropout(p=0.5, inplace=False)\n",
            ")\n"
          ],
          "name": "stdout"
        }
      ]
    },
    {
      "cell_type": "markdown",
      "metadata": {
        "id": "_cafOj36FDd2",
        "colab_type": "text"
      },
      "source": [
        "#Specify Loss Function and Optimizer"
      ]
    },
    {
      "cell_type": "code",
      "metadata": {
        "id": "6-YtXBCAE-vm",
        "colab_type": "code",
        "colab": {}
      },
      "source": [
        "# specify loss function\n",
        "criterion = nn.CrossEntropyLoss()\n",
        "\n",
        "# specify optimizer\n",
        "optimizer = torch.optim.Adam(model.parameters())"
      ],
      "execution_count": 0,
      "outputs": []
    },
    {
      "cell_type": "markdown",
      "metadata": {
        "id": "5PbRJep4FGb-",
        "colab_type": "text"
      },
      "source": [
        "#Define the Early Stopping Class\n",
        "\n",
        "https://github.com/Bjarten/early-stopping-pytorch/blob/master/pytorchtools.py"
      ]
    },
    {
      "cell_type": "code",
      "metadata": {
        "id": "Iy7f4u2jHqhA",
        "colab_type": "code",
        "colab": {}
      },
      "source": [
        "import numpy as np\n",
        "import torch\n",
        "\n",
        "class EarlyStopping:\n",
        "    \"\"\"Early stops the training if validation loss doesn't improve after a given patience.\"\"\"\n",
        "    def __init__(self, patience=7, verbose=False, delta=0):\n",
        "        \"\"\"\n",
        "        Args:\n",
        "            patience (int): How long to wait after last time validation loss improved.\n",
        "                            Default: 7\n",
        "            verbose (bool): If True, prints a message for each validation loss improvement. \n",
        "                            Default: False\n",
        "            delta (float): Minimum change in the monitored quantity to qualify as an improvement.\n",
        "                            Default: 0\n",
        "        \"\"\"\n",
        "        self.patience = patience\n",
        "        self.verbose = verbose\n",
        "        self.counter = 0\n",
        "        self.best_score = None\n",
        "        self.early_stop = False\n",
        "        self.val_loss_min = np.Inf\n",
        "        self.delta = delta\n",
        "\n",
        "    def __call__(self, val_loss, model):\n",
        "\n",
        "        score = -val_loss\n",
        "\n",
        "        if self.best_score is None:\n",
        "            self.best_score = score\n",
        "            self.save_checkpoint(val_loss, model)\n",
        "        elif score < self.best_score + self.delta:\n",
        "            self.counter += 1\n",
        "            print(f'EarlyStopping counter: {self.counter} out of {self.patience}')\n",
        "            if self.counter >= self.patience:\n",
        "                self.early_stop = True\n",
        "        else:\n",
        "            self.best_score = score\n",
        "            self.save_checkpoint(val_loss, model)\n",
        "            self.counter = 0\n",
        "\n",
        "    def save_checkpoint(self, val_loss, model):\n",
        "        '''Saves model when validation loss decrease.'''\n",
        "        if self.verbose:\n",
        "            print(f'Validation loss decreased ({self.val_loss_min:.6f} --> {val_loss:.6f}).  Saving model ...')\n",
        "        torch.save(model.state_dict(), 'checkpoint.pt')\n",
        "        self.val_loss_min = val_loss\n"
      ],
      "execution_count": 0,
      "outputs": []
    },
    {
      "cell_type": "markdown",
      "metadata": {
        "id": "kTzL5JbqFOZm",
        "colab_type": "text"
      },
      "source": [
        "#Train the Model using Early Stopping\n"
      ]
    },
    {
      "cell_type": "code",
      "metadata": {
        "id": "dRJznM3PHEGo",
        "colab_type": "code",
        "colab": {}
      },
      "source": [
        "def train_model(model, batch_size, patience, n_epochs):\n",
        "    \n",
        "    # to track the training loss as the model trains\n",
        "    train_losses = []\n",
        "    # to track the validation loss as the model trains\n",
        "    valid_losses = []\n",
        "    # to track the average training loss per epoch as the model trains\n",
        "    avg_train_losses = []\n",
        "    # to track the average validation loss per epoch as the model trains\n",
        "    avg_valid_losses = [] \n",
        "    \n",
        "    # initialize the early_stopping object\n",
        "    early_stopping = EarlyStopping(patience=patience, verbose=True)\n",
        "    \n",
        "    for epoch in range(1, n_epochs + 1):\n",
        "\n",
        "        ###################\n",
        "        # train the model #\n",
        "        ###################\n",
        "        model.train() # prep model for training\n",
        "        for batch, (data, target) in enumerate(train_loader, 1):\n",
        "            # clear the gradients of all optimized variables\n",
        "            optimizer.zero_grad()\n",
        "            # forward pass: compute predicted outputs by passing inputs to the model\n",
        "            output = model(data)\n",
        "            # calculate the loss\n",
        "            loss = criterion(output, target)\n",
        "            # backward pass: compute gradient of the loss with respect to model parameters\n",
        "            loss.backward()\n",
        "            # perform a single optimization step (parameter update)\n",
        "            optimizer.step()\n",
        "            # record training loss\n",
        "            train_losses.append(loss.item())\n",
        "\n",
        "        ######################    \n",
        "        # validate the model #\n",
        "        ######################\n",
        "        model.eval() # prep model for evaluation\n",
        "        for data, target in valid_loader:\n",
        "            # forward pass: compute predicted outputs by passing inputs to the model\n",
        "            output = model(data)\n",
        "            # calculate the loss\n",
        "            loss = criterion(output, target)\n",
        "            # record validation loss\n",
        "            valid_losses.append(loss.item())\n",
        "\n",
        "        # print training/validation statistics \n",
        "        # calculate average loss over an epoch\n",
        "        train_loss = np.average(train_losses)\n",
        "        valid_loss = np.average(valid_losses)\n",
        "        avg_train_losses.append(train_loss)\n",
        "        avg_valid_losses.append(valid_loss)\n",
        "        \n",
        "        epoch_len = len(str(n_epochs))\n",
        "        \n",
        "        print_msg = (f'[{epoch:>{epoch_len}}/{n_epochs:>{epoch_len}}] ' +\n",
        "                     f'train_loss: {train_loss:.5f} ' +\n",
        "                     f'valid_loss: {valid_loss:.5f}')\n",
        "        \n",
        "        print(print_msg)\n",
        "        \n",
        "        # clear lists to track next epoch\n",
        "        train_losses = []\n",
        "        valid_losses = []\n",
        "        \n",
        "        # early_stopping needs the validation loss to check if it has decresed, \n",
        "        # and if it has, it will make a checkpoint of the current model\n",
        "        early_stopping(valid_loss, model)\n",
        "        \n",
        "        if early_stopping.early_stop:\n",
        "            print(\"Early stopping\")\n",
        "            break\n",
        "        \n",
        "    # load the last checkpoint with the best model\n",
        "    model.load_state_dict(torch.load('checkpoint.pt'))\n",
        "\n",
        "    return  model, avg_train_losses, avg_valid_losses"
      ],
      "execution_count": 0,
      "outputs": []
    },
    {
      "cell_type": "code",
      "metadata": {
        "id": "lWd5CwYtHHU9",
        "colab_type": "code",
        "colab": {
          "base_uri": "https://localhost:8080/",
          "height": 1000
        },
        "outputId": "b7c6c95c-b73c-4938-d20c-1247ad552144"
      },
      "source": [
        "batch_size = 256\n",
        "n_epochs = 100\n",
        "\n",
        "train_loader, test_loader, valid_loader = create_datasets(batch_size)\n",
        "\n",
        "# early stopping patience; how long to wait after last time validation loss improved.\n",
        "patience = 20\n",
        "\n",
        "model, train_loss, valid_loss = train_model(model, batch_size, patience, n_epochs)"
      ],
      "execution_count": 29,
      "outputs": [
        {
          "output_type": "stream",
          "text": [
            "[  1/100] train_loss: 0.83925 valid_loss: 0.29317\n",
            "Validation loss decreased (inf --> 0.293168).  Saving model ...\n",
            "[  2/100] train_loss: 0.38057 valid_loss: 0.21346\n",
            "Validation loss decreased (0.293168 --> 0.213456).  Saving model ...\n",
            "[  3/100] train_loss: 0.30685 valid_loss: 0.17780\n",
            "Validation loss decreased (0.213456 --> 0.177799).  Saving model ...\n",
            "[  4/100] train_loss: 0.26772 valid_loss: 0.15842\n",
            "Validation loss decreased (0.177799 --> 0.158415).  Saving model ...\n",
            "[  5/100] train_loss: 0.23827 valid_loss: 0.13604\n",
            "Validation loss decreased (0.158415 --> 0.136043).  Saving model ...\n",
            "[  6/100] train_loss: 0.21532 valid_loss: 0.12851\n",
            "Validation loss decreased (0.136043 --> 0.128507).  Saving model ...\n",
            "[  7/100] train_loss: 0.20196 valid_loss: 0.11766\n",
            "Validation loss decreased (0.128507 --> 0.117662).  Saving model ...\n",
            "[  8/100] train_loss: 0.19183 valid_loss: 0.11265\n",
            "Validation loss decreased (0.117662 --> 0.112647).  Saving model ...\n",
            "[  9/100] train_loss: 0.18276 valid_loss: 0.10786\n",
            "Validation loss decreased (0.112647 --> 0.107860).  Saving model ...\n",
            "[ 10/100] train_loss: 0.17072 valid_loss: 0.10093\n",
            "Validation loss decreased (0.107860 --> 0.100927).  Saving model ...\n",
            "[ 11/100] train_loss: 0.16500 valid_loss: 0.10022\n",
            "Validation loss decreased (0.100927 --> 0.100225).  Saving model ...\n",
            "[ 12/100] train_loss: 0.15909 valid_loss: 0.09712\n",
            "Validation loss decreased (0.100225 --> 0.097120).  Saving model ...\n",
            "[ 13/100] train_loss: 0.15093 valid_loss: 0.09604\n",
            "Validation loss decreased (0.097120 --> 0.096036).  Saving model ...\n",
            "[ 14/100] train_loss: 0.14905 valid_loss: 0.09520\n",
            "Validation loss decreased (0.096036 --> 0.095197).  Saving model ...\n",
            "[ 15/100] train_loss: 0.14371 valid_loss: 0.09243\n",
            "Validation loss decreased (0.095197 --> 0.092427).  Saving model ...\n",
            "[ 16/100] train_loss: 0.13987 valid_loss: 0.09044\n",
            "Validation loss decreased (0.092427 --> 0.090443).  Saving model ...\n",
            "[ 17/100] train_loss: 0.13545 valid_loss: 0.09215\n",
            "EarlyStopping counter: 1 out of 20\n",
            "[ 18/100] train_loss: 0.13339 valid_loss: 0.08722\n",
            "Validation loss decreased (0.090443 --> 0.087217).  Saving model ...\n",
            "[ 19/100] train_loss: 0.12809 valid_loss: 0.08797\n",
            "EarlyStopping counter: 1 out of 20\n",
            "[ 20/100] train_loss: 0.12415 valid_loss: 0.08689\n",
            "Validation loss decreased (0.087217 --> 0.086893).  Saving model ...\n",
            "[ 21/100] train_loss: 0.12221 valid_loss: 0.08580\n",
            "Validation loss decreased (0.086893 --> 0.085796).  Saving model ...\n",
            "[ 22/100] train_loss: 0.12318 valid_loss: 0.08682\n",
            "EarlyStopping counter: 1 out of 20\n",
            "[ 23/100] train_loss: 0.12007 valid_loss: 0.08591\n",
            "EarlyStopping counter: 2 out of 20\n",
            "[ 24/100] train_loss: 0.11692 valid_loss: 0.08279\n",
            "Validation loss decreased (0.085796 --> 0.082788).  Saving model ...\n",
            "[ 25/100] train_loss: 0.11370 valid_loss: 0.08502\n",
            "EarlyStopping counter: 1 out of 20\n",
            "[ 26/100] train_loss: 0.11396 valid_loss: 0.08221\n",
            "Validation loss decreased (0.082788 --> 0.082208).  Saving model ...\n",
            "[ 27/100] train_loss: 0.11088 valid_loss: 0.08209\n",
            "Validation loss decreased (0.082208 --> 0.082086).  Saving model ...\n",
            "[ 28/100] train_loss: 0.10870 valid_loss: 0.08203\n",
            "Validation loss decreased (0.082086 --> 0.082028).  Saving model ...\n",
            "[ 29/100] train_loss: 0.10874 valid_loss: 0.08351\n",
            "EarlyStopping counter: 1 out of 20\n",
            "[ 30/100] train_loss: 0.10847 valid_loss: 0.08191\n",
            "Validation loss decreased (0.082028 --> 0.081910).  Saving model ...\n",
            "[ 31/100] train_loss: 0.10513 valid_loss: 0.08286\n",
            "EarlyStopping counter: 1 out of 20\n",
            "[ 32/100] train_loss: 0.10268 valid_loss: 0.08063\n",
            "Validation loss decreased (0.081910 --> 0.080626).  Saving model ...\n",
            "[ 33/100] train_loss: 0.10146 valid_loss: 0.08094\n",
            "EarlyStopping counter: 1 out of 20\n",
            "[ 34/100] train_loss: 0.09953 valid_loss: 0.08240\n",
            "EarlyStopping counter: 2 out of 20\n",
            "[ 35/100] train_loss: 0.09838 valid_loss: 0.07942\n",
            "Validation loss decreased (0.080626 --> 0.079416).  Saving model ...\n",
            "[ 36/100] train_loss: 0.09758 valid_loss: 0.07977\n",
            "EarlyStopping counter: 1 out of 20\n",
            "[ 37/100] train_loss: 0.09792 valid_loss: 0.08349\n",
            "EarlyStopping counter: 2 out of 20\n",
            "[ 38/100] train_loss: 0.09632 valid_loss: 0.08385\n",
            "EarlyStopping counter: 3 out of 20\n",
            "[ 39/100] train_loss: 0.09310 valid_loss: 0.08165\n",
            "EarlyStopping counter: 4 out of 20\n",
            "[ 40/100] train_loss: 0.09564 valid_loss: 0.08277\n",
            "EarlyStopping counter: 5 out of 20\n",
            "[ 41/100] train_loss: 0.09307 valid_loss: 0.08095\n",
            "EarlyStopping counter: 6 out of 20\n",
            "[ 42/100] train_loss: 0.09423 valid_loss: 0.08282\n",
            "EarlyStopping counter: 7 out of 20\n",
            "[ 43/100] train_loss: 0.09338 valid_loss: 0.08617\n",
            "EarlyStopping counter: 8 out of 20\n",
            "[ 44/100] train_loss: 0.09008 valid_loss: 0.08037\n",
            "EarlyStopping counter: 9 out of 20\n",
            "[ 45/100] train_loss: 0.09224 valid_loss: 0.08564\n",
            "EarlyStopping counter: 10 out of 20\n",
            "[ 46/100] train_loss: 0.08817 valid_loss: 0.08700\n",
            "EarlyStopping counter: 11 out of 20\n",
            "[ 47/100] train_loss: 0.08809 valid_loss: 0.08388\n",
            "EarlyStopping counter: 12 out of 20\n",
            "[ 48/100] train_loss: 0.09080 valid_loss: 0.08430\n",
            "EarlyStopping counter: 13 out of 20\n",
            "[ 49/100] train_loss: 0.08670 valid_loss: 0.08511\n",
            "EarlyStopping counter: 14 out of 20\n",
            "[ 50/100] train_loss: 0.08681 valid_loss: 0.08360\n",
            "EarlyStopping counter: 15 out of 20\n",
            "[ 51/100] train_loss: 0.08670 valid_loss: 0.08247\n",
            "EarlyStopping counter: 16 out of 20\n",
            "[ 52/100] train_loss: 0.08616 valid_loss: 0.08686\n",
            "EarlyStopping counter: 17 out of 20\n",
            "[ 53/100] train_loss: 0.08311 valid_loss: 0.08747\n",
            "EarlyStopping counter: 18 out of 20\n",
            "[ 54/100] train_loss: 0.08576 valid_loss: 0.08706\n",
            "EarlyStopping counter: 19 out of 20\n",
            "[ 55/100] train_loss: 0.08133 valid_loss: 0.08582\n",
            "EarlyStopping counter: 20 out of 20\n",
            "Early stopping\n"
          ],
          "name": "stdout"
        }
      ]
    },
    {
      "cell_type": "markdown",
      "metadata": {
        "id": "JtsuVSFrN6RB",
        "colab_type": "text"
      },
      "source": [
        "#Visualizing the Loss and the Early Stopping Checkpoint¶\n"
      ]
    },
    {
      "cell_type": "code",
      "metadata": {
        "id": "yZo3d_ddN9fN",
        "colab_type": "code",
        "colab": {
          "base_uri": "https://localhost:8080/",
          "height": 605
        },
        "outputId": "2fb446b1-efa9-4f63-b2ad-ee35db69b1e4"
      },
      "source": [
        "# visualize the loss as the network trained\n",
        "fig = plt.figure(figsize=(10,8))\n",
        "plt.plot(range(1,len(train_loss)+1),train_loss, label='Training Loss')\n",
        "plt.plot(range(1,len(valid_loss)+1),valid_loss,label='Validation Loss')\n",
        "\n",
        "# find position of lowest validation loss\n",
        "minposs = valid_loss.index(min(valid_loss))+1 \n",
        "plt.axvline(minposs, linestyle='--', color='r',label='Early Stopping Checkpoint')\n",
        "\n",
        "plt.xlabel('epochs')\n",
        "plt.ylabel('loss')\n",
        "plt.ylim(0, 0.5) # consistent scale\n",
        "plt.xlim(0, len(train_loss)+1) # consistent scale\n",
        "plt.grid(True)\n",
        "plt.legend()\n",
        "plt.tight_layout()\n",
        "plt.show()\n",
        "fig.savefig('loss_plot.png', bbox_inches='tight')"
      ],
      "execution_count": 30,
      "outputs": [
        {
          "output_type": "display_data",
          "data": {
            "image/png": "[encoded data removed]",
            "text/plain": [
              "<Figure size 720x576 with 1 Axes>"
            ]
          },
          "metadata": {
            "tags": []
          }
        }
      ]
    },
    {
      "cell_type": "markdown",
      "metadata": {
        "id": "qtvLBIiHOBjO",
        "colab_type": "text"
      },
      "source": [
        "#Test the Trained Network"
      ]
    },
    {
      "cell_type": "code",
      "metadata": {
        "id": "0SxBLnG6OAqP",
        "colab_type": "code",
        "colab": {
          "base_uri": "https://localhost:8080/",
          "height": 263
        },
        "outputId": "e2e74686-4462-4180-a608-890229661a34"
      },
      "source": [
        "# initialize lists to monitor test loss and accuracy\n",
        "test_loss = 0.0\n",
        "class_correct = list(0. for i in range(10))\n",
        "class_total = list(0. for i in range(10))\n",
        "\n",
        "model.eval() # prep model for evaluation\n",
        "\n",
        "for data, target in test_loader:\n",
        "    if len(target.data) != batch_size:\n",
        "        break\n",
        "    # forward pass: compute predicted outputs by passing inputs to the model\n",
        "    output = model(data)\n",
        "    # calculate the loss\n",
        "    loss = criterion(output, target)\n",
        "    # update test loss \n",
        "    test_loss += loss.item()*data.size(0)\n",
        "    # convert output probabilities to predicted class\n",
        "    _, pred = torch.max(output, 1)\n",
        "    # compare predictions to true label\n",
        "    correct = np.squeeze(pred.eq(target.data.view_as(pred)))\n",
        "    # calculate test accuracy for each object class\n",
        "    for i in range(batch_size):\n",
        "        label = target.data[i]\n",
        "        class_correct[label] += correct[i].item()\n",
        "        class_total[label] += 1\n",
        "\n",
        "# calculate and print avg test loss\n",
        "test_loss = test_loss/len(test_loader.dataset)\n",
        "print('Test Loss: {:.6f}\\n'.format(test_loss))\n",
        "\n",
        "for i in range(10):\n",
        "    if class_total[i] > 0:\n",
        "        print('Test Accuracy of %5s: %2d%% (%2d/%2d)' % (\n",
        "            str(i), 100 * class_correct[i] / class_total[i],\n",
        "            np.sum(class_correct[i]), np.sum(class_total[i])))\n",
        "    else:\n",
        "        print('Test Accuracy of %5s: N/A (no training examples)' % (classes[i]))\n",
        "\n",
        "print('\\nTest Accuracy (Overall): %2d%% (%2d/%2d)' % (\n",
        "    100. * np.sum(class_correct) / np.sum(class_total),\n",
        "    np.sum(class_correct), np.sum(class_total)))"
      ],
      "execution_count": 31,
      "outputs": [
        {
          "output_type": "stream",
          "text": [
            "Test Loss: 0.087217\n",
            "\n",
            "Test Accuracy of     0: 99% (972/979)\n",
            "Test Accuracy of     1: 98% (1114/1133)\n",
            "Test Accuracy of     2: 97% (1009/1030)\n",
            "Test Accuracy of     3: 97% (981/1008)\n",
            "Test Accuracy of     4: 97% (954/980)\n",
            "Test Accuracy of     5: 96% (862/890)\n",
            "Test Accuracy of     6: 98% (938/956)\n",
            "Test Accuracy of     7: 97% (1001/1027)\n",
            "Test Accuracy of     8: 96% (939/973)\n",
            "Test Accuracy of     9: 96% (972/1008)\n",
            "\n",
            "Test Accuracy (Overall): 97% (9742/9984)\n"
          ],
          "name": "stdout"
        }
      ]
    },
    {
      "cell_type": "markdown",
      "metadata": {
        "id": "59qi8fMmOR2m",
        "colab_type": "text"
      },
      "source": [
        "# Visualize Sample Test Results"
      ]
    },
    {
      "cell_type": "code",
      "metadata": {
        "id": "Fc2pmNeeORF2",
        "colab_type": "code",
        "colab": {
          "base_uri": "https://localhost:8080/",
          "height": 288
        },
        "outputId": "f0735efc-8e37-4a1e-b04a-3e9c04a20867"
      },
      "source": [
        "# obtain one batch of test images\n",
        "dataiter = iter(test_loader)\n",
        "images, labels = dataiter.next()\n",
        "\n",
        "# get sample outputs\n",
        "output = model(images)\n",
        "# convert output probabilities to predicted class\n",
        "_, preds = torch.max(output, 1)\n",
        "# prep images for display\n",
        "images = images.numpy()\n",
        "\n",
        "# plot the images in the batch, along with predicted and true labels\n",
        "fig = plt.figure(figsize=(25, 4))\n",
        "for idx in np.arange(20):\n",
        "    ax = fig.add_subplot(2, 20/2, idx+1, xticks=[], yticks=[])\n",
        "    ax.imshow(np.squeeze(images[idx]), cmap='gray')\n",
        "    ax.set_title(\"{} ({})\".format(str(preds[idx].item()), str(labels[idx].item())),\n",
        "                 color=(\"green\" if preds[idx]==labels[idx] else \"red\"))"
      ],
      "execution_count": 32,
      "outputs": [
        {
          "output_type": "display_data",
          "data": {
            "image/png": "[encoded data removed]",
            "text/plain": [
              "<Figure size 1800x288 with 20 Axes>"
            ]
          },
          "metadata": {
            "tags": []
          }
        }
      ]
    }
  ]
}