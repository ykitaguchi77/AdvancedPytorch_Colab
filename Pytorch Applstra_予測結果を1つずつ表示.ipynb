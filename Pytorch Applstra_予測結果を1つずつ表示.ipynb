{
  "nbformat": 4,
  "nbformat_minor": 0,
  "metadata": {
    "colab": {
      "name": "Untitled29.ipynb",
      "provenance": [],
      "authorship_tag": "ABX9TyP033lTP699gpNnDIQZC3zu",
      "include_colab_link": true
    },
    "kernelspec": {
      "name": "python3",
      "display_name": "Python 3"
    },
    "accelerator": "GPU"
  },
  "cells": [
    {
      "cell_type": "markdown",
      "metadata": {
        "id": "view-in-github",
        "colab_type": "text"
      },
      "source": [
        "<a href=\"https://colab.research.google.com/github/ykitaguchi77/AdvancedPytorch_Colab/blob/master/Pytorch%20Applstra_%E4%BA%88%E6%B8%AC%E7%B5%90%E6%9E%9C%E3%82%921%E3%81%A4%E3%81%9A%E3%81%A4%E8%A1%A8%E7%A4%BA.ipynb\" target=\"_parent\"><img src=\"https://colab.research.google.com/assets/colab-badge.svg\" alt=\"Open In Colab\"/></a>"
      ]
    },
    {
      "cell_type": "markdown",
      "metadata": {
        "id": "4KHgYAvVpn_B",
        "colab_type": "text"
      },
      "source": [
        "#予測結果を1つずつ表示する"
      ]
    },
    {
      "cell_type": "code",
      "metadata": {
        "id": "7eVZc-9bMt0W",
        "colab_type": "code",
        "colab": {}
      },
      "source": [
        "from __future__ import print_function, division\n",
        "\n",
        "import torch\n",
        "import torch.nn as nn\n",
        "import torch.optim as optim\n",
        "from torch.optim import lr_scheduler\n",
        "import torch.utils.data as data\n",
        "import numpy as np\n",
        "import torchvision\n",
        "from torchvision import datasets, models, transforms\n",
        "import matplotlib.pyplot as plt\n",
        "import time\n",
        "import os\n",
        "import copy\n",
        "\n",
        "#Advanced Pytorchから\n",
        "import glob\n",
        "import os.path as osp\n",
        "import random\n",
        "import json\n",
        "from PIL import Image\n",
        "from tqdm import tqdm\n",
        "%matplotlib inline\n",
        "\n",
        "\n",
        "plt.ion()   # interactive mode"
      ],
      "execution_count": 0,
      "outputs": []
    },
    {
      "cell_type": "markdown",
      "metadata": {
        "id": "80OHu7Nxp2_G",
        "colab_type": "text"
      },
      "source": [
        "#Google colabをマウント"
      ]
    },
    {
      "cell_type": "code",
      "metadata": {
        "id": "0fvOx674M7-v",
        "colab_type": "code",
        "colab": {
          "base_uri": "https://localhost:8080/",
          "height": 34
        },
        "outputId": "f647c0a0-7957-4f82-f07f-204eb0693c50"
      },
      "source": [
        "from google.colab import drive\n",
        "drive.mount('/content/drive')"
      ],
      "execution_count": 41,
      "outputs": [
        {
          "output_type": "stream",
          "text": [
            "Drive already mounted at /content/drive; to attempt to forcibly remount, call drive.mount(\"/content/drive\", force_remount=True).\n"
          ],
          "name": "stdout"
        }
      ]
    },
    {
      "cell_type": "markdown",
      "metadata": {
        "id": "EvXG1608p7Hv",
        "colab_type": "text"
      },
      "source": [
        "#モデルのロード"
      ]
    },
    {
      "cell_type": "code",
      "metadata": {
        "id": "ofhExJn0NS0l",
        "colab_type": "code",
        "colab": {
          "base_uri": "https://localhost:8080/",
          "height": 34
        },
        "outputId": "58b50f94-0c73-44d4-cc64-df9dab10f483"
      },
      "source": [
        "# モデルの設定\n",
        "model_ft = models.resnet18(pretrained=True)\n",
        "num_ftrs = model_ft.fc.in_features\n",
        "model_ft.fc = nn.Linear(num_ftrs, 2)\n",
        "\n",
        "# 重みロード\n",
        "PATH = '/content/drive/My Drive/Deep_learning/applstra/applstra.pth'\n",
        "model_ft.load_state_dict(torch.load(PATH))"
      ],
      "execution_count": 42,
      "outputs": [
        {
          "output_type": "execute_result",
          "data": {
            "text/plain": [
              "<All keys matched successfully>"
            ]
          },
          "metadata": {
            "tags": []
          },
          "execution_count": 42
        }
      ]
    },
    {
      "cell_type": "markdown",
      "metadata": {
        "id": "edvvXgX5qAbC",
        "colab_type": "text"
      },
      "source": [
        "#データセットを定義\n",
        "（この中でvalセットを使用）"
      ]
    },
    {
      "cell_type": "code",
      "metadata": {
        "id": "8HY-_TjWkZcF",
        "colab_type": "code",
        "colab": {
          "base_uri": "https://localhost:8080/",
          "height": 87
        },
        "outputId": "aa6eb570-bd8d-4058-f40f-115b222cc0e4"
      },
      "source": [
        "data_transforms = {\n",
        "    'train': transforms.Compose([\n",
        "        transforms.RandomResizedCrop(224, scale=(0.5,1.0)),\n",
        "        transforms.RandomHorizontalFlip(),\n",
        "        transforms.ToTensor(),\n",
        "        transforms.Normalize([0.485, 0.456, 0.406], [0.229, 0.224, 0.225])\n",
        "    ]),\n",
        "    'val': transforms.Compose([\n",
        "        transforms.Resize(256),\n",
        "        transforms.CenterCrop(224),\n",
        "        transforms.ToTensor(),\n",
        "        transforms.Normalize([0.485, 0.456, 0.406], [0.229, 0.224, 0.225])\n",
        "    ]),\n",
        "}\n",
        "\n",
        "data_dir = '/content/drive/My Drive/Deep_learning/applstra'\n",
        "image_datasets = {x: datasets.ImageFolder(os.path.join(data_dir, x),\n",
        "                                          data_transforms[x])\n",
        "                  for x in ['train', 'val']}\n",
        "dataloaders = {x: torch.utils.data.DataLoader(image_datasets[x], batch_size=20,\n",
        "                                             shuffle=True, num_workers=4)\n",
        "              for x in ['train', 'val']}\n",
        "dataset_sizes = {x: len(image_datasets[x]) for x in ['train', 'val']}\n",
        "class_names = image_datasets['train'].classes\n",
        "\n",
        "device = torch.device(\"cuda:0\" if torch.cuda.is_available() else \"cpu\")\n",
        "\n",
        "\n",
        "print(class_names)\n",
        "k=0\n",
        "for i in class_names:\n",
        "    print(class_names[k]+\"_val:\"+str(len(os.listdir(path= data_dir + '/val/'+class_names[k]))))\n",
        "    k+=1\n",
        "\n",
        "print(\"validating data set_total：\"+str(len(image_datasets)))"
      ],
      "execution_count": 45,
      "outputs": [
        {
          "output_type": "stream",
          "text": [
            "['appl', 'stra']\n",
            "appl_val:67\n",
            "stra_val:60\n",
            "validating data set_total：2\n"
          ],
          "name": "stdout"
        }
      ]
    },
    {
      "cell_type": "code",
      "metadata": {
        "id": "5DfBCj6Yl2PC",
        "colab_type": "code",
        "colab": {
          "base_uri": "https://localhost:8080/",
          "height": 422
        },
        "outputId": "18f5be14-8759-4e7e-e4ae-4447a2981e92"
      },
      "source": [
        "print(image_datasets['val'][1])"
      ],
      "execution_count": 47,
      "outputs": [
        {
          "output_type": "stream",
          "text": [
            "(tensor([[[-1.5185, -1.5357, -1.5185,  ..., -1.5014, -1.5014, -1.5014],\n",
            "         [-1.5185, -1.5185, -1.5185,  ..., -1.5185, -1.5014, -1.5014],\n",
            "         [-1.5185, -1.5185, -1.5185,  ..., -1.5185, -1.5185, -1.5014],\n",
            "         ...,\n",
            "         [-2.0323, -2.0494, -2.0323,  ..., -2.1008, -2.0837, -2.1008],\n",
            "         [-2.0323, -2.0323, -2.0494,  ..., -2.1008, -2.1008, -2.1008],\n",
            "         [-2.0494, -2.0494, -2.0323,  ..., -2.1008, -2.1008, -2.1008]],\n",
            "\n",
            "        [[-1.5280, -1.5455, -1.5280,  ..., -1.5105, -1.5105, -1.5105],\n",
            "         [-1.5280, -1.5280, -1.5280,  ..., -1.5280, -1.5105, -1.5105],\n",
            "         [-1.5280, -1.5280, -1.5280,  ..., -1.5280, -1.5280, -1.5105],\n",
            "         ...,\n",
            "         [-1.9482, -1.9657, -1.9482,  ..., -2.0182, -2.0007, -2.0182],\n",
            "         [-1.9482, -1.9482, -1.9657,  ..., -2.0182, -2.0182, -2.0182],\n",
            "         [-1.9657, -1.9657, -1.9482,  ..., -2.0182, -2.0182, -2.0182]],\n",
            "\n",
            "        [[-1.2293, -1.2467, -1.2293,  ..., -1.2293, -1.2119, -1.2119],\n",
            "         [-1.2293, -1.2293, -1.2293,  ..., -1.2467, -1.2119, -1.2119],\n",
            "         [-1.2467, -1.2293, -1.2467,  ..., -1.2467, -1.2293, -1.2119],\n",
            "         ...,\n",
            "         [-1.7173, -1.7347, -1.7173,  ..., -1.7870, -1.7522, -1.7522],\n",
            "         [-1.7173, -1.7173, -1.7347,  ..., -1.7522, -1.7522, -1.7522],\n",
            "         [-1.7347, -1.7347, -1.7173,  ..., -1.7522, -1.7522, -1.7522]]]), 0)\n"
          ],
          "name": "stdout"
        }
      ]
    }
  ]
}