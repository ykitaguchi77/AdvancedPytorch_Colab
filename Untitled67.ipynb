{
  "nbformat": 4,
  "nbformat_minor": 0,
  "metadata": {
    "colab": {
      "name": "Untitled67.ipynb",
      "provenance": [],
      "authorship_tag": "ABX9TyOXvzSENXExIxpNcIO0uEW8",
      "include_colab_link": true
    },
    "kernelspec": {
      "name": "python3",
      "display_name": "Python 3"
    }
  },
  "cells": [
    {
      "cell_type": "markdown",
      "metadata": {
        "id": "view-in-github",
        "colab_type": "text"
      },
      "source": [
        "<a href=\"https://colab.research.google.com/github/ykitaguchi77/AdvancedPytorch_Colab/blob/master/Untitled67.ipynb\" target=\"_parent\"><img src=\"https://colab.research.google.com/assets/colab-badge.svg\" alt=\"Open In Colab\"/></a>"
      ]
    },
    {
      "cell_type": "code",
      "metadata": {
        "id": "HOthOjHTWeD7",
        "colab_type": "code",
        "colab": {
          "base_uri": "https://localhost:8080/",
          "height": 34
        },
        "outputId": "22886013-b527-4a4d-bc9d-4cafef3c2cae"
      },
      "source": [
        "import pandas as pd\n",
        "\n",
        "#google driveをcolabolatoryにマウント\n",
        "from google.colab import drive\n",
        "drive.mount('/content/drive')"
      ],
      "execution_count": 2,
      "outputs": [
        {
          "output_type": "stream",
          "text": [
            "Drive already mounted at /content/drive; to attempt to forcibly remount, call drive.mount(\"/content/drive\", force_remount=True).\n"
          ],
          "name": "stdout"
        }
      ]
    },
    {
      "cell_type": "markdown",
      "metadata": {
        "id": "yeu3z-7dWvm6",
        "colab_type": "text"
      },
      "source": [
        "#**データの格納場所**\n",
        "1ケタ目（ネットワーク）\n",
        "~~~\n",
        "0: EfficientNet_ImageNet\n",
        "1: ResNet50_ImageNet\n",
        "2:ResNet50_VGGFace\n",
        "3: ResNet50_nonPretrained\n",
        "~~~\n",
        "2ケタ目（標本数)\n",
        "~~~\n",
        "0: 558枚\n",
        "1: 256枚\n",
        "2 128枚\n",
        "3: 64枚\n",
        "4: 32枚\n",
        "~~~\n"
      ]
    },
    {
      "cell_type": "code",
      "metadata": {
        "id": "CghOq4ytWvAq",
        "colab_type": "code",
        "colab": {}
      },
      "source": [
        "path = [[0] * 5 for i in range(4)]\n",
        "path[0][0]= \"/content/drive/My Drive/crossvalidation/crossvalidation_csv/crossvalidation_EfficientNet_ImageNet_558.csv\"\n",
        "path[0][1]= \"/content/drive/My Drive/crossvalidation/crossvalidation_csv/crossvalidation_EfficientNet_ImageNet_256.csv\"\n",
        "path[0][2]= \"/content/drive/My Drive/crossvalidation/crossvalidation_csv/crossvalidation_EfficientNet_ImageNet_128.csv\"\n",
        "path[0][3]= \"/content/drive/My Drive/crossvalidation/crossvalidation_csv/crossvalidation_EfficientNet_ImageNet_64.csv\"\n",
        "path[0][4]= \"/content/drive/My Drive/crossvalidation/crossvalidation_csv/crossvalidation_EfficientNet_ImageNet_32.csv\"\n",
        "path[1][0]= \"/content/drive/My Drive/crossvalidation/crossvalidation_csv/crossvalidation_ResNet50_ImageNet_558.csv\"\n",
        "path[1][1]= \"/content/drive/My Drive/crossvalidation/crossvalidation_csv/crossvalidation_ResNet50_ImageNet_256.csv\"\n",
        "path[1][2]= \"/content/drive/My Drive/crossvalidation/crossvalidation_csv/crossvalidation_ResNet50_ImageNet_128.csv\"\n",
        "path[1][3]=  \"/content/drive/My Drive/crossvalidation/crossvalidation_csv/crossvalidation_ResNet50_ImageNet_64.csv\"\n",
        "path[1][4]= \"/content/drive/My Drive/crossvalidation/crossvalidation_csv/crossvalidation_ResNet50_ImageNet_32.csv\"\n",
        "path[2][0]= \"/content/drive/My Drive/crossvalidation/crossvalidation_csv/crossvalidation_ResNet50_VGGFace2_558.csv\"\n",
        "path[2][1]= \"/content/drive/My Drive/crossvalidation/crossvalidation_csv/crossvalidation_ResNet50_VGGFace2_256.csv\"\n",
        "path[2][2]= \"/content/drive/My Drive/crossvalidation/crossvalidation_csv/crossvalidation_ResNet50_VGGFace2_128.csv\"\n",
        "path[2][3]= \"/content/drive/My Drive/crossvalidation/crossvalidation_csv/crossvalidation_ResNet50_VGGFace2_64.csv\"\n",
        "path[3][0]= \"/content/drive/My Drive/crossvalidation/crossvalidation_csv/crossvalidation_ResNet50_nonpretrained_558.csv\"\n",
        "path[3][1]= \"/content/drive/My Drive/crossvalidation/crossvalidation_csv/crossvalidation_ResNet50_nonpretrained_256.csv\"\n",
        "path[3][2]= \"/content/drive/My Drive/crossvalidation/crossvalidation_csv/crossvalidation_ResNet50_nonpretrained_128.csv\"\n",
        "path[3][3]= \"/content/drive/My Drive/crossvalidation/crossvalidation_csv/crossvalidation_ResNet50_nonpretrained_64.csv\"\n",
        "path[3][4]= \"/content/drive/My Drive/crossvalidation/crossvalidation_csv/crossvalidation_ResNet50_nonpretrained_32.csv\"\n",
        "\n",
        "pd.set_option('display.max_columns', 100)\n",
        "pd.set_option('display.max_rows', 100)\n"
      ],
      "execution_count": 16,
      "outputs": []
    },
    {
      "cell_type": "code",
      "metadata": {
        "id": "K9IV42AEWpxC",
        "colab_type": "code",
        "colab": {}
      },
      "source": [
        ""
      ],
      "execution_count": null,
      "outputs": []
    },
    {
      "cell_type": "code",
      "metadata": {
        "id": "BXf8CfiFWWJR",
        "colab_type": "code",
        "colab": {
          "base_uri": "https://localhost:8080/",
          "height": 408
        },
        "outputId": "b78ba839-fc6f-47ba-86b4-776761da62f2"
      },
      "source": [
        "df = pd.read_csv(path[0][0])\n",
        "print(df)"
      ],
      "execution_count": 17,
      "outputs": [
        {
          "output_type": "stream",
          "text": [
            "   Unnamed: 0               Unnamed: 0.1          0          1          2  \\\n",
            "0           0                         TP  39.000000  48.000000  47.000000   \n",
            "1           1                         TN  50.000000  46.000000  47.000000   \n",
            "2           2                         FP   4.000000   8.000000   7.000000   \n",
            "3           3                         FN  15.000000   6.000000   7.000000   \n",
            "4           4                   Accuracy   0.824074   0.870370   0.870370   \n",
            "5           5  Positive predictive value   0.906977   0.857143   0.870370   \n",
            "6           6                  sensitity   0.722222   0.888889   0.870370   \n",
            "7           7                specificity   0.925926   0.851852   0.870370   \n",
            "8           8                    F-value   0.804124   0.872727   0.870370   \n",
            "9           9                    roc_auc   0.922840   0.945130   0.926269   \n",
            "\n",
            "           3          4        avg       std  \n",
            "0  44.000000  45.000000  44.600000  3.507136  \n",
            "1  50.000000  50.000000  48.600000  1.949359  \n",
            "2   4.000000   4.000000   5.400000  1.949359  \n",
            "3  10.000000   9.000000   9.400000  3.507136  \n",
            "4   0.870370   0.879630   0.861559  0.022106  \n",
            "5   0.916667   0.918367   0.890891  0.028252  \n",
            "6   0.814815   0.833333   0.824122  0.064947  \n",
            "7   0.925926   0.925926   0.899015  0.036099  \n",
            "8   0.862745   0.873786   0.856207  0.029734  \n",
            "9   0.921982   0.911523   0.925549  0.012255  \n"
          ],
          "name": "stdout"
        }
      ]
    }
  ]
}